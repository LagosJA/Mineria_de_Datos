{
  "nbformat": 4,
  "nbformat_minor": 0,
  "metadata": {
    "colab": {
      "name": "Notebook_PIA_Equipo1.ipynb",
      "provenance": [],
      "collapsed_sections": [],
      "include_colab_link": true
    },
    "kernelspec": {
      "name": "python3",
      "display_name": "Python 3"
    },
    "language_info": {
      "name": "python"
    }
  },
  "cells": [
    {
      "cell_type": "markdown",
      "metadata": {
        "id": "view-in-github",
        "colab_type": "text"
      },
      "source": [
        "<a href=\"https://colab.research.google.com/github/LagosJA/Mineria_de_Datos/blob/main/Notebook_PIA_Equipo1.ipynb\" target=\"_parent\"><img src=\"https://colab.research.google.com/assets/colab-badge.svg\" alt=\"Open In Colab\"/></a>"
      ]
    },
    {
      "cell_type": "markdown",
      "metadata": {
        "id": "MwerqVybvkEU"
      },
      "source": [
        "# **Corazón a Ritmo Sano**\n",
        "Equipo 1\n",
        "\n",
        "Grupo 002 Miércoles 7-10 PM\n",
        "\n",
        "Integrantes:\n",
        "\n",
        "\n",
        "*   1851448 Muñoz Barrientos Regina\n",
        "*   1941592 Lagos Martinez José Alejandro\n",
        "*   1793775 Rodriguez Guerrero Luisa Victoria\n",
        "*   1849202 Dominguez Victorino Cesar Oswaldo\n",
        "\n",
        "\n",
        "**CORAZÓN A RITMO SANO**\n",
        "\n",
        "https://www.kaggle.com/ronitf/heart-disease-uci\n",
        "\n",
        " **Introducción.**\n",
        "\n",
        "El corazón es uno de los órganos más importantes ya que bombea sangre y suministra oxígeno y nutrientes a todo el cuerpo. Como cumple con estas funciones tan cruciales su bienestar es de suma importancia. Según la OMS, las enfermedades cardiovasculares son actualmente la principal causa de fallecimiento en todo el mundo representando un 31% de todas las muertes registradas. Una herramienta que explore datos sobre la salud de un paciente y datos sobre su corazón podría ayudar a reducir el tiempo en el que a éste se le brinde un diagnóstico y así iniciar tratamiento correspondiente lo más pronto posible, incrementando sus posibilidades de recuperación e incluso prevenir la muerte.\n",
        "\n",
        "**Descripción de los datos.**\n",
        "\n",
        "Se cuenta con una base de datos de tipo .csv con 303 filas, cada fila contiene información real por paciente y contiene 14 columnas, las columnas son las siguientes:\n",
        "\n",
        "*   **age:**  La edad del paciente en años.\n",
        "*   **sex:** El sexo del paciente siendo 1 = hombre y  0 = mujer.\n",
        "*   **cp:** el tipo de dolor en el pecho que experimenta el paciente: (Valor 1: angina típica, Valor 2: angina atípica, Valor 3: dolor no anginoso, Valor 0: asintomático).\n",
        "*   **trestbps:** La presión sanguínea en mmHg tomada al momento de admisión al hospital.\n",
        "*   **chol:** La medida de colesterol en mg/dl\n",
        "*   **fbs:** “Fasting Blood Sugar” es decir el nivel de azúcar en la sangre de la persona en ayunas, si es mayor de 120 mg/dl se le asigna el valor de 1, de lo contrario se le asigna el valor de 0 (> 120 mg/dl, 1 = true; 0 = false).\n",
        "*   **restecg:** Medición electrocardiográfica en reposo (0 = normal, 1 = con anomalía de la onda ST-T, 2 = muestra una probable o definitiva hipertrofia ventricular izquierda según los criterios de Estes)\n",
        "*   **thalach:** El ritmo cardíaco máximo alcanzado por el paciente en latidos por minuto.\n",
        "*   **exang:** Angina de pecho por ejercicio (1 = si se tiene el síntoma; 0 = no se tiene)\n",
        "*   **oldpeak:** Depresión del ST inducida por el ejercicio en relación con el reposo.\n",
        "*   **slope:** la pendiente del pico del segmento ST de ejercicio (Valor 1: pendiente ascendente, Valor 2: plano, Valor 3: pendiente descendente)\n",
        "*   **ca:** El número de vasos principales (0-3)\n",
        "*   **thal:** Un trastorno sanguíneo llamado talasemia (1 = normal; 2 = defecto fijo; 3 = defecto reversible)\n",
        "*   **target:** El paciente tiene una enfermedad del corazón  (0 = no, 1 = si)\n",
        "\n",
        "**Justificación del uso de datos.**\n",
        "\n",
        "Debido a que en México y en el mundo, la cantidad de personas que fallecen a causa de una enfermedad del cardiovascular es enorme, hacer uso de datos para encontrar indicadores de mala salud del corazón es importante.\n",
        "Dentro de la base de datos se encuentra información que puede ser de ayuda para la prevención de dichas enfermedades de corazón, como lo son la edad del paciente, el tipo de dolor de pecho, la presión sanguínea al momento de presentar dolor, si se pudo o no tratar la enfermedad presentada en un paciente, entre otros aspectos importantes. Además de esto, otro factor favorable que se notó al hacer uso de estos datos, es la importancia que tiene cada uno de ellos hacia el proyecto, su fácil entendimiento y manipulación,  y a su vez el impacto favorable que tendrá para el cumplimiento del objetivo principal.\n",
        "\n",
        "Una gran oportunidad para crear un método de contingencia en caso de que un paciente presente alguno de estos síntomas junto con sus características, debido a la complejidad de diagnóstico de una enfermedad cardiaca cada dato presentado es importante en la contribución de la resolución del problema planteado. Como ya fue mencionado, debido al entendimiento que se logró de cada columna de datos, podemos manejarlos de una forma eficiente y que cumpla con lo que se busca lograr.\n",
        "\n",
        "**Objetivo principal.**\n",
        "\n",
        "Predecir el diagnóstico sobre la enfermedad de corazón según los resultados de los exámenes de salud y datos biométricos del paciente.\n",
        "\n",
        "**Objetivos secundarios.**\n",
        "\n",
        "*   Identificar datos de mayor influencia al momento de realizar un diagnóstico.\n",
        "*   Encontrar si existen algún grupo de edad o sexo sea más propenso a presentar problemas cardiacos.\n",
        "\n",
        "\n",
        "**Desarrollo de las herramientas.**\n",
        "\n"
      ]
    },
    {
      "cell_type": "markdown",
      "metadata": {
        "id": "zXS9arkTpehe"
      },
      "source": [
        "#### *Limpieza*\n",
        "\n",
        "Primero se muestra la base de datos original."
      ]
    },
    {
      "cell_type": "code",
      "metadata": {
        "colab": {
          "base_uri": "https://localhost:8080/",
          "height": 257
        },
        "id": "_Mui-qAdvn6D",
        "outputId": "fd88721f-d352-4454-bd01-4ef1f2a4293f"
      },
      "source": [
        "import pandas as pd\n",
        "import numpy as np\n",
        "import seaborn as sns\n",
        "import matplotlib.pyplot as plt\n",
        "import statsmodels.api as sm\n",
        "from sklearn.model_selection import train_test_split\n",
        "from sklearn.linear_model import LogisticRegression\n",
        "from sklearn.metrics import accuracy_score\n",
        "from statsmodels.tools import add_constant\n",
        "from sklearn.tree import DecisionTreeClassifier, export_graphviz\n",
        "from sklearn.svm import SVC\n",
        "df = pd.read_csv(\"heart.csv\")\n",
        "df = pd.read_csv(\"heart.csv\",encoding='utf8')\n",
        "df.head()"
      ],
      "execution_count": 1,
      "outputs": [
        {
          "output_type": "stream",
          "name": "stderr",
          "text": [
            "/usr/local/lib/python3.7/dist-packages/statsmodels/tools/_testing.py:19: FutureWarning: pandas.util.testing is deprecated. Use the functions in the public API at pandas.testing instead.\n",
            "  import pandas.util.testing as tm\n"
          ]
        },
        {
          "output_type": "execute_result",
          "data": {
            "text/html": [
              "<div>\n",
              "<style scoped>\n",
              "    .dataframe tbody tr th:only-of-type {\n",
              "        vertical-align: middle;\n",
              "    }\n",
              "\n",
              "    .dataframe tbody tr th {\n",
              "        vertical-align: top;\n",
              "    }\n",
              "\n",
              "    .dataframe thead th {\n",
              "        text-align: right;\n",
              "    }\n",
              "</style>\n",
              "<table border=\"1\" class=\"dataframe\">\n",
              "  <thead>\n",
              "    <tr style=\"text-align: right;\">\n",
              "      <th></th>\n",
              "      <th>age</th>\n",
              "      <th>sex</th>\n",
              "      <th>cp</th>\n",
              "      <th>trestbps</th>\n",
              "      <th>chol</th>\n",
              "      <th>fbs</th>\n",
              "      <th>restecg</th>\n",
              "      <th>thalach</th>\n",
              "      <th>exang</th>\n",
              "      <th>oldpeak</th>\n",
              "      <th>slope</th>\n",
              "      <th>ca</th>\n",
              "      <th>thal</th>\n",
              "      <th>target</th>\n",
              "    </tr>\n",
              "  </thead>\n",
              "  <tbody>\n",
              "    <tr>\n",
              "      <th>0</th>\n",
              "      <td>63</td>\n",
              "      <td>1</td>\n",
              "      <td>3</td>\n",
              "      <td>145</td>\n",
              "      <td>233</td>\n",
              "      <td>1</td>\n",
              "      <td>0</td>\n",
              "      <td>150</td>\n",
              "      <td>0</td>\n",
              "      <td>2.3</td>\n",
              "      <td>0</td>\n",
              "      <td>0</td>\n",
              "      <td>1</td>\n",
              "      <td>1</td>\n",
              "    </tr>\n",
              "    <tr>\n",
              "      <th>1</th>\n",
              "      <td>37</td>\n",
              "      <td>1</td>\n",
              "      <td>2</td>\n",
              "      <td>130</td>\n",
              "      <td>250</td>\n",
              "      <td>0</td>\n",
              "      <td>1</td>\n",
              "      <td>187</td>\n",
              "      <td>0</td>\n",
              "      <td>3.5</td>\n",
              "      <td>0</td>\n",
              "      <td>0</td>\n",
              "      <td>2</td>\n",
              "      <td>1</td>\n",
              "    </tr>\n",
              "    <tr>\n",
              "      <th>2</th>\n",
              "      <td>41</td>\n",
              "      <td>0</td>\n",
              "      <td>1</td>\n",
              "      <td>130</td>\n",
              "      <td>204</td>\n",
              "      <td>0</td>\n",
              "      <td>0</td>\n",
              "      <td>172</td>\n",
              "      <td>0</td>\n",
              "      <td>1.4</td>\n",
              "      <td>2</td>\n",
              "      <td>0</td>\n",
              "      <td>2</td>\n",
              "      <td>1</td>\n",
              "    </tr>\n",
              "    <tr>\n",
              "      <th>3</th>\n",
              "      <td>56</td>\n",
              "      <td>1</td>\n",
              "      <td>1</td>\n",
              "      <td>120</td>\n",
              "      <td>236</td>\n",
              "      <td>0</td>\n",
              "      <td>1</td>\n",
              "      <td>178</td>\n",
              "      <td>0</td>\n",
              "      <td>0.8</td>\n",
              "      <td>2</td>\n",
              "      <td>0</td>\n",
              "      <td>2</td>\n",
              "      <td>1</td>\n",
              "    </tr>\n",
              "    <tr>\n",
              "      <th>4</th>\n",
              "      <td>57</td>\n",
              "      <td>0</td>\n",
              "      <td>0</td>\n",
              "      <td>120</td>\n",
              "      <td>354</td>\n",
              "      <td>0</td>\n",
              "      <td>1</td>\n",
              "      <td>163</td>\n",
              "      <td>1</td>\n",
              "      <td>0.6</td>\n",
              "      <td>2</td>\n",
              "      <td>0</td>\n",
              "      <td>2</td>\n",
              "      <td>1</td>\n",
              "    </tr>\n",
              "  </tbody>\n",
              "</table>\n",
              "</div>"
            ],
            "text/plain": [
              "   age  sex  cp  trestbps  chol  fbs  ...  exang  oldpeak  slope  ca  thal  target\n",
              "0   63    1   3       145   233    1  ...      0      2.3      0   0     1       1\n",
              "1   37    1   2       130   250    0  ...      0      3.5      0   0     2       1\n",
              "2   41    0   1       130   204    0  ...      0      1.4      2   0     2       1\n",
              "3   56    1   1       120   236    0  ...      0      0.8      2   0     2       1\n",
              "4   57    0   0       120   354    0  ...      1      0.6      2   0     2       1\n",
              "\n",
              "[5 rows x 14 columns]"
            ]
          },
          "metadata": {},
          "execution_count": 1
        }
      ]
    },
    {
      "cell_type": "markdown",
      "metadata": {
        "id": "uGR2wtI3vqWM"
      },
      "source": [
        "El primer cambio que se realizó fue renombrar las columnas para un entendimiento más claro."
      ]
    },
    {
      "cell_type": "code",
      "metadata": {
        "colab": {
          "base_uri": "https://localhost:8080/",
          "height": 203
        },
        "id": "3gMV5y_PvtKM",
        "outputId": "8c248685-b529-4560-9233-ee7bb0011f39"
      },
      "source": [
        "df.columns = ['Edad','Sexo','DolorPecho','PresArtRep','Col','NivAzuAyu','Electro','MaxRitCard','Angina','MinElectro','Pendiente','NumVasSang','thal','Objetivo']\n",
        "df.head()"
      ],
      "execution_count": 2,
      "outputs": [
        {
          "output_type": "execute_result",
          "data": {
            "text/html": [
              "<div>\n",
              "<style scoped>\n",
              "    .dataframe tbody tr th:only-of-type {\n",
              "        vertical-align: middle;\n",
              "    }\n",
              "\n",
              "    .dataframe tbody tr th {\n",
              "        vertical-align: top;\n",
              "    }\n",
              "\n",
              "    .dataframe thead th {\n",
              "        text-align: right;\n",
              "    }\n",
              "</style>\n",
              "<table border=\"1\" class=\"dataframe\">\n",
              "  <thead>\n",
              "    <tr style=\"text-align: right;\">\n",
              "      <th></th>\n",
              "      <th>Edad</th>\n",
              "      <th>Sexo</th>\n",
              "      <th>DolorPecho</th>\n",
              "      <th>PresArtRep</th>\n",
              "      <th>Col</th>\n",
              "      <th>NivAzuAyu</th>\n",
              "      <th>Electro</th>\n",
              "      <th>MaxRitCard</th>\n",
              "      <th>Angina</th>\n",
              "      <th>MinElectro</th>\n",
              "      <th>Pendiente</th>\n",
              "      <th>NumVasSang</th>\n",
              "      <th>thal</th>\n",
              "      <th>Objetivo</th>\n",
              "    </tr>\n",
              "  </thead>\n",
              "  <tbody>\n",
              "    <tr>\n",
              "      <th>0</th>\n",
              "      <td>63</td>\n",
              "      <td>1</td>\n",
              "      <td>3</td>\n",
              "      <td>145</td>\n",
              "      <td>233</td>\n",
              "      <td>1</td>\n",
              "      <td>0</td>\n",
              "      <td>150</td>\n",
              "      <td>0</td>\n",
              "      <td>2.3</td>\n",
              "      <td>0</td>\n",
              "      <td>0</td>\n",
              "      <td>1</td>\n",
              "      <td>1</td>\n",
              "    </tr>\n",
              "    <tr>\n",
              "      <th>1</th>\n",
              "      <td>37</td>\n",
              "      <td>1</td>\n",
              "      <td>2</td>\n",
              "      <td>130</td>\n",
              "      <td>250</td>\n",
              "      <td>0</td>\n",
              "      <td>1</td>\n",
              "      <td>187</td>\n",
              "      <td>0</td>\n",
              "      <td>3.5</td>\n",
              "      <td>0</td>\n",
              "      <td>0</td>\n",
              "      <td>2</td>\n",
              "      <td>1</td>\n",
              "    </tr>\n",
              "    <tr>\n",
              "      <th>2</th>\n",
              "      <td>41</td>\n",
              "      <td>0</td>\n",
              "      <td>1</td>\n",
              "      <td>130</td>\n",
              "      <td>204</td>\n",
              "      <td>0</td>\n",
              "      <td>0</td>\n",
              "      <td>172</td>\n",
              "      <td>0</td>\n",
              "      <td>1.4</td>\n",
              "      <td>2</td>\n",
              "      <td>0</td>\n",
              "      <td>2</td>\n",
              "      <td>1</td>\n",
              "    </tr>\n",
              "    <tr>\n",
              "      <th>3</th>\n",
              "      <td>56</td>\n",
              "      <td>1</td>\n",
              "      <td>1</td>\n",
              "      <td>120</td>\n",
              "      <td>236</td>\n",
              "      <td>0</td>\n",
              "      <td>1</td>\n",
              "      <td>178</td>\n",
              "      <td>0</td>\n",
              "      <td>0.8</td>\n",
              "      <td>2</td>\n",
              "      <td>0</td>\n",
              "      <td>2</td>\n",
              "      <td>1</td>\n",
              "    </tr>\n",
              "    <tr>\n",
              "      <th>4</th>\n",
              "      <td>57</td>\n",
              "      <td>0</td>\n",
              "      <td>0</td>\n",
              "      <td>120</td>\n",
              "      <td>354</td>\n",
              "      <td>0</td>\n",
              "      <td>1</td>\n",
              "      <td>163</td>\n",
              "      <td>1</td>\n",
              "      <td>0.6</td>\n",
              "      <td>2</td>\n",
              "      <td>0</td>\n",
              "      <td>2</td>\n",
              "      <td>1</td>\n",
              "    </tr>\n",
              "  </tbody>\n",
              "</table>\n",
              "</div>"
            ],
            "text/plain": [
              "   Edad  Sexo  DolorPecho  PresArtRep  ...  Pendiente  NumVasSang  thal  Objetivo\n",
              "0    63     1           3         145  ...          0           0     1         1\n",
              "1    37     1           2         130  ...          0           0     2         1\n",
              "2    41     0           1         130  ...          2           0     2         1\n",
              "3    56     1           1         120  ...          2           0     2         1\n",
              "4    57     0           0         120  ...          2           0     2         1\n",
              "\n",
              "[5 rows x 14 columns]"
            ]
          },
          "metadata": {},
          "execution_count": 2
        }
      ]
    },
    {
      "cell_type": "markdown",
      "metadata": {
        "id": "e1CXYLKNvv8E"
      },
      "source": [
        "Después se escaneó la base de datos en busca de datos nulos y se descubrio que no existía ninguno."
      ]
    },
    {
      "cell_type": "code",
      "metadata": {
        "colab": {
          "base_uri": "https://localhost:8080/"
        },
        "id": "mvx3x_arvyQ5",
        "outputId": "f2743565-f579-4a19-bdfc-9cf25ba9f771"
      },
      "source": [
        "df.isnull().sum()"
      ],
      "execution_count": 3,
      "outputs": [
        {
          "output_type": "execute_result",
          "data": {
            "text/plain": [
              "Edad          0\n",
              "Sexo          0\n",
              "DolorPecho    0\n",
              "PresArtRep    0\n",
              "Col           0\n",
              "NivAzuAyu     0\n",
              "Electro       0\n",
              "MaxRitCard    0\n",
              "Angina        0\n",
              "MinElectro    0\n",
              "Pendiente     0\n",
              "NumVasSang    0\n",
              "thal          0\n",
              "Objetivo      0\n",
              "dtype: int64"
            ]
          },
          "metadata": {},
          "execution_count": 3
        }
      ]
    },
    {
      "cell_type": "markdown",
      "metadata": {
        "id": "DY8IFO81xYNn"
      },
      "source": [
        "####*Estadística Básica de los Datos*\n",
        "\n",
        "Vemos que no hay ningún dato nulo así que procedemos a la sección de Estadística."
      ]
    },
    {
      "cell_type": "code",
      "metadata": {
        "colab": {
          "base_uri": "https://localhost:8080/",
          "height": 315
        },
        "id": "OSWo2JLWyJTH",
        "outputId": "01f4edd8-e0e4-4b70-bcbb-94d93b74af04"
      },
      "source": [
        "df.describe()"
      ],
      "execution_count": 4,
      "outputs": [
        {
          "output_type": "execute_result",
          "data": {
            "text/html": [
              "<div>\n",
              "<style scoped>\n",
              "    .dataframe tbody tr th:only-of-type {\n",
              "        vertical-align: middle;\n",
              "    }\n",
              "\n",
              "    .dataframe tbody tr th {\n",
              "        vertical-align: top;\n",
              "    }\n",
              "\n",
              "    .dataframe thead th {\n",
              "        text-align: right;\n",
              "    }\n",
              "</style>\n",
              "<table border=\"1\" class=\"dataframe\">\n",
              "  <thead>\n",
              "    <tr style=\"text-align: right;\">\n",
              "      <th></th>\n",
              "      <th>Edad</th>\n",
              "      <th>Sexo</th>\n",
              "      <th>DolorPecho</th>\n",
              "      <th>PresArtRep</th>\n",
              "      <th>Col</th>\n",
              "      <th>NivAzuAyu</th>\n",
              "      <th>Electro</th>\n",
              "      <th>MaxRitCard</th>\n",
              "      <th>Angina</th>\n",
              "      <th>MinElectro</th>\n",
              "      <th>Pendiente</th>\n",
              "      <th>NumVasSang</th>\n",
              "      <th>thal</th>\n",
              "      <th>Objetivo</th>\n",
              "    </tr>\n",
              "  </thead>\n",
              "  <tbody>\n",
              "    <tr>\n",
              "      <th>count</th>\n",
              "      <td>303.000000</td>\n",
              "      <td>303.000000</td>\n",
              "      <td>303.000000</td>\n",
              "      <td>303.000000</td>\n",
              "      <td>303.000000</td>\n",
              "      <td>303.000000</td>\n",
              "      <td>303.000000</td>\n",
              "      <td>303.000000</td>\n",
              "      <td>303.000000</td>\n",
              "      <td>303.000000</td>\n",
              "      <td>303.000000</td>\n",
              "      <td>303.000000</td>\n",
              "      <td>303.000000</td>\n",
              "      <td>303.000000</td>\n",
              "    </tr>\n",
              "    <tr>\n",
              "      <th>mean</th>\n",
              "      <td>54.366337</td>\n",
              "      <td>0.683168</td>\n",
              "      <td>0.966997</td>\n",
              "      <td>131.623762</td>\n",
              "      <td>246.264026</td>\n",
              "      <td>0.148515</td>\n",
              "      <td>0.528053</td>\n",
              "      <td>149.646865</td>\n",
              "      <td>0.326733</td>\n",
              "      <td>1.039604</td>\n",
              "      <td>1.399340</td>\n",
              "      <td>0.729373</td>\n",
              "      <td>2.313531</td>\n",
              "      <td>0.544554</td>\n",
              "    </tr>\n",
              "    <tr>\n",
              "      <th>std</th>\n",
              "      <td>9.082101</td>\n",
              "      <td>0.466011</td>\n",
              "      <td>1.032052</td>\n",
              "      <td>17.538143</td>\n",
              "      <td>51.830751</td>\n",
              "      <td>0.356198</td>\n",
              "      <td>0.525860</td>\n",
              "      <td>22.905161</td>\n",
              "      <td>0.469794</td>\n",
              "      <td>1.161075</td>\n",
              "      <td>0.616226</td>\n",
              "      <td>1.022606</td>\n",
              "      <td>0.612277</td>\n",
              "      <td>0.498835</td>\n",
              "    </tr>\n",
              "    <tr>\n",
              "      <th>min</th>\n",
              "      <td>29.000000</td>\n",
              "      <td>0.000000</td>\n",
              "      <td>0.000000</td>\n",
              "      <td>94.000000</td>\n",
              "      <td>126.000000</td>\n",
              "      <td>0.000000</td>\n",
              "      <td>0.000000</td>\n",
              "      <td>71.000000</td>\n",
              "      <td>0.000000</td>\n",
              "      <td>0.000000</td>\n",
              "      <td>0.000000</td>\n",
              "      <td>0.000000</td>\n",
              "      <td>0.000000</td>\n",
              "      <td>0.000000</td>\n",
              "    </tr>\n",
              "    <tr>\n",
              "      <th>25%</th>\n",
              "      <td>47.500000</td>\n",
              "      <td>0.000000</td>\n",
              "      <td>0.000000</td>\n",
              "      <td>120.000000</td>\n",
              "      <td>211.000000</td>\n",
              "      <td>0.000000</td>\n",
              "      <td>0.000000</td>\n",
              "      <td>133.500000</td>\n",
              "      <td>0.000000</td>\n",
              "      <td>0.000000</td>\n",
              "      <td>1.000000</td>\n",
              "      <td>0.000000</td>\n",
              "      <td>2.000000</td>\n",
              "      <td>0.000000</td>\n",
              "    </tr>\n",
              "    <tr>\n",
              "      <th>50%</th>\n",
              "      <td>55.000000</td>\n",
              "      <td>1.000000</td>\n",
              "      <td>1.000000</td>\n",
              "      <td>130.000000</td>\n",
              "      <td>240.000000</td>\n",
              "      <td>0.000000</td>\n",
              "      <td>1.000000</td>\n",
              "      <td>153.000000</td>\n",
              "      <td>0.000000</td>\n",
              "      <td>0.800000</td>\n",
              "      <td>1.000000</td>\n",
              "      <td>0.000000</td>\n",
              "      <td>2.000000</td>\n",
              "      <td>1.000000</td>\n",
              "    </tr>\n",
              "    <tr>\n",
              "      <th>75%</th>\n",
              "      <td>61.000000</td>\n",
              "      <td>1.000000</td>\n",
              "      <td>2.000000</td>\n",
              "      <td>140.000000</td>\n",
              "      <td>274.500000</td>\n",
              "      <td>0.000000</td>\n",
              "      <td>1.000000</td>\n",
              "      <td>166.000000</td>\n",
              "      <td>1.000000</td>\n",
              "      <td>1.600000</td>\n",
              "      <td>2.000000</td>\n",
              "      <td>1.000000</td>\n",
              "      <td>3.000000</td>\n",
              "      <td>1.000000</td>\n",
              "    </tr>\n",
              "    <tr>\n",
              "      <th>max</th>\n",
              "      <td>77.000000</td>\n",
              "      <td>1.000000</td>\n",
              "      <td>3.000000</td>\n",
              "      <td>200.000000</td>\n",
              "      <td>564.000000</td>\n",
              "      <td>1.000000</td>\n",
              "      <td>2.000000</td>\n",
              "      <td>202.000000</td>\n",
              "      <td>1.000000</td>\n",
              "      <td>6.200000</td>\n",
              "      <td>2.000000</td>\n",
              "      <td>4.000000</td>\n",
              "      <td>3.000000</td>\n",
              "      <td>1.000000</td>\n",
              "    </tr>\n",
              "  </tbody>\n",
              "</table>\n",
              "</div>"
            ],
            "text/plain": [
              "             Edad        Sexo  DolorPecho  ...  NumVasSang        thal    Objetivo\n",
              "count  303.000000  303.000000  303.000000  ...  303.000000  303.000000  303.000000\n",
              "mean    54.366337    0.683168    0.966997  ...    0.729373    2.313531    0.544554\n",
              "std      9.082101    0.466011    1.032052  ...    1.022606    0.612277    0.498835\n",
              "min     29.000000    0.000000    0.000000  ...    0.000000    0.000000    0.000000\n",
              "25%     47.500000    0.000000    0.000000  ...    0.000000    2.000000    0.000000\n",
              "50%     55.000000    1.000000    1.000000  ...    0.000000    2.000000    1.000000\n",
              "75%     61.000000    1.000000    2.000000  ...    1.000000    3.000000    1.000000\n",
              "max     77.000000    1.000000    3.000000  ...    4.000000    3.000000    1.000000\n",
              "\n",
              "[8 rows x 14 columns]"
            ]
          },
          "metadata": {},
          "execution_count": 4
        }
      ]
    },
    {
      "cell_type": "markdown",
      "metadata": {
        "id": "sNTcym1qv0c0"
      },
      "source": [
        "Nótese que en la columna NumVasSang el máximo es 4 y que en la columna thal el mínimo es 0.\n",
        "\n",
        "Según la descripción de los datos en Kaggle, la columna thal debe contener valores 1, 2 ó 3, por lo que el mínimo no debería ser cero.\n",
        "De la misma forma para la columna NumVasSang, esta debe contener datos 0, 1, 2 ó 3, como el máximo es 4, significa que algo no está bien.\n",
        "\n",
        "Se descubrieron estas inconformidades entre los datos, por lo que se investigó y se encontró que los datos fueron obtenidos de las bases de datos del hospital de Cleveland y comparando estas dos bases se descubrió que sí existían datos nulos en la original y en la utilizada habían sido llenados con otros valores por lo que se decidió eliminar las filas que contenían estos datos nulos.\n",
        "\n",
        "Esta información se consiguió en este foro de discusión: [https://www.kaggle.com/ronitf/heart-disease-uci/discussion/105877](https://www.kaggle.com/ronitf/heart-disease-uci/discussion/105877)\n",
        "\n"
      ]
    },
    {
      "cell_type": "code",
      "metadata": {
        "id": "P7hAX74tv2n1",
        "colab": {
          "base_uri": "https://localhost:8080/",
          "height": 315
        },
        "outputId": "8599f34d-edd1-4f8a-bc8f-bc3c0dff6e94"
      },
      "source": [
        "df=df.drop(df[df['NumVasSang'] == 4].index)\n",
        "df=df.drop(df[df['thal'] == 0].index)\n",
        "df.describe()"
      ],
      "execution_count": 5,
      "outputs": [
        {
          "output_type": "execute_result",
          "data": {
            "text/html": [
              "<div>\n",
              "<style scoped>\n",
              "    .dataframe tbody tr th:only-of-type {\n",
              "        vertical-align: middle;\n",
              "    }\n",
              "\n",
              "    .dataframe tbody tr th {\n",
              "        vertical-align: top;\n",
              "    }\n",
              "\n",
              "    .dataframe thead th {\n",
              "        text-align: right;\n",
              "    }\n",
              "</style>\n",
              "<table border=\"1\" class=\"dataframe\">\n",
              "  <thead>\n",
              "    <tr style=\"text-align: right;\">\n",
              "      <th></th>\n",
              "      <th>Edad</th>\n",
              "      <th>Sexo</th>\n",
              "      <th>DolorPecho</th>\n",
              "      <th>PresArtRep</th>\n",
              "      <th>Col</th>\n",
              "      <th>NivAzuAyu</th>\n",
              "      <th>Electro</th>\n",
              "      <th>MaxRitCard</th>\n",
              "      <th>Angina</th>\n",
              "      <th>MinElectro</th>\n",
              "      <th>Pendiente</th>\n",
              "      <th>NumVasSang</th>\n",
              "      <th>thal</th>\n",
              "      <th>Objetivo</th>\n",
              "    </tr>\n",
              "  </thead>\n",
              "  <tbody>\n",
              "    <tr>\n",
              "      <th>count</th>\n",
              "      <td>296.000000</td>\n",
              "      <td>296.000000</td>\n",
              "      <td>296.000000</td>\n",
              "      <td>296.00000</td>\n",
              "      <td>296.000000</td>\n",
              "      <td>296.00000</td>\n",
              "      <td>296.000000</td>\n",
              "      <td>296.000000</td>\n",
              "      <td>296.000000</td>\n",
              "      <td>296.000000</td>\n",
              "      <td>296.000000</td>\n",
              "      <td>296.000000</td>\n",
              "      <td>296.000000</td>\n",
              "      <td>296.000000</td>\n",
              "    </tr>\n",
              "    <tr>\n",
              "      <th>mean</th>\n",
              "      <td>54.523649</td>\n",
              "      <td>0.679054</td>\n",
              "      <td>0.959459</td>\n",
              "      <td>131.60473</td>\n",
              "      <td>247.155405</td>\n",
              "      <td>0.14527</td>\n",
              "      <td>0.523649</td>\n",
              "      <td>149.560811</td>\n",
              "      <td>0.327703</td>\n",
              "      <td>1.059122</td>\n",
              "      <td>1.395270</td>\n",
              "      <td>0.679054</td>\n",
              "      <td>2.327703</td>\n",
              "      <td>0.540541</td>\n",
              "    </tr>\n",
              "    <tr>\n",
              "      <th>std</th>\n",
              "      <td>9.059471</td>\n",
              "      <td>0.467631</td>\n",
              "      <td>1.034184</td>\n",
              "      <td>17.72662</td>\n",
              "      <td>51.977011</td>\n",
              "      <td>0.35297</td>\n",
              "      <td>0.526692</td>\n",
              "      <td>22.970792</td>\n",
              "      <td>0.470171</td>\n",
              "      <td>1.166474</td>\n",
              "      <td>0.618235</td>\n",
              "      <td>0.939726</td>\n",
              "      <td>0.585743</td>\n",
              "      <td>0.499198</td>\n",
              "    </tr>\n",
              "    <tr>\n",
              "      <th>min</th>\n",
              "      <td>29.000000</td>\n",
              "      <td>0.000000</td>\n",
              "      <td>0.000000</td>\n",
              "      <td>94.00000</td>\n",
              "      <td>126.000000</td>\n",
              "      <td>0.00000</td>\n",
              "      <td>0.000000</td>\n",
              "      <td>71.000000</td>\n",
              "      <td>0.000000</td>\n",
              "      <td>0.000000</td>\n",
              "      <td>0.000000</td>\n",
              "      <td>0.000000</td>\n",
              "      <td>1.000000</td>\n",
              "      <td>0.000000</td>\n",
              "    </tr>\n",
              "    <tr>\n",
              "      <th>25%</th>\n",
              "      <td>48.000000</td>\n",
              "      <td>0.000000</td>\n",
              "      <td>0.000000</td>\n",
              "      <td>120.00000</td>\n",
              "      <td>211.000000</td>\n",
              "      <td>0.00000</td>\n",
              "      <td>0.000000</td>\n",
              "      <td>133.000000</td>\n",
              "      <td>0.000000</td>\n",
              "      <td>0.000000</td>\n",
              "      <td>1.000000</td>\n",
              "      <td>0.000000</td>\n",
              "      <td>2.000000</td>\n",
              "      <td>0.000000</td>\n",
              "    </tr>\n",
              "    <tr>\n",
              "      <th>50%</th>\n",
              "      <td>56.000000</td>\n",
              "      <td>1.000000</td>\n",
              "      <td>1.000000</td>\n",
              "      <td>130.00000</td>\n",
              "      <td>242.500000</td>\n",
              "      <td>0.00000</td>\n",
              "      <td>1.000000</td>\n",
              "      <td>152.500000</td>\n",
              "      <td>0.000000</td>\n",
              "      <td>0.800000</td>\n",
              "      <td>1.000000</td>\n",
              "      <td>0.000000</td>\n",
              "      <td>2.000000</td>\n",
              "      <td>1.000000</td>\n",
              "    </tr>\n",
              "    <tr>\n",
              "      <th>75%</th>\n",
              "      <td>61.000000</td>\n",
              "      <td>1.000000</td>\n",
              "      <td>2.000000</td>\n",
              "      <td>140.00000</td>\n",
              "      <td>275.250000</td>\n",
              "      <td>0.00000</td>\n",
              "      <td>1.000000</td>\n",
              "      <td>166.000000</td>\n",
              "      <td>1.000000</td>\n",
              "      <td>1.650000</td>\n",
              "      <td>2.000000</td>\n",
              "      <td>1.000000</td>\n",
              "      <td>3.000000</td>\n",
              "      <td>1.000000</td>\n",
              "    </tr>\n",
              "    <tr>\n",
              "      <th>max</th>\n",
              "      <td>77.000000</td>\n",
              "      <td>1.000000</td>\n",
              "      <td>3.000000</td>\n",
              "      <td>200.00000</td>\n",
              "      <td>564.000000</td>\n",
              "      <td>1.00000</td>\n",
              "      <td>2.000000</td>\n",
              "      <td>202.000000</td>\n",
              "      <td>1.000000</td>\n",
              "      <td>6.200000</td>\n",
              "      <td>2.000000</td>\n",
              "      <td>3.000000</td>\n",
              "      <td>3.000000</td>\n",
              "      <td>1.000000</td>\n",
              "    </tr>\n",
              "  </tbody>\n",
              "</table>\n",
              "</div>"
            ],
            "text/plain": [
              "             Edad        Sexo  DolorPecho  ...  NumVasSang        thal    Objetivo\n",
              "count  296.000000  296.000000  296.000000  ...  296.000000  296.000000  296.000000\n",
              "mean    54.523649    0.679054    0.959459  ...    0.679054    2.327703    0.540541\n",
              "std      9.059471    0.467631    1.034184  ...    0.939726    0.585743    0.499198\n",
              "min     29.000000    0.000000    0.000000  ...    0.000000    1.000000    0.000000\n",
              "25%     48.000000    0.000000    0.000000  ...    0.000000    2.000000    0.000000\n",
              "50%     56.000000    1.000000    1.000000  ...    0.000000    2.000000    1.000000\n",
              "75%     61.000000    1.000000    2.000000  ...    1.000000    3.000000    1.000000\n",
              "max     77.000000    1.000000    3.000000  ...    3.000000    3.000000    1.000000\n",
              "\n",
              "[8 rows x 14 columns]"
            ]
          },
          "metadata": {},
          "execution_count": 5
        }
      ]
    },
    {
      "cell_type": "code",
      "metadata": {
        "id": "-2JqPc9tv77s"
      },
      "source": [
        "df.to_csv(\"/content/HeartLimpio.csv\",index=False)"
      ],
      "execution_count": 6,
      "outputs": []
    },
    {
      "cell_type": "markdown",
      "metadata": {
        "id": "mlpGxltkz7rT"
      },
      "source": [
        "Se eliminaron y registros por los motivos anteriores. Entre los aspectos importantes a notar sobre la estadística de los datos es que la media y mediana de colesterol son mayores a 200 mg/dL. Un nivel normal de colesterol es entre 125 y 200 mg/dL. Es decir que la mayoría de los pacientes en el registro presentan un nivel alto de colesterol.\n",
        "\n",
        "Como la columna de NivAzuAyu vale 1 si el nivel de azucar es alto y 0 si no, la media es la proporción de pacientes que si cumplen con la condición. En este caso solo 14.52% de los pacientes presentan un nivel de azucar mayor a 120 mg/dL.\n",
        "\n",
        "Con la misma lógica, vemos que el 67.9% de los registros corresponden a pacientes del sexo masculino. Observamos 54% de los pacientes fueron diagnosticados con una enfermedad del corazón. Además la edad media de los pacientes es de 54.52 años.\n",
        "\n"
      ]
    },
    {
      "cell_type": "markdown",
      "metadata": {
        "id": "osIMaUos0NEJ"
      },
      "source": [
        "####*Visualización*\n",
        "\n",
        "Empezaremos con la proporción de pacientes diagnosticados con una enfermedad del corazón en la base de datos. Nos apoyaremos de una gráfica de pastel."
      ]
    },
    {
      "cell_type": "code",
      "metadata": {
        "colab": {
          "base_uri": "https://localhost:8080/",
          "height": 264
        },
        "id": "mTESOUeZ6fK1",
        "outputId": "fbabe413-42cb-4d7c-df5e-5de0d6dbf408"
      },
      "source": [
        "df_target = df.groupby(\"Objetivo\").size()\n",
        "plt.pie(df_target.values, labels = [\"Sano del Corazón\", \"Enfermo del Corazón\"], autopct='%1.2f%%', radius = 1, textprops = {\"fontsize\" : 12}) \n",
        "plt.title(\"Proporción Sanos y Enfermos\")\n",
        "plt.show()"
      ],
      "execution_count": 8,
      "outputs": [
        {
          "output_type": "display_data",
          "data": {
            "image/png": "[encoded data removed]",
            "text/plain": [
              "<Figure size 432x288 with 1 Axes>"
            ]
          },
          "metadata": {}
        }
      ]
    },
    {
      "cell_type": "markdown",
      "metadata": {
        "id": "XQs4E9nU6qvl"
      },
      "source": [
        "En esta gráfica podemos ver que contamos con una proporción similar de registros para pacientes que fueron diagnosticados con una enfermedad del corazón y los que no. ¿Qué pasa si los separamos por sexo?"
      ]
    },
    {
      "cell_type": "code",
      "metadata": {
        "colab": {
          "base_uri": "https://localhost:8080/",
          "height": 142
        },
        "id": "tPRqWoQ17hq5",
        "outputId": "94eb93d3-ebb0-4756-fd8c-88358fa29732"
      },
      "source": [
        "h=df.loc[df['Objetivo']==1,'Sexo'].value_counts()\n",
        "m=df.loc[df['Objetivo']==0,'Sexo'].value_counts()\n",
        "n=[\"Hombres\",\"Mujeres\"]\n",
        "bd = pd.DataFrame({\"Sexo\":n, \"Enfermos\":h, \"Sanos\":m})\n",
        "bd= bd.set_index(\"Sexo\")\n",
        "bd"
      ],
      "execution_count": 9,
      "outputs": [
        {
          "output_type": "execute_result",
          "data": {
            "text/html": [
              "<div>\n",
              "<style scoped>\n",
              "    .dataframe tbody tr th:only-of-type {\n",
              "        vertical-align: middle;\n",
              "    }\n",
              "\n",
              "    .dataframe tbody tr th {\n",
              "        vertical-align: top;\n",
              "    }\n",
              "\n",
              "    .dataframe thead th {\n",
              "        text-align: right;\n",
              "    }\n",
              "</style>\n",
              "<table border=\"1\" class=\"dataframe\">\n",
              "  <thead>\n",
              "    <tr style=\"text-align: right;\">\n",
              "      <th></th>\n",
              "      <th>Enfermos</th>\n",
              "      <th>Sanos</th>\n",
              "    </tr>\n",
              "    <tr>\n",
              "      <th>Sexo</th>\n",
              "      <th></th>\n",
              "      <th></th>\n",
              "    </tr>\n",
              "  </thead>\n",
              "  <tbody>\n",
              "    <tr>\n",
              "      <th>Hombres</th>\n",
              "      <td>89</td>\n",
              "      <td>112</td>\n",
              "    </tr>\n",
              "    <tr>\n",
              "      <th>Mujeres</th>\n",
              "      <td>71</td>\n",
              "      <td>24</td>\n",
              "    </tr>\n",
              "  </tbody>\n",
              "</table>\n",
              "</div>"
            ],
            "text/plain": [
              "         Enfermos  Sanos\n",
              "Sexo                    \n",
              "Hombres        89    112\n",
              "Mujeres        71     24"
            ]
          },
          "metadata": {},
          "execution_count": 9
        }
      ]
    },
    {
      "cell_type": "code",
      "metadata": {
        "colab": {
          "base_uri": "https://localhost:8080/",
          "height": 331
        },
        "id": "wThWJMalD4ds",
        "outputId": "c80b3d5f-c19e-4703-ce91-6e0dde989ee4"
      },
      "source": [
        "bd.plot.bar(stacked=True)"
      ],
      "execution_count": 10,
      "outputs": [
        {
          "output_type": "execute_result",
          "data": {
            "text/plain": [
              "<matplotlib.axes._subplots.AxesSubplot at 0x7efc4e2b9e90>"
            ]
          },
          "metadata": {},
          "execution_count": 10
        },
        {
          "output_type": "display_data",
          "data": {
            "image/png": "[encoded data removed]",
            "text/plain": [
              "<Figure size 432x288 with 1 Axes>"
            ]
          },
          "metadata": {
            "needs_background": "light"
          }
        }
      ]
    },
    {
      "cell_type": "markdown",
      "metadata": {
        "id": "txdCKJkd7rsX"
      },
      "source": [
        "Separando los pacientes por su sexo y su diagnóstico obtenemos más información. Hay muchas más mujeres que fueron diagnosticadas con enfermedades del corazón en comparación a las que no. En el caso de los hombres, hay más sanos que enfermos. También vemos que hay aproximadamente el doble de pacientes masculinos a comparación a los del sexo femenino.\n",
        "\n",
        "Viendo esta relación entre el sexo y el diagnóstico, ¿cómo afectará la edad al diagnóstico?"
      ]
    },
    {
      "cell_type": "code",
      "metadata": {
        "colab": {
          "base_uri": "https://localhost:8080/",
          "height": 295
        },
        "id": "XitSOV3A-kSW",
        "outputId": "13c4691f-0ae8-4d36-8a9d-7ac830b8f310"
      },
      "source": [
        "m = plt.hist(df[df[\"Objetivo\"] == 1].Edad,bins=30,fc = (1,0,0,0.5),label = \"Enfermo\")\n",
        "b = plt.hist(df[df[\"Objetivo\"] == 0].Edad,bins=30,fc = (0,1,0,0.5),label = \"Sano\")\n",
        "plt.legend()\n",
        "plt.xlabel(\"Edad\")\n",
        "plt.ylabel(\"Frecuencia\")\n",
        "plt.title(\"Histograma\")\n",
        "plt.show()"
      ],
      "execution_count": 11,
      "outputs": [
        {
          "output_type": "display_data",
          "data": {
            "image/png": "[encoded data removed]",
            "text/plain": [
              "<Figure size 432x288 with 1 Axes>"
            ]
          },
          "metadata": {
            "needs_background": "light"
          }
        }
      ]
    },
    {
      "cell_type": "markdown",
      "metadata": {
        "id": "-BlUudCa-w22"
      },
      "source": [
        "A diferencia de lo que se esperaría, la disribución de frecuencia de los pacientes diagnosticados con enfermedades del corazón está a la izquierda de los pacientes sanos del corazón. Esto idica que en general los pacientes que son diagnosticados con una enfermedad del corazón tienden a ser más jóvenes que los sanos. Después de ver como el sexo y la edad afectan al diagnóstico, ¿qué informacón nos pueden dar los indicadores de salud sobre el diagnóstico?\n"
      ]
    },
    {
      "cell_type": "code",
      "metadata": {
        "colab": {
          "base_uri": "https://localhost:8080/",
          "height": 513
        },
        "id": "mHNWr2cgFE-y",
        "outputId": "6c479b34-42e4-4147-d35c-7f9af4f423f5"
      },
      "source": [
        "mdata = pd.melt(df,id_vars = \"Objetivo\",value_vars = ['PresArtRep', 'MaxRitCard'])\n",
        "plt.figure(figsize = (11,8))\n",
        "sns.boxplot(x = \"variable\", y = \"value\", hue=\"Objetivo\",data= mdata)\n",
        "plt.title(\"Boxplot Presión Arterial en Reposo y Máximo Ritmo Cardiaco\")\n",
        "plt.show()"
      ],
      "execution_count": 12,
      "outputs": [
        {
          "output_type": "display_data",
          "data": {
            "image/png": "[encoded data removed]",
            "text/plain": [
              "<Figure size 792x576 with 1 Axes>"
            ]
          },
          "metadata": {
            "needs_background": "light"
          }
        }
      ]
    },
    {
      "cell_type": "markdown",
      "metadata": {
        "id": "AeF4CywlGPlY"
      },
      "source": [
        "Vemos que los pacientes que no fueron diagnosticados con una enfermedad del corazón tienden a mostrar mayor presión arterial en reposo pero un máximo ritmo cardiaco más bajo. "
      ]
    },
    {
      "cell_type": "code",
      "metadata": {
        "colab": {
          "base_uri": "https://localhost:8080/",
          "height": 110
        },
        "id": "1Uds5lZ_227w",
        "outputId": "52ae5547-7494-428c-9cf4-d75e41e28872"
      },
      "source": [
        "df[(df['PresArtRep']>180) & (df['Objetivo']==0)]"
      ],
      "execution_count": 48,
      "outputs": [
        {
          "output_type": "execute_result",
          "data": {
            "text/html": [
              "<div>\n",
              "<style scoped>\n",
              "    .dataframe tbody tr th:only-of-type {\n",
              "        vertical-align: middle;\n",
              "    }\n",
              "\n",
              "    .dataframe tbody tr th {\n",
              "        vertical-align: top;\n",
              "    }\n",
              "\n",
              "    .dataframe thead th {\n",
              "        text-align: right;\n",
              "    }\n",
              "</style>\n",
              "<table border=\"1\" class=\"dataframe\">\n",
              "  <thead>\n",
              "    <tr style=\"text-align: right;\">\n",
              "      <th></th>\n",
              "      <th>Edad</th>\n",
              "      <th>Sexo</th>\n",
              "      <th>DolorPecho</th>\n",
              "      <th>PresArtRep</th>\n",
              "      <th>Col</th>\n",
              "      <th>NivAzuAyu</th>\n",
              "      <th>Electro</th>\n",
              "      <th>MaxRitCard</th>\n",
              "      <th>Angina</th>\n",
              "      <th>MinElectro</th>\n",
              "      <th>Pendiente</th>\n",
              "      <th>NumVasSang</th>\n",
              "      <th>thal</th>\n",
              "      <th>Objetivo</th>\n",
              "    </tr>\n",
              "  </thead>\n",
              "  <tbody>\n",
              "    <tr>\n",
              "      <th>223</th>\n",
              "      <td>56</td>\n",
              "      <td>0</td>\n",
              "      <td>0</td>\n",
              "      <td>200</td>\n",
              "      <td>288</td>\n",
              "      <td>1</td>\n",
              "      <td>0</td>\n",
              "      <td>133</td>\n",
              "      <td>1</td>\n",
              "      <td>4.0</td>\n",
              "      <td>0</td>\n",
              "      <td>2</td>\n",
              "      <td>3</td>\n",
              "      <td>0</td>\n",
              "    </tr>\n",
              "    <tr>\n",
              "      <th>248</th>\n",
              "      <td>54</td>\n",
              "      <td>1</td>\n",
              "      <td>1</td>\n",
              "      <td>192</td>\n",
              "      <td>283</td>\n",
              "      <td>0</td>\n",
              "      <td>0</td>\n",
              "      <td>195</td>\n",
              "      <td>0</td>\n",
              "      <td>0.0</td>\n",
              "      <td>2</td>\n",
              "      <td>1</td>\n",
              "      <td>3</td>\n",
              "      <td>0</td>\n",
              "    </tr>\n",
              "  </tbody>\n",
              "</table>\n",
              "</div>"
            ],
            "text/plain": [
              "     Edad  Sexo  DolorPecho  PresArtRep  ...  Pendiente  NumVasSang  thal  Objetivo\n",
              "223    56     0           0         200  ...          0           2     3         0\n",
              "248    54     1           1         192  ...          2           1     3         0\n",
              "\n",
              "[2 rows x 14 columns]"
            ]
          },
          "metadata": {},
          "execution_count": 48
        }
      ]
    },
    {
      "cell_type": "code",
      "metadata": {
        "colab": {
          "base_uri": "https://localhost:8080/",
          "height": 142
        },
        "id": "MvSOvpLT57u3",
        "outputId": "8efa20ab-d7c5-455c-fd50-8d7464840af1"
      },
      "source": [
        "df[(df['PresArtRep']>170) & (df['Objetivo']==1)]"
      ],
      "execution_count": 51,
      "outputs": [
        {
          "output_type": "execute_result",
          "data": {
            "text/html": [
              "<div>\n",
              "<style scoped>\n",
              "    .dataframe tbody tr th:only-of-type {\n",
              "        vertical-align: middle;\n",
              "    }\n",
              "\n",
              "    .dataframe tbody tr th {\n",
              "        vertical-align: top;\n",
              "    }\n",
              "\n",
              "    .dataframe thead th {\n",
              "        text-align: right;\n",
              "    }\n",
              "</style>\n",
              "<table border=\"1\" class=\"dataframe\">\n",
              "  <thead>\n",
              "    <tr style=\"text-align: right;\">\n",
              "      <th></th>\n",
              "      <th>Edad</th>\n",
              "      <th>Sexo</th>\n",
              "      <th>DolorPecho</th>\n",
              "      <th>PresArtRep</th>\n",
              "      <th>Col</th>\n",
              "      <th>NivAzuAyu</th>\n",
              "      <th>Electro</th>\n",
              "      <th>MaxRitCard</th>\n",
              "      <th>Angina</th>\n",
              "      <th>MinElectro</th>\n",
              "      <th>Pendiente</th>\n",
              "      <th>NumVasSang</th>\n",
              "      <th>thal</th>\n",
              "      <th>Objetivo</th>\n",
              "    </tr>\n",
              "  </thead>\n",
              "  <tbody>\n",
              "    <tr>\n",
              "      <th>8</th>\n",
              "      <td>52</td>\n",
              "      <td>1</td>\n",
              "      <td>2</td>\n",
              "      <td>172</td>\n",
              "      <td>199</td>\n",
              "      <td>1</td>\n",
              "      <td>1</td>\n",
              "      <td>162</td>\n",
              "      <td>0</td>\n",
              "      <td>0.5</td>\n",
              "      <td>2</td>\n",
              "      <td>0</td>\n",
              "      <td>3</td>\n",
              "      <td>1</td>\n",
              "    </tr>\n",
              "    <tr>\n",
              "      <th>101</th>\n",
              "      <td>59</td>\n",
              "      <td>1</td>\n",
              "      <td>3</td>\n",
              "      <td>178</td>\n",
              "      <td>270</td>\n",
              "      <td>0</td>\n",
              "      <td>0</td>\n",
              "      <td>145</td>\n",
              "      <td>0</td>\n",
              "      <td>4.2</td>\n",
              "      <td>0</td>\n",
              "      <td>0</td>\n",
              "      <td>3</td>\n",
              "      <td>1</td>\n",
              "    </tr>\n",
              "    <tr>\n",
              "      <th>110</th>\n",
              "      <td>64</td>\n",
              "      <td>0</td>\n",
              "      <td>0</td>\n",
              "      <td>180</td>\n",
              "      <td>325</td>\n",
              "      <td>0</td>\n",
              "      <td>1</td>\n",
              "      <td>154</td>\n",
              "      <td>1</td>\n",
              "      <td>0.0</td>\n",
              "      <td>2</td>\n",
              "      <td>0</td>\n",
              "      <td>2</td>\n",
              "      <td>1</td>\n",
              "    </tr>\n",
              "  </tbody>\n",
              "</table>\n",
              "</div>"
            ],
            "text/plain": [
              "     Edad  Sexo  DolorPecho  PresArtRep  ...  Pendiente  NumVasSang  thal  Objetivo\n",
              "8      52     1           2         172  ...          2           0     3         1\n",
              "101    59     1           3         178  ...          0           0     3         1\n",
              "110    64     0           0         180  ...          2           0     2         1\n",
              "\n",
              "[3 rows x 14 columns]"
            ]
          },
          "metadata": {},
          "execution_count": 51
        }
      ]
    },
    {
      "cell_type": "markdown",
      "metadata": {
        "id": "wCbdiQDn323q"
      },
      "source": [
        "A edades avanzadas es normal presentar niveles de presión arterial más altos en comparación a jóvenes. Incluso hay casos como estos en los que se presentan valores un poco alejados de la media."
      ]
    },
    {
      "cell_type": "code",
      "metadata": {
        "colab": {
          "base_uri": "https://localhost:8080/",
          "height": 80
        },
        "id": "BmgQQ1rh66lK",
        "outputId": "1ebed3aa-c076-4613-cebd-5d9c96f88b3e"
      },
      "source": [
        "df[(df['MaxRitCard']<80) & (df['Objetivo']==0)]"
      ],
      "execution_count": 53,
      "outputs": [
        {
          "output_type": "execute_result",
          "data": {
            "text/html": [
              "<div>\n",
              "<style scoped>\n",
              "    .dataframe tbody tr th:only-of-type {\n",
              "        vertical-align: middle;\n",
              "    }\n",
              "\n",
              "    .dataframe tbody tr th {\n",
              "        vertical-align: top;\n",
              "    }\n",
              "\n",
              "    .dataframe thead th {\n",
              "        text-align: right;\n",
              "    }\n",
              "</style>\n",
              "<table border=\"1\" class=\"dataframe\">\n",
              "  <thead>\n",
              "    <tr style=\"text-align: right;\">\n",
              "      <th></th>\n",
              "      <th>Edad</th>\n",
              "      <th>Sexo</th>\n",
              "      <th>DolorPecho</th>\n",
              "      <th>PresArtRep</th>\n",
              "      <th>Col</th>\n",
              "      <th>NivAzuAyu</th>\n",
              "      <th>Electro</th>\n",
              "      <th>MaxRitCard</th>\n",
              "      <th>Angina</th>\n",
              "      <th>MinElectro</th>\n",
              "      <th>Pendiente</th>\n",
              "      <th>NumVasSang</th>\n",
              "      <th>thal</th>\n",
              "      <th>Objetivo</th>\n",
              "    </tr>\n",
              "  </thead>\n",
              "  <tbody>\n",
              "    <tr>\n",
              "      <th>272</th>\n",
              "      <td>67</td>\n",
              "      <td>1</td>\n",
              "      <td>0</td>\n",
              "      <td>120</td>\n",
              "      <td>237</td>\n",
              "      <td>0</td>\n",
              "      <td>1</td>\n",
              "      <td>71</td>\n",
              "      <td>0</td>\n",
              "      <td>1.0</td>\n",
              "      <td>1</td>\n",
              "      <td>0</td>\n",
              "      <td>2</td>\n",
              "      <td>0</td>\n",
              "    </tr>\n",
              "  </tbody>\n",
              "</table>\n",
              "</div>"
            ],
            "text/plain": [
              "     Edad  Sexo  DolorPecho  PresArtRep  ...  Pendiente  NumVasSang  thal  Objetivo\n",
              "272    67     1           0         120  ...          1           0     2         0\n",
              "\n",
              "[1 rows x 14 columns]"
            ]
          },
          "metadata": {},
          "execution_count": 53
        }
      ]
    },
    {
      "cell_type": "code",
      "metadata": {
        "colab": {
          "base_uri": "https://localhost:8080/",
          "height": 172
        },
        "id": "ubnBSaf27D_1",
        "outputId": "527a6ba4-afd9-4dd0-c1dc-4cfe3641b187"
      },
      "source": [
        "df[(df['MaxRitCard']<115) & (df['Objetivo']==1)]"
      ],
      "execution_count": 55,
      "outputs": [
        {
          "output_type": "execute_result",
          "data": {
            "text/html": [
              "<div>\n",
              "<style scoped>\n",
              "    .dataframe tbody tr th:only-of-type {\n",
              "        vertical-align: middle;\n",
              "    }\n",
              "\n",
              "    .dataframe tbody tr th {\n",
              "        vertical-align: top;\n",
              "    }\n",
              "\n",
              "    .dataframe thead th {\n",
              "        text-align: right;\n",
              "    }\n",
              "</style>\n",
              "<table border=\"1\" class=\"dataframe\">\n",
              "  <thead>\n",
              "    <tr style=\"text-align: right;\">\n",
              "      <th></th>\n",
              "      <th>Edad</th>\n",
              "      <th>Sexo</th>\n",
              "      <th>DolorPecho</th>\n",
              "      <th>PresArtRep</th>\n",
              "      <th>Col</th>\n",
              "      <th>NivAzuAyu</th>\n",
              "      <th>Electro</th>\n",
              "      <th>MaxRitCard</th>\n",
              "      <th>Angina</th>\n",
              "      <th>MinElectro</th>\n",
              "      <th>Pendiente</th>\n",
              "      <th>NumVasSang</th>\n",
              "      <th>thal</th>\n",
              "      <th>Objetivo</th>\n",
              "    </tr>\n",
              "  </thead>\n",
              "  <tbody>\n",
              "    <tr>\n",
              "      <th>17</th>\n",
              "      <td>66</td>\n",
              "      <td>0</td>\n",
              "      <td>3</td>\n",
              "      <td>150</td>\n",
              "      <td>226</td>\n",
              "      <td>0</td>\n",
              "      <td>1</td>\n",
              "      <td>114</td>\n",
              "      <td>0</td>\n",
              "      <td>2.6</td>\n",
              "      <td>0</td>\n",
              "      <td>0</td>\n",
              "      <td>2</td>\n",
              "      <td>1</td>\n",
              "    </tr>\n",
              "    <tr>\n",
              "      <th>95</th>\n",
              "      <td>53</td>\n",
              "      <td>1</td>\n",
              "      <td>0</td>\n",
              "      <td>142</td>\n",
              "      <td>226</td>\n",
              "      <td>0</td>\n",
              "      <td>0</td>\n",
              "      <td>111</td>\n",
              "      <td>1</td>\n",
              "      <td>0.0</td>\n",
              "      <td>2</td>\n",
              "      <td>0</td>\n",
              "      <td>3</td>\n",
              "      <td>1</td>\n",
              "    </tr>\n",
              "    <tr>\n",
              "      <th>136</th>\n",
              "      <td>60</td>\n",
              "      <td>0</td>\n",
              "      <td>2</td>\n",
              "      <td>120</td>\n",
              "      <td>178</td>\n",
              "      <td>1</td>\n",
              "      <td>1</td>\n",
              "      <td>96</td>\n",
              "      <td>0</td>\n",
              "      <td>0.0</td>\n",
              "      <td>2</td>\n",
              "      <td>0</td>\n",
              "      <td>2</td>\n",
              "      <td>1</td>\n",
              "    </tr>\n",
              "    <tr>\n",
              "      <th>139</th>\n",
              "      <td>64</td>\n",
              "      <td>1</td>\n",
              "      <td>0</td>\n",
              "      <td>128</td>\n",
              "      <td>263</td>\n",
              "      <td>0</td>\n",
              "      <td>1</td>\n",
              "      <td>105</td>\n",
              "      <td>1</td>\n",
              "      <td>0.2</td>\n",
              "      <td>1</td>\n",
              "      <td>1</td>\n",
              "      <td>3</td>\n",
              "      <td>1</td>\n",
              "    </tr>\n",
              "  </tbody>\n",
              "</table>\n",
              "</div>"
            ],
            "text/plain": [
              "     Edad  Sexo  DolorPecho  PresArtRep  ...  Pendiente  NumVasSang  thal  Objetivo\n",
              "17     66     0           3         150  ...          0           0     2         1\n",
              "95     53     1           0         142  ...          2           0     3         1\n",
              "136    60     0           2         120  ...          2           0     2         1\n",
              "139    64     1           0         128  ...          1           1     3         1\n",
              "\n",
              "[4 rows x 14 columns]"
            ]
          },
          "metadata": {},
          "execution_count": 55
        }
      ]
    },
    {
      "cell_type": "markdown",
      "metadata": {
        "id": "Hlq13SFo7vZn"
      },
      "source": [
        "Para los pacientes que fueron diagnosticados con enfermedades del corazón, las observaciones atípicas para MaxRitCard son muy bajas en comparación a la media. Lo normal es que los pacientes con enfermedad del corazón presenten mayor MaxRitCard que los que no fueron diagnosticados, por lo que estos outliers podrían afectar el desempeño del modelo seleccionado.\n",
        "\n",
        "Otro indicador que es comunmente pensamos asociado con enfermedades del corazón es el nivel de colesterol."
      ]
    },
    {
      "cell_type": "code",
      "metadata": {
        "colab": {
          "base_uri": "https://localhost:8080/",
          "height": 513
        },
        "id": "e2s0QMpZIDrJ",
        "outputId": "5f3a4e80-cbec-4680-c919-78a71c47ee3f"
      },
      "source": [
        "plt.figure(figsize = (10,8))\n",
        "sns.boxplot(y='Col',x='Objetivo',data=df)\n",
        "plt.title(\"Boxplot Colesterol\")\n",
        "plt.show()"
      ],
      "execution_count": 14,
      "outputs": [
        {
          "output_type": "display_data",
          "data": {
            "image/png": "[encoded data removed]",
            "text/plain": [
              "<Figure size 720x576 with 1 Axes>"
            ]
          },
          "metadata": {
            "needs_background": "light"
          }
        }
      ]
    },
    {
      "cell_type": "markdown",
      "metadata": {
        "id": "8bi_hZNaIEGX"
      },
      "source": [
        "Se decidió revisar el colesterol por separado de la presión arterial y máximo ritmo cardiaco por temas de escala. Sorprendente el diagrama de caja de los pacientes sanos es muy similar al de aquellos que fueron diagnosticados con enfermedades del corazón, lo que nos hace inferir que el colesterol alto no afecta significativamente al diagnóstico del corazón del paciente. Como no se observa una diferencia significativa entre la distribución de los datos para los pacientes con enfermedad del corazón y los sanos, no se espera que los datos atípicos del colesterol afecten significativamente el análisis.\n",
        "\n"
      ]
    },
    {
      "cell_type": "code",
      "metadata": {
        "colab": {
          "base_uri": "https://localhost:8080/",
          "height": 203
        },
        "id": "eH5IxaD9LO1M",
        "outputId": "83fd337b-3575-4bfd-e211-162b4b0e769b"
      },
      "source": [
        "h=df.loc[df['Objetivo']==1,'NumVasSang'].value_counts()\n",
        "m=df.loc[df['Objetivo']==0,'NumVasSang'].value_counts()\n",
        "n=[0,1,2,3]\n",
        "bd = pd.DataFrame({\"Numero Vasos Sanguineos\":n, \"Enfermos\":h, \"Sanos\":m})\n",
        "bd= bd.set_index(\"Numero Vasos Sanguineos\")\n",
        "bd"
      ],
      "execution_count": 15,
      "outputs": [
        {
          "output_type": "execute_result",
          "data": {
            "text/html": [
              "<div>\n",
              "<style scoped>\n",
              "    .dataframe tbody tr th:only-of-type {\n",
              "        vertical-align: middle;\n",
              "    }\n",
              "\n",
              "    .dataframe tbody tr th {\n",
              "        vertical-align: top;\n",
              "    }\n",
              "\n",
              "    .dataframe thead th {\n",
              "        text-align: right;\n",
              "    }\n",
              "</style>\n",
              "<table border=\"1\" class=\"dataframe\">\n",
              "  <thead>\n",
              "    <tr style=\"text-align: right;\">\n",
              "      <th></th>\n",
              "      <th>Enfermos</th>\n",
              "      <th>Sanos</th>\n",
              "    </tr>\n",
              "    <tr>\n",
              "      <th>Numero Vasos Sanguineos</th>\n",
              "      <th></th>\n",
              "      <th></th>\n",
              "    </tr>\n",
              "  </thead>\n",
              "  <tbody>\n",
              "    <tr>\n",
              "      <th>0</th>\n",
              "      <td>129</td>\n",
              "      <td>44</td>\n",
              "    </tr>\n",
              "    <tr>\n",
              "      <th>1</th>\n",
              "      <td>21</td>\n",
              "      <td>44</td>\n",
              "    </tr>\n",
              "    <tr>\n",
              "      <th>2</th>\n",
              "      <td>7</td>\n",
              "      <td>31</td>\n",
              "    </tr>\n",
              "    <tr>\n",
              "      <th>3</th>\n",
              "      <td>3</td>\n",
              "      <td>17</td>\n",
              "    </tr>\n",
              "  </tbody>\n",
              "</table>\n",
              "</div>"
            ],
            "text/plain": [
              "                         Enfermos  Sanos\n",
              "Numero Vasos Sanguineos                 \n",
              "0                             129     44\n",
              "1                              21     44\n",
              "2                               7     31\n",
              "3                               3     17"
            ]
          },
          "metadata": {},
          "execution_count": 15
        }
      ]
    },
    {
      "cell_type": "code",
      "metadata": {
        "colab": {
          "base_uri": "https://localhost:8080/",
          "height": 293
        },
        "id": "l-_3_gaCLgd-",
        "outputId": "e5b03491-3df1-46e7-da0a-f95065d8d4fd"
      },
      "source": [
        "bd.plot.bar(stacked=True)"
      ],
      "execution_count": 16,
      "outputs": [
        {
          "output_type": "execute_result",
          "data": {
            "text/plain": [
              "<matplotlib.axes._subplots.AxesSubplot at 0x7efc49cc3950>"
            ]
          },
          "metadata": {},
          "execution_count": 16
        },
        {
          "output_type": "display_data",
          "data": {
            "image/png": "[encoded data removed]",
            "text/plain": [
              "<Figure size 432x288 with 1 Axes>"
            ]
          },
          "metadata": {
            "needs_background": "light"
          }
        }
      ]
    },
    {
      "cell_type": "markdown",
      "metadata": {
        "id": "kgN9IorvMW6U"
      },
      "source": [
        "El resultado de una fluorscopia revela cuantos vasos sanguíneos son visbles en el paciente. Si se observan pocos o ningun vaso sanguíneo esto puede indicar coágulos o mala circulación.\n",
        "\n",
        "Observamos que entre menor es número de vasos sanguíneos observados, mayor es la frecuencia con la que se presentan pacientes diagnosticados con enfermedad del corazón."
      ]
    },
    {
      "cell_type": "markdown",
      "metadata": {
        "id": "xjN8KwOzKlST"
      },
      "source": [
        "Para concluir desde una perspectiva más genralizada realizaremos un correlograma para ver de qué forma las variables afectan a la columna objetivo."
      ]
    },
    {
      "cell_type": "code",
      "metadata": {
        "colab": {
          "base_uri": "https://localhost:8080/",
          "height": 881
        },
        "id": "sv27YRyvKE9Z",
        "outputId": "3c75a7f3-4aa6-4b1e-e12f-36424bf17ce9"
      },
      "source": [
        "df0=df.drop(\"DolorPecho\",axis=1)\n",
        "df0=df0.drop(\"thal\",axis=1)\n",
        "df0=df0.drop(\"Pendiente\",axis=1) #Eliminamos las variables categoricas no binarias\n",
        "f,ax=plt.subplots(figsize = (14,14))\n",
        "sns.heatmap(df0.corr(),annot= True,linewidths=0.5,fmt = \".2f\",ax=ax)\n",
        "plt.xticks(rotation=90)\n",
        "plt.yticks(rotation=0)\n",
        "plt.title('Mapa de correlación')\n",
        "plt.show()"
      ],
      "execution_count": 17,
      "outputs": [
        {
          "output_type": "display_data",
          "data": {
            "image/png": "[encoded data removed]",
            "text/plain": [
              "<Figure size 1008x1008 with 2 Axes>"
            ]
          },
          "metadata": {
            "needs_background": "light"
          }
        }
      ]
    },
    {
      "cell_type": "markdown",
      "metadata": {
        "id": "vqHugviJOBCu"
      },
      "source": [
        "Del correlograma podemos obtener conclusiones similares a las que nos brindaban las gráficas anteriores. La edad y el sexo se correlacionan de manera negativa al diagnostico. Es decir los hombres son menos propensos a ser diagnosticados con enfermedades del corazón en comparación a las mujeres y los pacientes mayores son diagnosticados con enfermades del corazón con menor frecuencia (objetivo secundario).\n",
        "\n",
        "La correlación entre el diagnósitco y el colesterol es muy cercana a cero, es decir, no están correlacionados de manera significativa. La columna Angina indica si el paciente presenta dolor de pecho al hacer ejercicio. Esperaríamos que este fuera un indicador para el diagnóstico pero se correlaciona de forma negativa, lo que indica lo contrario.\n",
        "\n",
        "En conclusión, después de analizar las variables y cómo se relacionan a la columna de interés Objetivo, la evidencia apunta a que la variable con mayor influencia al momento de realizar el diagnóstico es el número de vasos sanguíneos observados en una fluorscopia (objetivo secundario). Otras variables que muestran alta correlación son máximo ritmo cardiaco, angina y Depresión del ST inducida por el ejercicio (MinElectro). \n",
        "\n",
        "Como el objetivo principal es encontrar un modelo que pueda predecir el diagnóstico a partir de los datos del paciente, el equipo se interesa por temas como Regresión Logística, Árbol de decisión y Máquina de Soporte Vectorial.\n",
        "\n"
      ]
    },
    {
      "cell_type": "markdown",
      "metadata": {
        "id": "Il_-iQdTo7Vv"
      },
      "source": [
        "####*Técnicas de Minería*"
      ]
    },
    {
      "cell_type": "markdown",
      "metadata": {
        "id": "wwGW3yWXp8Ee"
      },
      "source": [
        "#####Regresión Logística"
      ]
    },
    {
      "cell_type": "markdown",
      "metadata": {
        "id": "kjM9Ov8YqAGw"
      },
      "source": [
        "Lo primero que hacemos, y nos va a servir para todas las técnicas, es separar la variable objetivo de las que usaremos para modelar. Además se van a crear los modelos con el 80% de los datos y usaremos el otro 20% para hacer una prueba."
      ]
    },
    {
      "cell_type": "code",
      "metadata": {
        "id": "gORIykdXqENj"
      },
      "source": [
        "X = df.drop(['Objetivo'],axis=1) \n",
        "y = df['Objetivo'] "
      ],
      "execution_count": 18,
      "outputs": []
    },
    {
      "cell_type": "markdown",
      "metadata": {
        "id": "u09ajN5VqTl2"
      },
      "source": [
        "Aquí hacemos el split, las variables train son con las que entrenaremos al modelo y usaremos los perfiles test para comparar la predicción del modelo con el resultado real."
      ]
    },
    {
      "cell_type": "code",
      "metadata": {
        "id": "R5FGTTEIqVlq"
      },
      "source": [
        "X_train, X_test, y_train, y_test = train_test_split(X,y,test_size = 0.2, random_state = 2)"
      ],
      "execution_count": 19,
      "outputs": []
    },
    {
      "cell_type": "markdown",
      "metadata": {
        "id": "UJyZ_vuMqY9v"
      },
      "source": [
        "Como este es un modelo de regresión, debemos agregar el término connstante."
      ]
    },
    {
      "cell_type": "code",
      "metadata": {
        "id": "erhgmc6Hqbe2"
      },
      "source": [
        "model = LogisticRegression(solver='liblinear')\n",
        "X_train = add_constant(X_train)"
      ],
      "execution_count": 20,
      "outputs": []
    },
    {
      "cell_type": "markdown",
      "metadata": {
        "id": "5je7YtXIqdd2"
      },
      "source": [
        "Con `.fit` obtenemos el modelo."
      ]
    },
    {
      "cell_type": "code",
      "metadata": {
        "colab": {
          "base_uri": "https://localhost:8080/"
        },
        "id": "Ar51SLXWqgpG",
        "outputId": "06d249ef-d9ba-4c7c-a5bd-8d010e88d397"
      },
      "source": [
        "model.fit(X_train,y_train) "
      ],
      "execution_count": 21,
      "outputs": [
        {
          "output_type": "execute_result",
          "data": {
            "text/plain": [
              "LogisticRegression(C=1.0, class_weight=None, dual=False, fit_intercept=True,\n",
              "                   intercept_scaling=1, l1_ratio=None, max_iter=100,\n",
              "                   multi_class='auto', n_jobs=None, penalty='l2',\n",
              "                   random_state=None, solver='liblinear', tol=0.0001, verbose=0,\n",
              "                   warm_start=False)"
            ]
          },
          "metadata": {},
          "execution_count": 21
        }
      ]
    },
    {
      "cell_type": "markdown",
      "metadata": {
        "id": "adqjgsthqjRX"
      },
      "source": [
        "Con `.predict` podemos ver las predicciones que hace el modelo de regresión logística."
      ]
    },
    {
      "cell_type": "code",
      "metadata": {
        "colab": {
          "base_uri": "https://localhost:8080/"
        },
        "id": "sIywy3-sqmx1",
        "outputId": "11b38e5e-e686-481c-baae-6c8348091012"
      },
      "source": [
        "train_pred = model.predict(X_train)\n",
        "train_pred"
      ],
      "execution_count": 22,
      "outputs": [
        {
          "output_type": "execute_result",
          "data": {
            "text/plain": [
              "array([1, 0, 1, 1, 0, 1, 1, 0, 0, 0, 1, 1, 0, 0, 1, 1, 0, 0, 1, 1, 1, 1,\n",
              "       0, 1, 0, 1, 1, 1, 1, 1, 1, 1, 1, 1, 1, 0, 1, 1, 0, 0, 0, 0, 1, 0,\n",
              "       1, 1, 1, 0, 1, 0, 1, 0, 1, 1, 1, 1, 1, 1, 0, 1, 0, 0, 0, 0, 0, 0,\n",
              "       0, 0, 1, 0, 1, 1, 0, 1, 1, 0, 1, 0, 0, 1, 1, 1, 0, 0, 1, 1, 0, 0,\n",
              "       0, 0, 0, 0, 1, 1, 1, 1, 0, 1, 1, 0, 0, 1, 1, 0, 0, 0, 1, 0, 0, 0,\n",
              "       1, 1, 1, 1, 0, 0, 0, 1, 0, 1, 0, 0, 0, 1, 1, 1, 0, 0, 1, 1, 1, 1,\n",
              "       1, 0, 0, 0, 1, 1, 0, 1, 1, 1, 1, 1, 1, 0, 1, 0, 1, 1, 1, 1, 0, 0,\n",
              "       0, 0, 1, 1, 0, 1, 0, 1, 0, 1, 1, 1, 1, 1, 0, 1, 1, 0, 1, 1, 0, 0,\n",
              "       1, 0, 1, 1, 1, 0, 0, 1, 1, 1, 1, 1, 0, 0, 1, 1, 0, 1, 1, 0, 1, 0,\n",
              "       0, 1, 1, 0, 0, 1, 1, 0, 1, 1, 1, 1, 0, 0, 1, 1, 1, 0, 1, 0, 0, 1,\n",
              "       1, 1, 1, 1, 0, 1, 0, 0, 0, 0, 0, 1, 1, 1, 1, 0])"
            ]
          },
          "metadata": {},
          "execution_count": 22
        }
      ]
    },
    {
      "cell_type": "markdown",
      "metadata": {
        "id": "evbfgL41qpJN"
      },
      "source": [
        "El training score es el ajuste del modelo."
      ]
    },
    {
      "cell_type": "code",
      "metadata": {
        "colab": {
          "base_uri": "https://localhost:8080/"
        },
        "id": "9Y76p8nUqrU3",
        "outputId": "96186910-4c50-4a92-d7c5-ef5edae74ac6"
      },
      "source": [
        "Training_score = accuracy_score(train_pred,y_train) \n",
        "print(\"LR Accuracy Training Score: {:.2f}%\".format(Training_score*100))"
      ],
      "execution_count": 23,
      "outputs": [
        {
          "output_type": "stream",
          "name": "stdout",
          "text": [
            "LR Accuracy Training Score: 86.86%\n"
          ]
        }
      ]
    },
    {
      "cell_type": "code",
      "metadata": {
        "colab": {
          "base_uri": "https://localhost:8080/"
        },
        "id": "m5mt-xC8qtbW",
        "outputId": "78256943-3ebd-4af2-f0fa-2e29874925cc"
      },
      "source": [
        "X_train = add_constant(X_train)\n",
        "logit_model=sm.Logit(y_train,X_train)\n",
        "result=logit_model.fit()\n",
        "print(result.summary())"
      ],
      "execution_count": 24,
      "outputs": [
        {
          "output_type": "stream",
          "name": "stdout",
          "text": [
            "Optimization terminated successfully.\n",
            "         Current function value: 0.330387\n",
            "         Iterations 8\n",
            "                           Logit Regression Results                           \n",
            "==============================================================================\n",
            "Dep. Variable:               Objetivo   No. Observations:                  236\n",
            "Model:                          Logit   Df Residuals:                      222\n",
            "Method:                           MLE   Df Model:                           13\n",
            "Date:                Wed, 20 Oct 2021   Pseudo R-squ.:                  0.5225\n",
            "Time:                        21:55:25   Log-Likelihood:                -77.971\n",
            "converged:                       True   LL-Null:                       -163.28\n",
            "Covariance Type:            nonrobust   LLR p-value:                 1.386e-29\n",
            "==============================================================================\n",
            "                 coef    std err          z      P>|z|      [0.025      0.975]\n",
            "------------------------------------------------------------------------------\n",
            "const          2.7438      2.894      0.948      0.343      -2.928       8.415\n",
            "Edad           0.0059      0.027      0.222      0.824      -0.046       0.058\n",
            "Sexo          -1.3410      0.519     -2.582      0.010      -2.359      -0.323\n",
            "DolorPecho     0.7793      0.218      3.571      0.000       0.352       1.207\n",
            "PresArtRep    -0.0206      0.012     -1.670      0.095      -0.045       0.004\n",
            "Col           -0.0044      0.005     -0.873      0.383      -0.014       0.006\n",
            "NivAzuAyu      0.3448      0.668      0.516      0.606      -0.965       1.655\n",
            "Electro        0.4165      0.412      1.010      0.312      -0.392       1.225\n",
            "MaxRitCard     0.0254      0.012      2.161      0.031       0.002       0.048\n",
            "Angina        -0.7667      0.473     -1.621      0.105      -1.694       0.160\n",
            "MinElectro    -0.5741      0.265     -2.168      0.030      -1.093      -0.055\n",
            "Pendiente      0.7105      0.434      1.636      0.102      -0.141       1.562\n",
            "NumVasSang    -1.3559      0.302     -4.492      0.000      -1.948      -0.764\n",
            "thal          -1.0706      0.345     -3.106      0.002      -1.746      -0.395\n",
            "==============================================================================\n"
          ]
        }
      ]
    },
    {
      "cell_type": "markdown",
      "metadata": {
        "id": "i0Gew7g3qvdB"
      },
      "source": [
        "Podemos realizar predicciones para el conjunto que no se usó para entrenar al modelo."
      ]
    },
    {
      "cell_type": "code",
      "metadata": {
        "colab": {
          "base_uri": "https://localhost:8080/"
        },
        "id": "GF8KJgw2q0AE",
        "outputId": "811d028b-bf48-42ad-de7d-29f47ea234b4"
      },
      "source": [
        "test_pred = model.predict(add_constant(X_test))\n",
        "test_pred"
      ],
      "execution_count": 26,
      "outputs": [
        {
          "output_type": "execute_result",
          "data": {
            "text/plain": [
              "array([0, 0, 1, 1, 1, 1, 0, 0, 0, 1, 1, 0, 1, 0, 1, 0, 0, 1, 1, 1, 1, 1,\n",
              "       1, 0, 1, 1, 1, 0, 1, 1, 1, 1, 0, 0, 1, 1, 1, 1, 1, 1, 1, 0, 0, 1,\n",
              "       0, 1, 0, 1, 1, 1, 1, 0, 1, 1, 1, 1, 0, 0, 1, 0])"
            ]
          },
          "metadata": {},
          "execution_count": 26
        }
      ]
    },
    {
      "cell_type": "markdown",
      "metadata": {
        "id": "1hPm2fHrq2xF"
      },
      "source": [
        "Ahora obtenemos el accuracy score de los resultados reales vs los resultados del modelo."
      ]
    },
    {
      "cell_type": "code",
      "metadata": {
        "colab": {
          "base_uri": "https://localhost:8080/"
        },
        "id": "HNC4i423q3jF",
        "outputId": "f3de1edc-4f94-4ef1-f218-74dadb30a3ec"
      },
      "source": [
        "Test_score = accuracy_score(test_pred,y_test) \n",
        "print(\"LR Accuracy Test Score: {:.2f}%\".format(Test_score*100))"
      ],
      "execution_count": 27,
      "outputs": [
        {
          "output_type": "stream",
          "name": "stdout",
          "text": [
            "LR Accuracy Test Score: 88.33%\n"
          ]
        }
      ]
    },
    {
      "cell_type": "markdown",
      "metadata": {
        "id": "KBVlKexlq5Xt"
      },
      "source": [
        "En general vemos que tanto los datos con los que se construyó el modelo y los que se usaron para test, tienen buen ajuste.\n",
        "\n",
        "El p-valor de 1.386e-29 es menor a alfa=0.05. Podemos decir que con 95% de confianza, la regresión es significativa.\n",
        "\n",
        "De la tabla resumen vemos que el intervalo de confianza de la const contiene al 0, lo que es un indicio de regresión al origen. En general, los modelos de regresión tienden a mejorar su ajuste."
      ]
    },
    {
      "cell_type": "markdown",
      "metadata": {
        "id": "PiyF-Agjq8O-"
      },
      "source": [
        "**Regresión al Origen, es decir cte=0.**\n",
        "\n",
        "Realizamos los mismos pasos que para la regresión anterior, esta vez excluyendo el `add_constant`."
      ]
    },
    {
      "cell_type": "code",
      "metadata": {
        "colab": {
          "base_uri": "https://localhost:8080/"
        },
        "id": "a5qsItxLq-Z9",
        "outputId": "efa58328-423b-4b5d-d94d-2268c81952d6"
      },
      "source": [
        "X_train, X_test, y_train, y_test = train_test_split(X,y,test_size = 0.2, random_state = 2)\n",
        "model.fit(X_train,y_train)\n",
        "train_pred = model.predict(X_train)\n",
        "logit_model=sm.Logit(y_train,X_train)\n",
        "result=logit_model.fit()\n",
        "print(result.summary())\n",
        "test_pred = model.predict(X_test)\n",
        "Training_score = accuracy_score(train_pred,y_train) \n",
        "print(\"LR Accuracy Training Score: {:.2f}%\".format(Training_score*100))\n",
        "Test_score = accuracy_score(test_pred,y_test) \n",
        "print(\"LR Accuracy Test Score: {:.2f}%\".format(Test_score*100))"
      ],
      "execution_count": 28,
      "outputs": [
        {
          "output_type": "stream",
          "name": "stdout",
          "text": [
            "Optimization terminated successfully.\n",
            "         Current function value: 0.332312\n",
            "         Iterations 7\n",
            "                           Logit Regression Results                           \n",
            "==============================================================================\n",
            "Dep. Variable:               Objetivo   No. Observations:                  236\n",
            "Model:                          Logit   Df Residuals:                      223\n",
            "Method:                           MLE   Df Model:                           12\n",
            "Date:                Wed, 20 Oct 2021   Pseudo R-squ.:                  0.5197\n",
            "Time:                        21:56:17   Log-Likelihood:                -78.426\n",
            "converged:                       True   LL-Null:                       -163.28\n",
            "Covariance Type:            nonrobust   LLR p-value:                 5.489e-30\n",
            "==============================================================================\n",
            "                 coef    std err          z      P>|z|      [0.025      0.975]\n",
            "------------------------------------------------------------------------------\n",
            "Edad           0.0200      0.022      0.907      0.364      -0.023       0.063\n",
            "Sexo          -1.2468      0.504     -2.476      0.013      -2.234      -0.260\n",
            "DolorPecho     0.7618      0.216      3.528      0.000       0.339       1.185\n",
            "PresArtRep    -0.0179      0.012     -1.503      0.133      -0.041       0.005\n",
            "Col           -0.0030      0.005     -0.617      0.537      -0.013       0.007\n",
            "NivAzuAyu      0.2851      0.662      0.431      0.667      -1.012       1.582\n",
            "Electro        0.4598      0.408      1.128      0.259      -0.339       1.259\n",
            "MaxRitCard     0.0320      0.010      3.269      0.001       0.013       0.051\n",
            "Angina        -0.7146      0.470     -1.519      0.129      -1.637       0.207\n",
            "MinElectro    -0.5304      0.258     -2.058      0.040      -1.035      -0.025\n",
            "Pendiente      0.7205      0.432      1.666      0.096      -0.127       1.568\n",
            "NumVasSang    -1.3805      0.302     -4.569      0.000      -1.973      -0.788\n",
            "thal          -1.0168      0.341     -2.986      0.003      -1.684      -0.349\n",
            "==============================================================================\n",
            "LR Accuracy Training Score: 87.29%\n",
            "LR Accuracy Test Score: 88.33%\n"
          ]
        }
      ]
    },
    {
      "cell_type": "markdown",
      "metadata": {
        "id": "azNvU68-rA7f"
      },
      "source": [
        "Vemos que el ajuste del modelo, tanto como el accuracy score para los datos test permanecen igual que en la regresión anterior.\n",
        "\n",
        "Como no hubo mejoras es indiferente cual modelo elegimos. Para regresión al orgien el p-valor=5.489e-30 por lo que también podemos concluir con un 95% de confianza que la regresión es significativa.\n",
        "\n",
        "Nos quedaremos con el modelo que tiene regresión al origen.\n",
        "\n",
        "Como el ajuste es mayor a 80% decimos que es un buen modelo. La ecuación del modelo es la siguiente. Aquí (p/1-p) se conoce como \"odd ratio\". Cuando el logaritmo del \"odd ratio\" es positivo, la probabilidad de éxtito (enfermdad del corazón) es mayor a 50%. Y ese perfil se clasifica como Objetivo=1 es decir padece enfermedad del corazón"
      ]
    },
    {
      "cell_type": "markdown",
      "metadata": {
        "id": "5ADBiy9UrDtN"
      },
      "source": [
        "![image.png](data:image/png;base64,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)"
      ]
    },
    {
      "cell_type": "markdown",
      "metadata": {
        "id": "TIrPX3TqrSyN"
      },
      "source": [
        "El coeficiente de sexo es negativo, lo que indica que cuando el paciente es hombre (Sexo=1) el log(p/1-p) decrece por lo que es más probable que sea negativo y el diagnóstico sea 0. Es decir que las mujeres son más propensas a ser diagnosticadas con enfermedades del corazón.\n",
        "\n",
        "Lo mismo ocurre con el coeficiente de NumVasSang, como este es negativo entre más vasos sanguíneos sean visibles menor es la expresión log(p/1-p), y si log(p/1-p) es negativo esto significa que el diagnostico es 0. Es decir que entre menos vasos sanguíneos son visibles en el paciente, mayor es la probabilidad de que este padezca de una enfermedad del corazón."
      ]
    },
    {
      "cell_type": "markdown",
      "metadata": {
        "id": "il_UU85BrTiF"
      },
      "source": [
        "#####Árbol de Decisión"
      ]
    },
    {
      "cell_type": "markdown",
      "metadata": {
        "id": "RwG9Gf8OrYw5"
      },
      "source": [
        "La programación para este modelo es más sencilla ya que en la técnica anterior hicimos el split."
      ]
    },
    {
      "cell_type": "code",
      "metadata": {
        "colab": {
          "base_uri": "https://localhost:8080/"
        },
        "id": "Jnba--KJrAql",
        "outputId": "b308e240-fb2b-401d-dec8-37ec9fde241b"
      },
      "source": [
        "dtc = DecisionTreeClassifier( max_depth=3, min_samples_leaf=2)\n",
        "dtc.fit(X_train, y_train)\n",
        "\n",
        "print(\"Decision Tree Train Accuracy {:.2f}%\".format(dtc.score(X_train, y_train)*100))\n",
        "print(\"Decision Tree Test Accuracy {:.2f}%\".format(dtc.score(X_test, y_test)*100))"
      ],
      "execution_count": 29,
      "outputs": [
        {
          "output_type": "stream",
          "name": "stdout",
          "text": [
            "Decision Tree Train Accuracy 86.44%\n",
            "Decision Tree Test Accuracy 80.00%\n"
          ]
        }
      ]
    },
    {
      "cell_type": "markdown",
      "metadata": {
        "id": "iyCenvs3rd_v"
      },
      "source": [
        "Imprimimos algunos perfiles que se usaron para test y sus respectivas predicciones por si queremos trazar el camino que seguimos al utilizar el árbol de decisión."
      ]
    },
    {
      "cell_type": "code",
      "metadata": {
        "colab": {
          "base_uri": "https://localhost:8080/",
          "height": 357
        },
        "id": "ktqdBU_Krf6l",
        "outputId": "54d026a9-ff64-464b-9540-0ca5cd119542"
      },
      "source": [
        "X_test.head(10)"
      ],
      "execution_count": 30,
      "outputs": [
        {
          "output_type": "execute_result",
          "data": {
            "text/html": [
              "<div>\n",
              "<style scoped>\n",
              "    .dataframe tbody tr th:only-of-type {\n",
              "        vertical-align: middle;\n",
              "    }\n",
              "\n",
              "    .dataframe tbody tr th {\n",
              "        vertical-align: top;\n",
              "    }\n",
              "\n",
              "    .dataframe thead th {\n",
              "        text-align: right;\n",
              "    }\n",
              "</style>\n",
              "<table border=\"1\" class=\"dataframe\">\n",
              "  <thead>\n",
              "    <tr style=\"text-align: right;\">\n",
              "      <th></th>\n",
              "      <th>Edad</th>\n",
              "      <th>Sexo</th>\n",
              "      <th>DolorPecho</th>\n",
              "      <th>PresArtRep</th>\n",
              "      <th>Col</th>\n",
              "      <th>NivAzuAyu</th>\n",
              "      <th>Electro</th>\n",
              "      <th>MaxRitCard</th>\n",
              "      <th>Angina</th>\n",
              "      <th>MinElectro</th>\n",
              "      <th>Pendiente</th>\n",
              "      <th>NumVasSang</th>\n",
              "      <th>thal</th>\n",
              "    </tr>\n",
              "  </thead>\n",
              "  <tbody>\n",
              "    <tr>\n",
              "      <th>181</th>\n",
              "      <td>65</td>\n",
              "      <td>0</td>\n",
              "      <td>0</td>\n",
              "      <td>150</td>\n",
              "      <td>225</td>\n",
              "      <td>0</td>\n",
              "      <td>0</td>\n",
              "      <td>114</td>\n",
              "      <td>0</td>\n",
              "      <td>1.0</td>\n",
              "      <td>1</td>\n",
              "      <td>3</td>\n",
              "      <td>3</td>\n",
              "    </tr>\n",
              "    <tr>\n",
              "      <th>233</th>\n",
              "      <td>64</td>\n",
              "      <td>1</td>\n",
              "      <td>0</td>\n",
              "      <td>120</td>\n",
              "      <td>246</td>\n",
              "      <td>0</td>\n",
              "      <td>0</td>\n",
              "      <td>96</td>\n",
              "      <td>1</td>\n",
              "      <td>2.2</td>\n",
              "      <td>0</td>\n",
              "      <td>1</td>\n",
              "      <td>2</td>\n",
              "    </tr>\n",
              "    <tr>\n",
              "      <th>228</th>\n",
              "      <td>59</td>\n",
              "      <td>1</td>\n",
              "      <td>3</td>\n",
              "      <td>170</td>\n",
              "      <td>288</td>\n",
              "      <td>0</td>\n",
              "      <td>0</td>\n",
              "      <td>159</td>\n",
              "      <td>0</td>\n",
              "      <td>0.2</td>\n",
              "      <td>1</td>\n",
              "      <td>0</td>\n",
              "      <td>3</td>\n",
              "    </tr>\n",
              "    <tr>\n",
              "      <th>7</th>\n",
              "      <td>44</td>\n",
              "      <td>1</td>\n",
              "      <td>1</td>\n",
              "      <td>120</td>\n",
              "      <td>263</td>\n",
              "      <td>0</td>\n",
              "      <td>1</td>\n",
              "      <td>173</td>\n",
              "      <td>0</td>\n",
              "      <td>0.0</td>\n",
              "      <td>2</td>\n",
              "      <td>0</td>\n",
              "      <td>3</td>\n",
              "    </tr>\n",
              "    <tr>\n",
              "      <th>177</th>\n",
              "      <td>64</td>\n",
              "      <td>1</td>\n",
              "      <td>2</td>\n",
              "      <td>140</td>\n",
              "      <td>335</td>\n",
              "      <td>0</td>\n",
              "      <td>1</td>\n",
              "      <td>158</td>\n",
              "      <td>0</td>\n",
              "      <td>0.0</td>\n",
              "      <td>2</td>\n",
              "      <td>0</td>\n",
              "      <td>2</td>\n",
              "    </tr>\n",
              "    <tr>\n",
              "      <th>30</th>\n",
              "      <td>41</td>\n",
              "      <td>0</td>\n",
              "      <td>1</td>\n",
              "      <td>105</td>\n",
              "      <td>198</td>\n",
              "      <td>0</td>\n",
              "      <td>1</td>\n",
              "      <td>168</td>\n",
              "      <td>0</td>\n",
              "      <td>0.0</td>\n",
              "      <td>2</td>\n",
              "      <td>1</td>\n",
              "      <td>2</td>\n",
              "    </tr>\n",
              "    <tr>\n",
              "      <th>187</th>\n",
              "      <td>54</td>\n",
              "      <td>1</td>\n",
              "      <td>0</td>\n",
              "      <td>124</td>\n",
              "      <td>266</td>\n",
              "      <td>0</td>\n",
              "      <td>0</td>\n",
              "      <td>109</td>\n",
              "      <td>1</td>\n",
              "      <td>2.2</td>\n",
              "      <td>1</td>\n",
              "      <td>1</td>\n",
              "      <td>3</td>\n",
              "    </tr>\n",
              "    <tr>\n",
              "      <th>185</th>\n",
              "      <td>44</td>\n",
              "      <td>1</td>\n",
              "      <td>0</td>\n",
              "      <td>112</td>\n",
              "      <td>290</td>\n",
              "      <td>0</td>\n",
              "      <td>0</td>\n",
              "      <td>153</td>\n",
              "      <td>0</td>\n",
              "      <td>0.0</td>\n",
              "      <td>2</td>\n",
              "      <td>1</td>\n",
              "      <td>2</td>\n",
              "    </tr>\n",
              "    <tr>\n",
              "      <th>275</th>\n",
              "      <td>52</td>\n",
              "      <td>1</td>\n",
              "      <td>0</td>\n",
              "      <td>125</td>\n",
              "      <td>212</td>\n",
              "      <td>0</td>\n",
              "      <td>1</td>\n",
              "      <td>168</td>\n",
              "      <td>0</td>\n",
              "      <td>1.0</td>\n",
              "      <td>2</td>\n",
              "      <td>2</td>\n",
              "      <td>3</td>\n",
              "    </tr>\n",
              "    <tr>\n",
              "      <th>143</th>\n",
              "      <td>67</td>\n",
              "      <td>0</td>\n",
              "      <td>0</td>\n",
              "      <td>106</td>\n",
              "      <td>223</td>\n",
              "      <td>0</td>\n",
              "      <td>1</td>\n",
              "      <td>142</td>\n",
              "      <td>0</td>\n",
              "      <td>0.3</td>\n",
              "      <td>2</td>\n",
              "      <td>2</td>\n",
              "      <td>2</td>\n",
              "    </tr>\n",
              "  </tbody>\n",
              "</table>\n",
              "</div>"
            ],
            "text/plain": [
              "     Edad  Sexo  DolorPecho  ...  Pendiente  NumVasSang  thal\n",
              "181    65     0           0  ...          1           3     3\n",
              "233    64     1           0  ...          0           1     2\n",
              "228    59     1           3  ...          1           0     3\n",
              "7      44     1           1  ...          2           0     3\n",
              "177    64     1           2  ...          2           0     2\n",
              "30     41     0           1  ...          2           1     2\n",
              "187    54     1           0  ...          1           1     3\n",
              "185    44     1           0  ...          2           1     2\n",
              "275    52     1           0  ...          2           2     3\n",
              "143    67     0           0  ...          2           2     2\n",
              "\n",
              "[10 rows x 13 columns]"
            ]
          },
          "metadata": {},
          "execution_count": 30
        }
      ]
    },
    {
      "cell_type": "code",
      "metadata": {
        "colab": {
          "base_uri": "https://localhost:8080/"
        },
        "id": "AfkRhZKPrjhK",
        "outputId": "76609476-1211-4c50-e3e4-a9ace7088a41"
      },
      "source": [
        "preds=dtc.predict(X_test)\n",
        "preds"
      ],
      "execution_count": 32,
      "outputs": [
        {
          "output_type": "execute_result",
          "data": {
            "text/plain": [
              "array([0, 0, 1, 1, 1, 1, 0, 0, 0, 0, 1, 0, 1, 0, 1, 0, 0, 1, 1, 1, 1, 0,\n",
              "       1, 0, 1, 1, 1, 0, 1, 1, 0, 1, 1, 0, 1, 1, 1, 1, 1, 1, 1, 0, 0, 1,\n",
              "       0, 1, 0, 1, 1, 1, 1, 0, 1, 1, 1, 1, 0, 1, 1, 0])"
            ]
          },
          "metadata": {},
          "execution_count": 32
        }
      ]
    },
    {
      "cell_type": "markdown",
      "metadata": {
        "id": "47TmRjqyrkIm"
      },
      "source": [
        "Ahora visualicemos el árbol de decisión."
      ]
    },
    {
      "cell_type": "code",
      "metadata": {
        "colab": {
          "base_uri": "https://localhost:8080/"
        },
        "id": "HNX_0IIRrmpt",
        "outputId": "6caf9546-ff7c-4d9c-95dc-2c9a517fd423"
      },
      "source": [
        "export_graphviz(dtc, 'tree1.dot', filled=True, feature_names=X_train.columns, rounded=True)\n",
        "!dot -Tpng 'tree1.dot' -o  'tree1.png'\n",
        "!ls"
      ],
      "execution_count": 33,
      "outputs": [
        {
          "output_type": "stream",
          "name": "stdout",
          "text": [
            "heart.csv  HeartLimpio.csv  sample_data  tree1.dot  tree1.png\n"
          ]
        }
      ]
    },
    {
      "cell_type": "markdown",
      "metadata": {
        "id": "7epucCbDrohN"
      },
      "source": [
        "![tree1.png](data:image/png;base64,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)"
      ]
    },
    {
      "cell_type": "markdown",
      "metadata": {
        "id": "uF1LIt5qrrct"
      },
      "source": [
        "Si nos encontramos con el perfil de un paciente, es posible trazar un camino desde el nodo inicial hasta uno de los nodos finales que nos permitirá clasificar el diagnóstico del paciente.\n",
        "\n",
        "El value en cada nodo nos dice a cuantos pacientes de ese sample tiene diagnóstico 0 y cuantos 1. Por ejemplo en el primer nodo terminal, value=[6,78] indica que a 6 de los 84 pacientes que caen en ese nodo no se les diagnóstico una enfermedad del corazón y a los otros 78 sí.\n",
        "\n",
        "Si nos encontramos en un nodo final azul, el modelo determina que el paciente padece de una enfermedad del corazón, en cambio si es naranja, significa que no tiene enfermedad del corazón. Entre más intenso es el color, mayor es la probabilidad que el diagnóstico sea correcto.\n",
        "\n",
        "El gini nos indica la pureza del nodo, un valor de 1 indica total desigualdad y 0 igualdad perfecta. En este caso, el sexto nodo final tiene un gini=0.0 lo que indica que a todos los pacientes que caen en ese nodo se les asignó el mismo diagnóstico."
      ]
    },
    {
      "cell_type": "markdown",
      "metadata": {
        "id": "xEcIF1PBryel"
      },
      "source": [
        "#####Máquina de Soporte Vectorial"
      ]
    },
    {
      "cell_type": "code",
      "metadata": {
        "colab": {
          "base_uri": "https://localhost:8080/"
        },
        "id": "pRWXXRqBrqpp",
        "outputId": "e0d7de61-9f64-46be-ffc2-b128cca60141"
      },
      "source": [
        "svm = SVC()\n",
        "svm.fit(X_train, y_train)\n",
        "predsvm = svm.predict(X_test)\n",
        "print(\"SVM ALgorithm Train Accuracy: {:.2f}%\".format(svm.score(X_train,y_train)*100))\n",
        "print(\"SVM ALgorithm Test Accuracy: {:.2f}%\".format(svm.score(X_test,y_test)*100))\n",
        "predsvm"
      ],
      "execution_count": 34,
      "outputs": [
        {
          "output_type": "stream",
          "name": "stdout",
          "text": [
            "SVM ALgorithm Train Accuracy: 69.92%\n",
            "SVM ALgorithm Test Accuracy: 61.67%\n"
          ]
        },
        {
          "output_type": "execute_result",
          "data": {
            "text/plain": [
              "array([0, 0, 1, 1, 1, 1, 0, 1, 1, 1, 1, 1, 1, 0, 1, 0, 1, 0, 1, 1, 1, 0,\n",
              "       1, 0, 0, 1, 1, 0, 1, 1, 1, 1, 1, 0, 1, 1, 1, 0, 1, 1, 0, 0, 1, 0,\n",
              "       0, 1, 1, 0, 1, 1, 1, 0, 1, 0, 0, 1, 0, 1, 1, 1])"
            ]
          },
          "metadata": {},
          "execution_count": 34
        }
      ]
    },
    {
      "cell_type": "markdown",
      "metadata": {
        "id": "wv-cXm03r5yU"
      },
      "source": [
        "Vemos que los accuracy scores son menores a 70% por lo que no podemos decir que este es un buen modelo. La clasificación óptima se realiza maximizando el margen de separación entre las clases. La baja precisión se puede deber a que no hay un margen claro entre los datos de los pacientes que tienen y no una enfermedad en el corazón. Trabajar este modelo pero omitiendo algunas variables podría mejorarlo, pero para este modelo no sabemos cuales son las que podríamos omitir.\n",
        "\n",
        "Este modelo funciona mejor con grandes cantidades de registros, en este caso se está entrenando al modelo con 236 registros, lo que puede ser uno de los motivos por el cual este modelo no es muy útil para nuestro análisis."
      ]
    },
    {
      "cell_type": "markdown",
      "metadata": {
        "id": "M44k4Y6LsSbs"
      },
      "source": [
        "#####Comparativa Matrices de Confusión"
      ]
    },
    {
      "cell_type": "code",
      "metadata": {
        "colab": {
          "base_uri": "https://localhost:8080/",
          "height": 363
        },
        "id": "MkTQtgMLsbxL",
        "outputId": "b90ff1e4-20fd-4854-e0ea-0305a2a40a0c"
      },
      "source": [
        "from sklearn.metrics import confusion_matrix\n",
        "\n",
        "cm_lr = confusion_matrix(y_test,test_pred)\n",
        "cm_dt = confusion_matrix(y_test,preds)\n",
        "cm_svm = confusion_matrix(y_test,predsvm)\n",
        "\n",
        "plt.figure(figsize=(15,10))\n",
        "\n",
        "plt.suptitle(\"Matrices de Confusión\",fontsize=24)\n",
        "plt.subplots_adjust(wspace = 0.4, hspace= 0.4)\n",
        "\n",
        "plt.subplot(2,3,1)\n",
        "plt.title(\"Matriz de Confusión Regresión Logística\")\n",
        "sns.heatmap(cm_lr,annot=True,cmap=\"Blues\",fmt=\"d\",cbar=False, annot_kws={\"size\": 24})\n",
        "\n",
        "plt.subplot(2,3,2)\n",
        "plt.title(\"Matriz de Confusión Árbol de Decisión\")\n",
        "sns.heatmap(cm_dt,annot=True,cmap=\"Blues\",fmt=\"d\",cbar=False, annot_kws={\"size\": 24})\n",
        "\n",
        "plt.subplot(2,3,3)\n",
        "plt.title(\"Matriz de Confusión Máquina de Soporte Vectorial\")\n",
        "sns.heatmap(cm_svm,annot=True,cmap=\"Blues\",fmt=\"d\",cbar=False, annot_kws={\"size\": 24})"
      ],
      "execution_count": 35,
      "outputs": [
        {
          "output_type": "execute_result",
          "data": {
            "text/plain": [
              "<matplotlib.axes._subplots.AxesSubplot at 0x7efc3fa058d0>"
            ]
          },
          "metadata": {},
          "execution_count": 35
        },
        {
          "output_type": "display_data",
          "data": {
            "image/png": "[encoded data removed]",
            "text/plain": [
              "<Figure size 1080x720 with 3 Axes>"
            ]
          },
          "metadata": {
            "needs_background": "light"
          }
        }
      ]
    },
    {
      "cell_type": "markdown",
      "metadata": {
        "id": "c06aMof1sgxw"
      },
      "source": [
        "Creamos la matriz de confusión para los tres modelos. Vemos que al utilizar la máquina de soporte vectorial hay más falsos negativos y falsos positivos a compración de los otros dos. La regresión logística es la que clasifica el diagnóstico con mayor precisión (ya que su matriz es la que tiene menos falsos negativos y falsos positivos) pero no significa que el árbol de decisión sea un mal modelo para resolver nuestro objetivo.\n",
        "\n",
        "Elegimos de estos tres la regresión logística. Ya vimos que para estos datos es una regresión significativa y además es el modelo que clasifica los diagnósticos con mejor precisión. También es más facil observar la influencia de las variables, en este caso, NumVasSang y Sexo son las que tienen los coeficientes mas alejados de cero. Esto significa que estas variables tienen mayor influencia en el modelo."
      ]
    },
    {
      "cell_type": "markdown",
      "metadata": {
        "id": "KYnJxsljsjgc"
      },
      "source": [
        "####Conclusión"
      ]
    },
    {
      "cell_type": "markdown",
      "metadata": {
        "id": "-o2O83iVsmS3"
      },
      "source": [
        "Haciendo uso del modelo de regresión logística, y debido a su alto porcentaje de precisión, se estableció que se puede predecir con una precisión de 88.33% la detección de una enfermedad del corazón en un paciente, logrando así el cumplimiento del objetivo principal establecido al inicio del proyecto. Siendo este la predicción de un diagnostico de alguna posible enfermedad del corazón en un paciente en base a las características obtenidas en los estudios clínicos realizados.\n",
        "\n",
        "Se observa que las inferencias realizadas en la sección de Visualización respecto a la influencia de las variables en el diagnóstico y los resultados obtenidos bajo la técnica de minería apuntan a la misma dirección. Del correlograma obtuvimos que variables como Sexo y NumVasSang muestran alta correlación con el objetivo. Según los coeficientes del modelo seleccionado, estas también son las variables con mayor influencia. Por lo anterior, podemos decir que cumplimos con nuestros objetivos, tanto el principal como los secundarios.\n",
        "\n",
        "Una técnica utilizada para la búsqueda de una mayor precisión en los modelos fue no usar ciertas variables, se aplicó esto para varias columnas de información, en especial para la regresión logística, dando como resultado una disminución en el porcentaje de precisión ya obtenido. No se hizo un análisis a todas las variables por lo que existe la posibilidad de una mejora con la eliminación de alguna variable no verificada por el equipo.\n",
        "\n",
        "Respecto a trabajo a futuro, un problema que puede afectar los modelos de regresión y máquina de soporte vectorial es la multicolinealidad. Revisar que no exista multicolinealidad entre variables independientes en estos modelos y en caso de que exista removerlas del modelo puede mejorarlos."
      ]
    },
    {
      "cell_type": "markdown",
      "metadata": {
        "id": "5F6Q_KmWsxSM"
      },
      "source": [
        "#####Recursos\n",
        "Regresión Logística\n",
        "\n",
        "\n",
        "*   https://www.kaggle.com/azmainmorshed/logistic-regression-for-beginners\n",
        "*   https://stackoverflow.com/questions/57924484/finding-coefficients-for-logistic-regression-in-python\n",
        "*   https://www.analyticsvidhya.com/blog/2015/11/beginners-guide-on-logistic-regression-in-r/\n",
        "\n",
        "\n",
        "Árboles de Decisión\n",
        "\n",
        "\n",
        "\n",
        "*   https://www.kaggle.com/sbsatter/decision-tree-on-uci-ml-heart-disease\n",
        "*   https://www.kaggle.com/ashaabrizvi/logisticregression-v-decisiontree-v-randomforest#MODEL-BUILDING\n",
        "\n",
        "\n",
        "\n",
        "Máquina de Soporte Vectorial\n",
        "\n",
        "\n",
        "\n",
        "*   https://www.kaggle.com/caesarmario/heart-disease-prediction-w-various-ml-models\n",
        "\n",
        "\n",
        "\n",
        "\n",
        "Otros Recursos\n",
        "\n",
        "\n",
        "\n",
        "*   https://www.kaggle.com/cdabakoglu/heart-disease-classifications-machine-learning"
      ]
    }
  ]
}