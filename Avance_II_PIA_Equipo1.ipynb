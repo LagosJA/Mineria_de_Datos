{
  "nbformat": 4,
  "nbformat_minor": 0,
  "metadata": {
    "colab": {
      "name": "Avance2_PIA_Equipo1.ipynb",
      "provenance": [],
      "collapsed_sections": [],
      "include_colab_link": true
    },
    "kernelspec": {
      "name": "python3",
      "display_name": "Python 3"
    },
    "language_info": {
      "name": "python"
    }
  },
  "cells": [
    {
      "cell_type": "markdown",
      "metadata": {
        "id": "view-in-github",
        "colab_type": "text"
      },
      "source": [
        "<a href=\"https://colab.research.google.com/github/LagosJA/Mineria_de_Datos/blob/main/Avance_II_PIA_Equipo1.ipynb\" target=\"_parent\"><img src=\"https://colab.research.google.com/assets/colab-badge.svg\" alt=\"Open In Colab\"/></a>"
      ]
    },
    {
      "cell_type": "markdown",
      "metadata": {
        "id": "MwerqVybvkEU"
      },
      "source": [
        "# **Segundo Avance PIA**\n",
        "Equipo 1\n",
        "\n",
        "Grupo 002 Miércoles 7-10 PM\n",
        "\n",
        "Integrantes:\n",
        "\n",
        "\n",
        "*   1851448 Muñoz Barrientos Regina\n",
        "*   1941592 Lagos Martinez José Alejandro\n",
        "*   1793775 Rodriguez Guerrero Luisa Victoria\n",
        "*   1849202 Dominguez Victorino Cesar Oswaldo\n",
        "\n",
        "\n",
        "**CORAZÓN A RITMO SANO**\n",
        "\n",
        "https://www.kaggle.com/ronitf/heart-disease-uci\n",
        "\n",
        " **Introducción.**\n",
        "\n",
        "El corazón es uno de los órganos más importantes ya que bombea sangre y suministra oxígeno y nutrientes a todo el cuerpo. Como cumple con estas funciones tan cruciales su bienestar es de suma importancia. Según la OMS, las enfermedades cardiovasculares son actualmente la principal causa de fallecimiento en todo el mundo representando un 31% de todas las muertes registradas. Una herramienta que explore datos sobre la salud de un paciente y datos sobre su corazón podría ayudar a reducir el tiempo en el que a éste se le brinde un diagnóstico y así iniciar tratamiento correspondiente lo más pronto posible, incrementando sus posibilidades de recuperación e incluso prevenir la muerte.\n",
        "\n",
        "**Descripción de los datos.**\n",
        "\n",
        "Se cuenta con una base de datos de tipo .csv con 303 filas, cada fila contiene información real por paciente y contiene 14 columnas, las columnas son las siguientes:\n",
        "\n",
        "*   **age:**  La edad del paciente en años.\n",
        "*   **sex:** El sexo del paciente siendo 1 = hombre y  0 = mujer.\n",
        "*   **cp:** el tipo de dolor en el pecho que experimenta el paciente: (Valor 1: angina típica, Valor 2: angina atípica, Valor 3: dolor no anginoso, Valor 0: asintomático).\n",
        "*   **trestbps:** La presión sanguínea en mmHg tomada al momento de admisión al hospital.\n",
        "*   **chol:** La medida de colesterol en mg/dl\n",
        "*   **fbs:** “Fasting Blood Sugar” es decir el nivel de azúcar en la sangre de la persona en ayunas, si es mayor de 120 mg/dl se le asigna el valor de 1, de lo contrario se le asigna el valor de 0 (> 120 mg/dl, 1 = true; 0 = false).\n",
        "*   **restecg:** Medición electrocardiográfica en reposo (0 = normal, 1 = con anomalía de la onda ST-T, 2 = muestra una probable o definitiva hipertrofia ventricular izquierda según los criterios de Estes)\n",
        "*   **thalach:** El ritmo cardíaco máximo alcanzado por el paciente en latidos por minuto.\n",
        "*   **exang:** Angina de pecho por ejercicio (1 = si se tiene el síntoma; 0 = no se tiene)\n",
        "*   **oldpeak:** Depresión del ST inducida por el ejercicio en relación con el reposo.\n",
        "*   **slope:** la pendiente del pico del segmento ST de ejercicio (Valor 1: pendiente ascendente, Valor 2: plano, Valor 3: pendiente descendente)\n",
        "*   **ca:** El número de vasos principales (0-3)\n",
        "*   **thal:** Un trastorno sanguíneo llamado talasemia (1 = normal; 2 = defecto fijo; 3 = defecto reversible)\n",
        "*   **target:** El paciente tiene una enfermedad del corazón  (0 = no, 1 = si)\n",
        "\n",
        "**Justificación del uso de datos.**\n",
        "\n",
        "Debido a que en México y en el mundo, la cantidad de personas que fallecen a causa de una enfermedad del cardiovascular es enorme, hacer uso de datos para encontrar indicadores de mala salud del corazón es importante.\n",
        "Dentro de la base de datos se encuentra información que puede ser de ayuda para la prevención de dichas enfermedades de corazón, como lo son la edad del paciente, el tipo de dolor de pecho, la presión sanguínea al momento de presentar dolor, si se pudo o no tratar la enfermedad presentada en un paciente, entre otros aspectos importantes. Además de esto, otro factor favorable que se notó al hacer uso de estos datos, es la importancia que tiene cada uno de ellos hacia el proyecto, su fácil entendimiento y manipulación,  y a su vez el impacto favorable que tendrá para el cumplimiento del objetivo principal.\n",
        "\n",
        "Una gran oportunidad para crear un método de contingencia en caso de que un paciente presente alguno de estos síntomas junto con sus características, debido a la complejidad de diagnóstico de una enfermedad cardiaca cada dato presentado es importante en la contribución de la resolución del problema planteado. Como ya fue mencionado, debido al entendimiento que se logró de cada columna de datos, podemos manejarlos de una forma eficiente y que cumpla con lo que se busca lograr.\n",
        "\n",
        "**Objetivo principal.**\n",
        "\n",
        "Clasificar el diagnóstico sobre la enfermedad de corazón según los resultados de los exámenes y datos biométricos del paciente.\n",
        "\n",
        "**Objetivos secundarios.**\n",
        "\n",
        "*   Identificar datos de mayor influencia al momento de realizar un diagnóstico.\n",
        "*   Encontrar si existen algún grupo de edad o sexo sea más propenso a presentar problemas cardiacos.\n",
        "\n",
        "\n",
        "**Desarrollo de las herramientas.**\n",
        "\n",
        "*Limpieza*\n",
        "\n",
        "Primero se muestra la base de datos original."
      ]
    },
    {
      "cell_type": "code",
      "metadata": {
        "colab": {
          "base_uri": "https://localhost:8080/",
          "height": 203
        },
        "id": "_Mui-qAdvn6D",
        "outputId": "1f559b5c-8485-4025-ef9c-9aab159a1364"
      },
      "source": [
        "import pandas as pd\n",
        "import numpy as np\n",
        "import seaborn as sns\n",
        "import matplotlib.pyplot as plt\n",
        "df = pd.read_csv(\"heart.csv\")\n",
        "df = pd.read_csv(\"heart.csv\",encoding='utf8')\n",
        "df.head()"
      ],
      "execution_count": 1,
      "outputs": [
        {
          "output_type": "execute_result",
          "data": {
            "text/html": [
              "<div>\n",
              "<style scoped>\n",
              "    .dataframe tbody tr th:only-of-type {\n",
              "        vertical-align: middle;\n",
              "    }\n",
              "\n",
              "    .dataframe tbody tr th {\n",
              "        vertical-align: top;\n",
              "    }\n",
              "\n",
              "    .dataframe thead th {\n",
              "        text-align: right;\n",
              "    }\n",
              "</style>\n",
              "<table border=\"1\" class=\"dataframe\">\n",
              "  <thead>\n",
              "    <tr style=\"text-align: right;\">\n",
              "      <th></th>\n",
              "      <th>age</th>\n",
              "      <th>sex</th>\n",
              "      <th>cp</th>\n",
              "      <th>trestbps</th>\n",
              "      <th>chol</th>\n",
              "      <th>fbs</th>\n",
              "      <th>restecg</th>\n",
              "      <th>thalach</th>\n",
              "      <th>exang</th>\n",
              "      <th>oldpeak</th>\n",
              "      <th>slope</th>\n",
              "      <th>ca</th>\n",
              "      <th>thal</th>\n",
              "      <th>target</th>\n",
              "    </tr>\n",
              "  </thead>\n",
              "  <tbody>\n",
              "    <tr>\n",
              "      <th>0</th>\n",
              "      <td>63</td>\n",
              "      <td>1</td>\n",
              "      <td>3</td>\n",
              "      <td>145</td>\n",
              "      <td>233</td>\n",
              "      <td>1</td>\n",
              "      <td>0</td>\n",
              "      <td>150</td>\n",
              "      <td>0</td>\n",
              "      <td>2.3</td>\n",
              "      <td>0</td>\n",
              "      <td>0</td>\n",
              "      <td>1</td>\n",
              "      <td>1</td>\n",
              "    </tr>\n",
              "    <tr>\n",
              "      <th>1</th>\n",
              "      <td>37</td>\n",
              "      <td>1</td>\n",
              "      <td>2</td>\n",
              "      <td>130</td>\n",
              "      <td>250</td>\n",
              "      <td>0</td>\n",
              "      <td>1</td>\n",
              "      <td>187</td>\n",
              "      <td>0</td>\n",
              "      <td>3.5</td>\n",
              "      <td>0</td>\n",
              "      <td>0</td>\n",
              "      <td>2</td>\n",
              "      <td>1</td>\n",
              "    </tr>\n",
              "    <tr>\n",
              "      <th>2</th>\n",
              "      <td>41</td>\n",
              "      <td>0</td>\n",
              "      <td>1</td>\n",
              "      <td>130</td>\n",
              "      <td>204</td>\n",
              "      <td>0</td>\n",
              "      <td>0</td>\n",
              "      <td>172</td>\n",
              "      <td>0</td>\n",
              "      <td>1.4</td>\n",
              "      <td>2</td>\n",
              "      <td>0</td>\n",
              "      <td>2</td>\n",
              "      <td>1</td>\n",
              "    </tr>\n",
              "    <tr>\n",
              "      <th>3</th>\n",
              "      <td>56</td>\n",
              "      <td>1</td>\n",
              "      <td>1</td>\n",
              "      <td>120</td>\n",
              "      <td>236</td>\n",
              "      <td>0</td>\n",
              "      <td>1</td>\n",
              "      <td>178</td>\n",
              "      <td>0</td>\n",
              "      <td>0.8</td>\n",
              "      <td>2</td>\n",
              "      <td>0</td>\n",
              "      <td>2</td>\n",
              "      <td>1</td>\n",
              "    </tr>\n",
              "    <tr>\n",
              "      <th>4</th>\n",
              "      <td>57</td>\n",
              "      <td>0</td>\n",
              "      <td>0</td>\n",
              "      <td>120</td>\n",
              "      <td>354</td>\n",
              "      <td>0</td>\n",
              "      <td>1</td>\n",
              "      <td>163</td>\n",
              "      <td>1</td>\n",
              "      <td>0.6</td>\n",
              "      <td>2</td>\n",
              "      <td>0</td>\n",
              "      <td>2</td>\n",
              "      <td>1</td>\n",
              "    </tr>\n",
              "  </tbody>\n",
              "</table>\n",
              "</div>"
            ],
            "text/plain": [
              "   age  sex  cp  trestbps  chol  fbs  ...  exang  oldpeak  slope  ca  thal  target\n",
              "0   63    1   3       145   233    1  ...      0      2.3      0   0     1       1\n",
              "1   37    1   2       130   250    0  ...      0      3.5      0   0     2       1\n",
              "2   41    0   1       130   204    0  ...      0      1.4      2   0     2       1\n",
              "3   56    1   1       120   236    0  ...      0      0.8      2   0     2       1\n",
              "4   57    0   0       120   354    0  ...      1      0.6      2   0     2       1\n",
              "\n",
              "[5 rows x 14 columns]"
            ]
          },
          "metadata": {},
          "execution_count": 1
        }
      ]
    },
    {
      "cell_type": "markdown",
      "metadata": {
        "id": "uGR2wtI3vqWM"
      },
      "source": [
        "El primer cambio que se realizó fue renombrar las columnas para un entendimiento más claro."
      ]
    },
    {
      "cell_type": "code",
      "metadata": {
        "colab": {
          "base_uri": "https://localhost:8080/",
          "height": 203
        },
        "id": "3gMV5y_PvtKM",
        "outputId": "4b9f4324-cfa6-42e2-9b76-bb2294e89e29"
      },
      "source": [
        "df.columns = ['Edad','Sexo','DolorPecho','PresArtRep','Col','NivAzuAyu','Electro','MaxRitCard','Angina','MinElectro','Pendiente','NumVasSang','thal','Objetivo']\n",
        "df.head()"
      ],
      "execution_count": 3,
      "outputs": [
        {
          "output_type": "execute_result",
          "data": {
            "text/html": [
              "<div>\n",
              "<style scoped>\n",
              "    .dataframe tbody tr th:only-of-type {\n",
              "        vertical-align: middle;\n",
              "    }\n",
              "\n",
              "    .dataframe tbody tr th {\n",
              "        vertical-align: top;\n",
              "    }\n",
              "\n",
              "    .dataframe thead th {\n",
              "        text-align: right;\n",
              "    }\n",
              "</style>\n",
              "<table border=\"1\" class=\"dataframe\">\n",
              "  <thead>\n",
              "    <tr style=\"text-align: right;\">\n",
              "      <th></th>\n",
              "      <th>Edad</th>\n",
              "      <th>Sexo</th>\n",
              "      <th>DolorPecho</th>\n",
              "      <th>PresArtRep</th>\n",
              "      <th>Col</th>\n",
              "      <th>NivAzuAyu</th>\n",
              "      <th>Electro</th>\n",
              "      <th>MaxRitCard</th>\n",
              "      <th>Angina</th>\n",
              "      <th>MinElectro</th>\n",
              "      <th>Pendiente</th>\n",
              "      <th>NumVasSang</th>\n",
              "      <th>thal</th>\n",
              "      <th>Objetivo</th>\n",
              "    </tr>\n",
              "  </thead>\n",
              "  <tbody>\n",
              "    <tr>\n",
              "      <th>0</th>\n",
              "      <td>63</td>\n",
              "      <td>1</td>\n",
              "      <td>3</td>\n",
              "      <td>145</td>\n",
              "      <td>233</td>\n",
              "      <td>1</td>\n",
              "      <td>0</td>\n",
              "      <td>150</td>\n",
              "      <td>0</td>\n",
              "      <td>2.3</td>\n",
              "      <td>0</td>\n",
              "      <td>0</td>\n",
              "      <td>1</td>\n",
              "      <td>1</td>\n",
              "    </tr>\n",
              "    <tr>\n",
              "      <th>1</th>\n",
              "      <td>37</td>\n",
              "      <td>1</td>\n",
              "      <td>2</td>\n",
              "      <td>130</td>\n",
              "      <td>250</td>\n",
              "      <td>0</td>\n",
              "      <td>1</td>\n",
              "      <td>187</td>\n",
              "      <td>0</td>\n",
              "      <td>3.5</td>\n",
              "      <td>0</td>\n",
              "      <td>0</td>\n",
              "      <td>2</td>\n",
              "      <td>1</td>\n",
              "    </tr>\n",
              "    <tr>\n",
              "      <th>2</th>\n",
              "      <td>41</td>\n",
              "      <td>0</td>\n",
              "      <td>1</td>\n",
              "      <td>130</td>\n",
              "      <td>204</td>\n",
              "      <td>0</td>\n",
              "      <td>0</td>\n",
              "      <td>172</td>\n",
              "      <td>0</td>\n",
              "      <td>1.4</td>\n",
              "      <td>2</td>\n",
              "      <td>0</td>\n",
              "      <td>2</td>\n",
              "      <td>1</td>\n",
              "    </tr>\n",
              "    <tr>\n",
              "      <th>3</th>\n",
              "      <td>56</td>\n",
              "      <td>1</td>\n",
              "      <td>1</td>\n",
              "      <td>120</td>\n",
              "      <td>236</td>\n",
              "      <td>0</td>\n",
              "      <td>1</td>\n",
              "      <td>178</td>\n",
              "      <td>0</td>\n",
              "      <td>0.8</td>\n",
              "      <td>2</td>\n",
              "      <td>0</td>\n",
              "      <td>2</td>\n",
              "      <td>1</td>\n",
              "    </tr>\n",
              "    <tr>\n",
              "      <th>4</th>\n",
              "      <td>57</td>\n",
              "      <td>0</td>\n",
              "      <td>0</td>\n",
              "      <td>120</td>\n",
              "      <td>354</td>\n",
              "      <td>0</td>\n",
              "      <td>1</td>\n",
              "      <td>163</td>\n",
              "      <td>1</td>\n",
              "      <td>0.6</td>\n",
              "      <td>2</td>\n",
              "      <td>0</td>\n",
              "      <td>2</td>\n",
              "      <td>1</td>\n",
              "    </tr>\n",
              "  </tbody>\n",
              "</table>\n",
              "</div>"
            ],
            "text/plain": [
              "   Edad  Sexo  DolorPecho  PresArtRep  ...  Pendiente  NumVasSang  thal  Objetivo\n",
              "0    63     1           3         145  ...          0           0     1         1\n",
              "1    37     1           2         130  ...          0           0     2         1\n",
              "2    41     0           1         130  ...          2           0     2         1\n",
              "3    56     1           1         120  ...          2           0     2         1\n",
              "4    57     0           0         120  ...          2           0     2         1\n",
              "\n",
              "[5 rows x 14 columns]"
            ]
          },
          "metadata": {},
          "execution_count": 3
        }
      ]
    },
    {
      "cell_type": "markdown",
      "metadata": {
        "id": "e1CXYLKNvv8E"
      },
      "source": [
        "Después se escaneó la base de datos en busca de datos nulos y se descubrio que no existía ninguno."
      ]
    },
    {
      "cell_type": "code",
      "metadata": {
        "colab": {
          "base_uri": "https://localhost:8080/"
        },
        "id": "mvx3x_arvyQ5",
        "outputId": "8803dec8-bfc9-4e65-fe9f-5a8771ab7c1d"
      },
      "source": [
        "df.isnull().sum()"
      ],
      "execution_count": 4,
      "outputs": [
        {
          "output_type": "execute_result",
          "data": {
            "text/plain": [
              "Edad          0\n",
              "Sexo          0\n",
              "DolorPecho    0\n",
              "PresArtRep    0\n",
              "Col           0\n",
              "NivAzuAyu     0\n",
              "Electro       0\n",
              "MaxRitCard    0\n",
              "Angina        0\n",
              "MinElectro    0\n",
              "Pendiente     0\n",
              "NumVasSang    0\n",
              "thal          0\n",
              "Objetivo      0\n",
              "dtype: int64"
            ]
          },
          "metadata": {},
          "execution_count": 4
        }
      ]
    },
    {
      "cell_type": "markdown",
      "metadata": {
        "id": "DY8IFO81xYNn"
      },
      "source": [
        "*Estadística Básica de los Datos*\n",
        "\n",
        "Vemos que no hay ningún dato nulo así que procedemos a la sección de Estadística."
      ]
    },
    {
      "cell_type": "code",
      "metadata": {
        "colab": {
          "base_uri": "https://localhost:8080/",
          "height": 295
        },
        "id": "OSWo2JLWyJTH",
        "outputId": "0cc7300e-a74a-49c6-838e-6cf1cd4201eb"
      },
      "source": [
        "df.describe()"
      ],
      "execution_count": 5,
      "outputs": [
        {
          "output_type": "execute_result",
          "data": {
            "text/html": [
              "<div>\n",
              "<style scoped>\n",
              "    .dataframe tbody tr th:only-of-type {\n",
              "        vertical-align: middle;\n",
              "    }\n",
              "\n",
              "    .dataframe tbody tr th {\n",
              "        vertical-align: top;\n",
              "    }\n",
              "\n",
              "    .dataframe thead th {\n",
              "        text-align: right;\n",
              "    }\n",
              "</style>\n",
              "<table border=\"1\" class=\"dataframe\">\n",
              "  <thead>\n",
              "    <tr style=\"text-align: right;\">\n",
              "      <th></th>\n",
              "      <th>Edad</th>\n",
              "      <th>Sexo</th>\n",
              "      <th>DolorPecho</th>\n",
              "      <th>PresArtRep</th>\n",
              "      <th>Col</th>\n",
              "      <th>NivAzuAyu</th>\n",
              "      <th>Electro</th>\n",
              "      <th>MaxRitCard</th>\n",
              "      <th>Angina</th>\n",
              "      <th>MinElectro</th>\n",
              "      <th>Pendiente</th>\n",
              "      <th>NumVasSang</th>\n",
              "      <th>thal</th>\n",
              "      <th>Objetivo</th>\n",
              "    </tr>\n",
              "  </thead>\n",
              "  <tbody>\n",
              "    <tr>\n",
              "      <th>count</th>\n",
              "      <td>303.000000</td>\n",
              "      <td>303.000000</td>\n",
              "      <td>303.000000</td>\n",
              "      <td>303.000000</td>\n",
              "      <td>303.000000</td>\n",
              "      <td>303.000000</td>\n",
              "      <td>303.000000</td>\n",
              "      <td>303.000000</td>\n",
              "      <td>303.000000</td>\n",
              "      <td>303.000000</td>\n",
              "      <td>303.000000</td>\n",
              "      <td>303.000000</td>\n",
              "      <td>303.000000</td>\n",
              "      <td>303.000000</td>\n",
              "    </tr>\n",
              "    <tr>\n",
              "      <th>mean</th>\n",
              "      <td>54.366337</td>\n",
              "      <td>0.683168</td>\n",
              "      <td>0.966997</td>\n",
              "      <td>131.623762</td>\n",
              "      <td>246.264026</td>\n",
              "      <td>0.148515</td>\n",
              "      <td>0.528053</td>\n",
              "      <td>149.646865</td>\n",
              "      <td>0.326733</td>\n",
              "      <td>1.039604</td>\n",
              "      <td>1.399340</td>\n",
              "      <td>0.729373</td>\n",
              "      <td>2.313531</td>\n",
              "      <td>0.544554</td>\n",
              "    </tr>\n",
              "    <tr>\n",
              "      <th>std</th>\n",
              "      <td>9.082101</td>\n",
              "      <td>0.466011</td>\n",
              "      <td>1.032052</td>\n",
              "      <td>17.538143</td>\n",
              "      <td>51.830751</td>\n",
              "      <td>0.356198</td>\n",
              "      <td>0.525860</td>\n",
              "      <td>22.905161</td>\n",
              "      <td>0.469794</td>\n",
              "      <td>1.161075</td>\n",
              "      <td>0.616226</td>\n",
              "      <td>1.022606</td>\n",
              "      <td>0.612277</td>\n",
              "      <td>0.498835</td>\n",
              "    </tr>\n",
              "    <tr>\n",
              "      <th>min</th>\n",
              "      <td>29.000000</td>\n",
              "      <td>0.000000</td>\n",
              "      <td>0.000000</td>\n",
              "      <td>94.000000</td>\n",
              "      <td>126.000000</td>\n",
              "      <td>0.000000</td>\n",
              "      <td>0.000000</td>\n",
              "      <td>71.000000</td>\n",
              "      <td>0.000000</td>\n",
              "      <td>0.000000</td>\n",
              "      <td>0.000000</td>\n",
              "      <td>0.000000</td>\n",
              "      <td>0.000000</td>\n",
              "      <td>0.000000</td>\n",
              "    </tr>\n",
              "    <tr>\n",
              "      <th>25%</th>\n",
              "      <td>47.500000</td>\n",
              "      <td>0.000000</td>\n",
              "      <td>0.000000</td>\n",
              "      <td>120.000000</td>\n",
              "      <td>211.000000</td>\n",
              "      <td>0.000000</td>\n",
              "      <td>0.000000</td>\n",
              "      <td>133.500000</td>\n",
              "      <td>0.000000</td>\n",
              "      <td>0.000000</td>\n",
              "      <td>1.000000</td>\n",
              "      <td>0.000000</td>\n",
              "      <td>2.000000</td>\n",
              "      <td>0.000000</td>\n",
              "    </tr>\n",
              "    <tr>\n",
              "      <th>50%</th>\n",
              "      <td>55.000000</td>\n",
              "      <td>1.000000</td>\n",
              "      <td>1.000000</td>\n",
              "      <td>130.000000</td>\n",
              "      <td>240.000000</td>\n",
              "      <td>0.000000</td>\n",
              "      <td>1.000000</td>\n",
              "      <td>153.000000</td>\n",
              "      <td>0.000000</td>\n",
              "      <td>0.800000</td>\n",
              "      <td>1.000000</td>\n",
              "      <td>0.000000</td>\n",
              "      <td>2.000000</td>\n",
              "      <td>1.000000</td>\n",
              "    </tr>\n",
              "    <tr>\n",
              "      <th>75%</th>\n",
              "      <td>61.000000</td>\n",
              "      <td>1.000000</td>\n",
              "      <td>2.000000</td>\n",
              "      <td>140.000000</td>\n",
              "      <td>274.500000</td>\n",
              "      <td>0.000000</td>\n",
              "      <td>1.000000</td>\n",
              "      <td>166.000000</td>\n",
              "      <td>1.000000</td>\n",
              "      <td>1.600000</td>\n",
              "      <td>2.000000</td>\n",
              "      <td>1.000000</td>\n",
              "      <td>3.000000</td>\n",
              "      <td>1.000000</td>\n",
              "    </tr>\n",
              "    <tr>\n",
              "      <th>max</th>\n",
              "      <td>77.000000</td>\n",
              "      <td>1.000000</td>\n",
              "      <td>3.000000</td>\n",
              "      <td>200.000000</td>\n",
              "      <td>564.000000</td>\n",
              "      <td>1.000000</td>\n",
              "      <td>2.000000</td>\n",
              "      <td>202.000000</td>\n",
              "      <td>1.000000</td>\n",
              "      <td>6.200000</td>\n",
              "      <td>2.000000</td>\n",
              "      <td>4.000000</td>\n",
              "      <td>3.000000</td>\n",
              "      <td>1.000000</td>\n",
              "    </tr>\n",
              "  </tbody>\n",
              "</table>\n",
              "</div>"
            ],
            "text/plain": [
              "             Edad        Sexo  DolorPecho  ...  NumVasSang        thal    Objetivo\n",
              "count  303.000000  303.000000  303.000000  ...  303.000000  303.000000  303.000000\n",
              "mean    54.366337    0.683168    0.966997  ...    0.729373    2.313531    0.544554\n",
              "std      9.082101    0.466011    1.032052  ...    1.022606    0.612277    0.498835\n",
              "min     29.000000    0.000000    0.000000  ...    0.000000    0.000000    0.000000\n",
              "25%     47.500000    0.000000    0.000000  ...    0.000000    2.000000    0.000000\n",
              "50%     55.000000    1.000000    1.000000  ...    0.000000    2.000000    1.000000\n",
              "75%     61.000000    1.000000    2.000000  ...    1.000000    3.000000    1.000000\n",
              "max     77.000000    1.000000    3.000000  ...    4.000000    3.000000    1.000000\n",
              "\n",
              "[8 rows x 14 columns]"
            ]
          },
          "metadata": {},
          "execution_count": 5
        }
      ]
    },
    {
      "cell_type": "markdown",
      "metadata": {
        "id": "sNTcym1qv0c0"
      },
      "source": [
        "Nótese que en la columna NumVasSang el máximo es 4 y que en la columna thal el mínimo es 0.\n",
        "\n",
        "Según la descripción de los datos en Kaggle, la columna thal debe contener valores 1, 2 ó 3, por lo que el mínimo no debería ser cero.\n",
        "De la misma forma para la columna NumVasSang, esta debe contener datos 0, 1, 2 ó 3, como el máximo es 4, significa que algo no está bien.\n",
        "\n",
        "Se descubrieron estas inconformidades entre los datos, por lo que se investigó y se encontró que los datos fueron obtenidos de las bases de datos del hospital de Cleveland y comparando estas dos bases se descubrió que sí existían datos nulos en la original y en la utilizada habían sido llenados con otros valores por lo que se decidió eliminar las filas que contenían estos datos nulos.\n",
        "\n",
        "Esta información se consiguió en este foro de discusión: [https://www.kaggle.com/ronitf/heart-disease-uci/discussion/105877](https://www.kaggle.com/ronitf/heart-disease-uci/discussion/105877)\n",
        "\n"
      ]
    },
    {
      "cell_type": "code",
      "metadata": {
        "id": "P7hAX74tv2n1",
        "colab": {
          "base_uri": "https://localhost:8080/",
          "height": 295
        },
        "outputId": "abe0f0ef-6a08-4828-f59a-23c13e9236b3"
      },
      "source": [
        "df1=df.drop(df[df['NumVasSang'] == 4].index)\n",
        "df1=df1.drop(df1[df1['thal'] == 0].index)\n",
        "df1.describe()"
      ],
      "execution_count": 7,
      "outputs": [
        {
          "output_type": "execute_result",
          "data": {
            "text/html": [
              "<div>\n",
              "<style scoped>\n",
              "    .dataframe tbody tr th:only-of-type {\n",
              "        vertical-align: middle;\n",
              "    }\n",
              "\n",
              "    .dataframe tbody tr th {\n",
              "        vertical-align: top;\n",
              "    }\n",
              "\n",
              "    .dataframe thead th {\n",
              "        text-align: right;\n",
              "    }\n",
              "</style>\n",
              "<table border=\"1\" class=\"dataframe\">\n",
              "  <thead>\n",
              "    <tr style=\"text-align: right;\">\n",
              "      <th></th>\n",
              "      <th>Edad</th>\n",
              "      <th>Sexo</th>\n",
              "      <th>DolorPecho</th>\n",
              "      <th>PresArtRep</th>\n",
              "      <th>Col</th>\n",
              "      <th>NivAzuAyu</th>\n",
              "      <th>Electro</th>\n",
              "      <th>MaxRitCard</th>\n",
              "      <th>Angina</th>\n",
              "      <th>MinElectro</th>\n",
              "      <th>Pendiente</th>\n",
              "      <th>NumVasSang</th>\n",
              "      <th>thal</th>\n",
              "      <th>Objetivo</th>\n",
              "    </tr>\n",
              "  </thead>\n",
              "  <tbody>\n",
              "    <tr>\n",
              "      <th>count</th>\n",
              "      <td>296.000000</td>\n",
              "      <td>296.000000</td>\n",
              "      <td>296.000000</td>\n",
              "      <td>296.00000</td>\n",
              "      <td>296.000000</td>\n",
              "      <td>296.00000</td>\n",
              "      <td>296.000000</td>\n",
              "      <td>296.000000</td>\n",
              "      <td>296.000000</td>\n",
              "      <td>296.000000</td>\n",
              "      <td>296.000000</td>\n",
              "      <td>296.000000</td>\n",
              "      <td>296.000000</td>\n",
              "      <td>296.000000</td>\n",
              "    </tr>\n",
              "    <tr>\n",
              "      <th>mean</th>\n",
              "      <td>54.523649</td>\n",
              "      <td>0.679054</td>\n",
              "      <td>0.959459</td>\n",
              "      <td>131.60473</td>\n",
              "      <td>247.155405</td>\n",
              "      <td>0.14527</td>\n",
              "      <td>0.523649</td>\n",
              "      <td>149.560811</td>\n",
              "      <td>0.327703</td>\n",
              "      <td>1.059122</td>\n",
              "      <td>1.395270</td>\n",
              "      <td>0.679054</td>\n",
              "      <td>2.327703</td>\n",
              "      <td>0.540541</td>\n",
              "    </tr>\n",
              "    <tr>\n",
              "      <th>std</th>\n",
              "      <td>9.059471</td>\n",
              "      <td>0.467631</td>\n",
              "      <td>1.034184</td>\n",
              "      <td>17.72662</td>\n",
              "      <td>51.977011</td>\n",
              "      <td>0.35297</td>\n",
              "      <td>0.526692</td>\n",
              "      <td>22.970792</td>\n",
              "      <td>0.470171</td>\n",
              "      <td>1.166474</td>\n",
              "      <td>0.618235</td>\n",
              "      <td>0.939726</td>\n",
              "      <td>0.585743</td>\n",
              "      <td>0.499198</td>\n",
              "    </tr>\n",
              "    <tr>\n",
              "      <th>min</th>\n",
              "      <td>29.000000</td>\n",
              "      <td>0.000000</td>\n",
              "      <td>0.000000</td>\n",
              "      <td>94.00000</td>\n",
              "      <td>126.000000</td>\n",
              "      <td>0.00000</td>\n",
              "      <td>0.000000</td>\n",
              "      <td>71.000000</td>\n",
              "      <td>0.000000</td>\n",
              "      <td>0.000000</td>\n",
              "      <td>0.000000</td>\n",
              "      <td>0.000000</td>\n",
              "      <td>1.000000</td>\n",
              "      <td>0.000000</td>\n",
              "    </tr>\n",
              "    <tr>\n",
              "      <th>25%</th>\n",
              "      <td>48.000000</td>\n",
              "      <td>0.000000</td>\n",
              "      <td>0.000000</td>\n",
              "      <td>120.00000</td>\n",
              "      <td>211.000000</td>\n",
              "      <td>0.00000</td>\n",
              "      <td>0.000000</td>\n",
              "      <td>133.000000</td>\n",
              "      <td>0.000000</td>\n",
              "      <td>0.000000</td>\n",
              "      <td>1.000000</td>\n",
              "      <td>0.000000</td>\n",
              "      <td>2.000000</td>\n",
              "      <td>0.000000</td>\n",
              "    </tr>\n",
              "    <tr>\n",
              "      <th>50%</th>\n",
              "      <td>56.000000</td>\n",
              "      <td>1.000000</td>\n",
              "      <td>1.000000</td>\n",
              "      <td>130.00000</td>\n",
              "      <td>242.500000</td>\n",
              "      <td>0.00000</td>\n",
              "      <td>1.000000</td>\n",
              "      <td>152.500000</td>\n",
              "      <td>0.000000</td>\n",
              "      <td>0.800000</td>\n",
              "      <td>1.000000</td>\n",
              "      <td>0.000000</td>\n",
              "      <td>2.000000</td>\n",
              "      <td>1.000000</td>\n",
              "    </tr>\n",
              "    <tr>\n",
              "      <th>75%</th>\n",
              "      <td>61.000000</td>\n",
              "      <td>1.000000</td>\n",
              "      <td>2.000000</td>\n",
              "      <td>140.00000</td>\n",
              "      <td>275.250000</td>\n",
              "      <td>0.00000</td>\n",
              "      <td>1.000000</td>\n",
              "      <td>166.000000</td>\n",
              "      <td>1.000000</td>\n",
              "      <td>1.650000</td>\n",
              "      <td>2.000000</td>\n",
              "      <td>1.000000</td>\n",
              "      <td>3.000000</td>\n",
              "      <td>1.000000</td>\n",
              "    </tr>\n",
              "    <tr>\n",
              "      <th>max</th>\n",
              "      <td>77.000000</td>\n",
              "      <td>1.000000</td>\n",
              "      <td>3.000000</td>\n",
              "      <td>200.00000</td>\n",
              "      <td>564.000000</td>\n",
              "      <td>1.00000</td>\n",
              "      <td>2.000000</td>\n",
              "      <td>202.000000</td>\n",
              "      <td>1.000000</td>\n",
              "      <td>6.200000</td>\n",
              "      <td>2.000000</td>\n",
              "      <td>3.000000</td>\n",
              "      <td>3.000000</td>\n",
              "      <td>1.000000</td>\n",
              "    </tr>\n",
              "  </tbody>\n",
              "</table>\n",
              "</div>"
            ],
            "text/plain": [
              "             Edad        Sexo  DolorPecho  ...  NumVasSang        thal    Objetivo\n",
              "count  296.000000  296.000000  296.000000  ...  296.000000  296.000000  296.000000\n",
              "mean    54.523649    0.679054    0.959459  ...    0.679054    2.327703    0.540541\n",
              "std      9.059471    0.467631    1.034184  ...    0.939726    0.585743    0.499198\n",
              "min     29.000000    0.000000    0.000000  ...    0.000000    1.000000    0.000000\n",
              "25%     48.000000    0.000000    0.000000  ...    0.000000    2.000000    0.000000\n",
              "50%     56.000000    1.000000    1.000000  ...    0.000000    2.000000    1.000000\n",
              "75%     61.000000    1.000000    2.000000  ...    1.000000    3.000000    1.000000\n",
              "max     77.000000    1.000000    3.000000  ...    3.000000    3.000000    1.000000\n",
              "\n",
              "[8 rows x 14 columns]"
            ]
          },
          "metadata": {},
          "execution_count": 7
        }
      ]
    },
    {
      "cell_type": "code",
      "metadata": {
        "id": "-2JqPc9tv77s"
      },
      "source": [
        "df1.to_csv(\"/content/HeartLimpio.csv\",index=False)"
      ],
      "execution_count": 14,
      "outputs": []
    },
    {
      "cell_type": "markdown",
      "metadata": {
        "id": "mlpGxltkz7rT"
      },
      "source": [
        "Se eliminaron y registros por los motivos anteriores. Entre los aspectos importantes a notar sobre la estadística de los datos es que la media y mediana de colesterol son mayores a 200 mg/dL. Un nivel normal de colesterol es entre 125 y 200 mg/dL. Es decir que la mayoría de los pacientes en el registro presentan un nivel alto de colesterol.\n",
        "\n",
        "Como la columna de NivAzuAyu vale 1 si el nivel de azucar es alto y 0 si no, la media es la proporción de pacientes que si cumplen con la condición. En este caso solo 14.52% de los pacientes presentan un nivel de azucar mayor a 120 mg/dL.\n",
        "\n",
        "Con la misma lógica, vemos que el 67.9% de los registros corresponden a pacientes del sexo masculino. Observamos 54% de los pacientes fueron diagnosticados con una enfermedad del corazón. Además la edad media de los pacientes es de 54.52 años.\n",
        "\n",
        "_Visualización_\n",
        "\n",
        "Empezaremos con la proporción de pacientes diagnosticados con una enfermedad del corazón en la base de datos. Nos apoyaremos de una gráfica de pastel."
      ]
    },
    {
      "cell_type": "code",
      "metadata": {
        "colab": {
          "base_uri": "https://localhost:8080/",
          "height": 264
        },
        "id": "mTESOUeZ6fK1",
        "outputId": "761ffd6d-59be-4fb7-c5eb-1de590adeabb"
      },
      "source": [
        "df_target = df1.groupby(\"Objetivo\").size()\n",
        "plt.pie(df_target.values, labels = [\"Sano del Corazón\", \"Enfermo del Corazón\"], autopct='%1.2f%%', radius = 1, textprops = {\"fontsize\" : 12}) \n",
        "plt.title(\"Proporción Sanos y Enfermos\")\n",
        "plt.show()"
      ],
      "execution_count": 19,
      "outputs": [
        {
          "output_type": "display_data",
          "data": {
            "image/png": "[encoded data removed]",
            "text/plain": [
              "<Figure size 432x288 with 1 Axes>"
            ]
          },
          "metadata": {}
        }
      ]
    },
    {
      "cell_type": "markdown",
      "metadata": {
        "id": "XQs4E9nU6qvl"
      },
      "source": [
        "En esta gráfica podemos ver que contamos con una proporción similar de registros para pacientes que fueron diagnosticados con una enfermedad del corazón y los que no. ¿Qué pasa si los separamos por sexo?"
      ]
    },
    {
      "cell_type": "code",
      "metadata": {
        "colab": {
          "base_uri": "https://localhost:8080/",
          "height": 264
        },
        "id": "tPRqWoQ17hq5",
        "outputId": "c8a2913d-2718-4757-c874-c6e9168f9575"
      },
      "source": [
        "df_sex = df1.groupby([\"Sexo\",\"Objetivo\"]).size()\n",
        "plt.pie(df_sex.values, labels = [\"Muejres Sanas\", \"Mujeres Enfermas\", \"Hombres Sanos\", \"Hombres Enfermos\"],autopct='%1.1f%%',radius = 1, textprops = {\"fontsize\" : 12})\n",
        "plt.title(\"Proporción Sanos y Enfermos por Sexo\")\n",
        "plt.show()"
      ],
      "execution_count": 20,
      "outputs": [
        {
          "output_type": "display_data",
          "data": {
            "image/png": "[encoded data removed]",
            "text/plain": [
              "<Figure size 432x288 with 1 Axes>"
            ]
          },
          "metadata": {}
        }
      ]
    },
    {
      "cell_type": "markdown",
      "metadata": {
        "id": "txdCKJkd7rsX"
      },
      "source": [
        "Separando los pacientes por su sexo y su diagnóstico obtenemos más información. Hay casi tres veces la cantidad de mujeres que fueron diagnosticadas con enfermedades del corazón en comparación a las que no. En el caso de los hombres, hay más sanos que enfermos. También vemos que hay aproximadamente el doble de pacientes masculinos a comparación a los del sexo femenino.\n",
        "\n",
        "Viendo esta relación entre el sexo y el diagnóstico, ¿cómo afectará la edad al diagnóstico?"
      ]
    },
    {
      "cell_type": "code",
      "metadata": {
        "colab": {
          "base_uri": "https://localhost:8080/",
          "height": 295
        },
        "id": "XitSOV3A-kSW",
        "outputId": "5b7ccbad-5e33-42f4-8c1a-898b7958ae90"
      },
      "source": [
        "m = plt.hist(df[df[\"Objetivo\"] == 1].Edad,bins=30,fc = (1,0,0,0.5),label = \"Enfermo\")\n",
        "b = plt.hist(df[df[\"Objetivo\"] == 0].Edad,bins=30,fc = (0,1,0,0.5),label = \"Sano\")\n",
        "plt.legend()\n",
        "plt.xlabel(\"Edad\")\n",
        "plt.ylabel(\"Frecuencia\")\n",
        "plt.title(\"Histograma\")\n",
        "plt.show()"
      ],
      "execution_count": 21,
      "outputs": [
        {
          "output_type": "display_data",
          "data": {
            "image/png": "[encoded data removed]",
            "text/plain": [
              "<Figure size 432x288 with 1 Axes>"
            ]
          },
          "metadata": {
            "needs_background": "light"
          }
        }
      ]
    },
    {
      "cell_type": "markdown",
      "metadata": {
        "id": "-BlUudCa-w22"
      },
      "source": [
        "A diferencia de lo que se esperaría, la disribución de frecuencia de los pacientes diagnosticados con enfermedades del corazón está a la izquierda de los pacientes sanos del corazón. Esto idica que en general los pacientes que son diagnosticados con una enfermedad del corazón tienden a ser más jóvenes que los sanos. Después de ver como el sexo y la edad afectan al diagnóstico, ¿qué informacón nos pueden dar los indicadores de salud sobre el diagnóstico?\n"
      ]
    },
    {
      "cell_type": "code",
      "metadata": {
        "colab": {
          "base_uri": "https://localhost:8080/",
          "height": 513
        },
        "id": "mHNWr2cgFE-y",
        "outputId": "9a147cf2-a9d3-41ec-c0bf-ff0ec7fb0cb2"
      },
      "source": [
        "mdata = pd.melt(df1,id_vars = \"Objetivo\",value_vars = ['PresArtRep', 'MaxRitCard'])\n",
        "plt.figure(figsize = (11,8))\n",
        "sns.boxplot(x = \"variable\", y = \"value\", hue=\"Objetivo\",data= mdata)\n",
        "plt.title(\"Boxplot Presión Arterial en Reposo y Máximo Ritmo Cardiaco\")\n",
        "plt.show()"
      ],
      "execution_count": 31,
      "outputs": [
        {
          "output_type": "display_data",
          "data": {
            "image/png": "[encoded data removed]",
            "text/plain": [
              "<Figure size 792x576 with 1 Axes>"
            ]
          },
          "metadata": {
            "needs_background": "light"
          }
        }
      ]
    },
    {
      "cell_type": "markdown",
      "metadata": {
        "id": "AeF4CywlGPlY"
      },
      "source": [
        "Vemos que los pacientes que no fueron diagnosticados con una enfermedad del corazón tienden a mostrar mayor presión arterial en reposo pero un máximo ritmo cardiaco más bajo. Otro indicador que es comunmente asociado con enfermedades del corazón es el nivel de colesterol."
      ]
    },
    {
      "cell_type": "code",
      "metadata": {
        "colab": {
          "base_uri": "https://localhost:8080/",
          "height": 513
        },
        "id": "e2s0QMpZIDrJ",
        "outputId": "a2e67b72-c8f7-438b-ea81-25c96c27d83c"
      },
      "source": [
        "plt.figure(figsize = (10,8))\n",
        "sns.boxplot(y='Col',x='Objetivo',data=df1)\n",
        "plt.title(\"Boxplot Colesterol\")\n",
        "plt.show()"
      ],
      "execution_count": 43,
      "outputs": [
        {
          "output_type": "display_data",
          "data": {
            "image/png": "[encoded data removed]",
            "text/plain": [
              "<Figure size 720x576 with 1 Axes>"
            ]
          },
          "metadata": {
            "needs_background": "light"
          }
        }
      ]
    },
    {
      "cell_type": "markdown",
      "metadata": {
        "id": "8bi_hZNaIEGX"
      },
      "source": [
        "Se decidió revisar el colesterol por separado de la presión arterial y máximo ritmo cardiaco por temas de escala. Sorprendente el diagrama de caja de los pacientes sanos es muy similar al de aquellos que fueron diagnosticados con enfermedades del corazón, lo que nos hace inferir que el colesterol alto no afecta significativamente al diagnóstico del corazón del paciente.\n",
        "\n",
        "El resultado de una fluorscopia revela cuantos vasos sanguíneos son visbles en el paciente. Si se observan pocos o ningun vaso sanguíneo esto puede indicar coágulos o mala circulación."
      ]
    },
    {
      "cell_type": "code",
      "metadata": {
        "colab": {
          "base_uri": "https://localhost:8080/",
          "height": 203
        },
        "id": "eH5IxaD9LO1M",
        "outputId": "e61c6383-9529-4274-f7cd-5f1c282c73dd"
      },
      "source": [
        "h=df1.loc[df['Objetivo']==1,'NumVasSang'].value_counts()\n",
        "m=df1.loc[df['Objetivo']==0,'NumVasSang'].value_counts()\n",
        "n=[0,1,2,3]\n",
        "bd = pd.DataFrame({\"Numero Vasos Sanguineos\":n, \"Enfermos\":h, \"Sanos\":m})\n",
        "bd= bd.set_index(\"Numero Vasos Sanguineos\")\n",
        "bd"
      ],
      "execution_count": 40,
      "outputs": [
        {
          "output_type": "execute_result",
          "data": {
            "text/html": [
              "<div>\n",
              "<style scoped>\n",
              "    .dataframe tbody tr th:only-of-type {\n",
              "        vertical-align: middle;\n",
              "    }\n",
              "\n",
              "    .dataframe tbody tr th {\n",
              "        vertical-align: top;\n",
              "    }\n",
              "\n",
              "    .dataframe thead th {\n",
              "        text-align: right;\n",
              "    }\n",
              "</style>\n",
              "<table border=\"1\" class=\"dataframe\">\n",
              "  <thead>\n",
              "    <tr style=\"text-align: right;\">\n",
              "      <th></th>\n",
              "      <th>Enfermos</th>\n",
              "      <th>Sanos</th>\n",
              "    </tr>\n",
              "    <tr>\n",
              "      <th>Numero Vasos Sanguineos</th>\n",
              "      <th></th>\n",
              "      <th></th>\n",
              "    </tr>\n",
              "  </thead>\n",
              "  <tbody>\n",
              "    <tr>\n",
              "      <th>0</th>\n",
              "      <td>129</td>\n",
              "      <td>44</td>\n",
              "    </tr>\n",
              "    <tr>\n",
              "      <th>1</th>\n",
              "      <td>21</td>\n",
              "      <td>44</td>\n",
              "    </tr>\n",
              "    <tr>\n",
              "      <th>2</th>\n",
              "      <td>7</td>\n",
              "      <td>31</td>\n",
              "    </tr>\n",
              "    <tr>\n",
              "      <th>3</th>\n",
              "      <td>3</td>\n",
              "      <td>17</td>\n",
              "    </tr>\n",
              "  </tbody>\n",
              "</table>\n",
              "</div>"
            ],
            "text/plain": [
              "                         Enfermos  Sanos\n",
              "Numero Vasos Sanguineos                 \n",
              "0                             129     44\n",
              "1                              21     44\n",
              "2                               7     31\n",
              "3                               3     17"
            ]
          },
          "metadata": {},
          "execution_count": 40
        }
      ]
    },
    {
      "cell_type": "code",
      "metadata": {
        "colab": {
          "base_uri": "https://localhost:8080/",
          "height": 293
        },
        "id": "l-_3_gaCLgd-",
        "outputId": "571a7153-5d1b-4fdd-9985-8353a85b9324"
      },
      "source": [
        "bd.plot.bar(stacked=True)"
      ],
      "execution_count": 41,
      "outputs": [
        {
          "output_type": "execute_result",
          "data": {
            "text/plain": [
              "<matplotlib.axes._subplots.AxesSubplot at 0x7f91f56c7810>"
            ]
          },
          "metadata": {},
          "execution_count": 41
        },
        {
          "output_type": "display_data",
          "data": {
            "image/png": "[encoded data removed]",
            "text/plain": [
              "<Figure size 432x288 with 1 Axes>"
            ]
          },
          "metadata": {
            "needs_background": "light"
          }
        }
      ]
    },
    {
      "cell_type": "markdown",
      "metadata": {
        "id": "kgN9IorvMW6U"
      },
      "source": [
        "Observamos que entre menor es número de vasos sanguíneos observados, mayor es la frecuencia con la que se presentan pacientes diagnosticados con enfermedad del corazón."
      ]
    },
    {
      "cell_type": "markdown",
      "metadata": {
        "id": "xjN8KwOzKlST"
      },
      "source": [
        "Para concluir desde una perspectiva más genralizada realizaremos un correlograma para ver de qué forma las variables afectan a la columna objetivo."
      ]
    },
    {
      "cell_type": "code",
      "metadata": {
        "colab": {
          "base_uri": "https://localhost:8080/",
          "height": 881
        },
        "id": "sv27YRyvKE9Z",
        "outputId": "6789435f-65ca-49a0-9dda-86657ce401b4"
      },
      "source": [
        "df0=df1.drop(\"DolorPecho\",axis=1)\n",
        "df0=df0.drop(\"thal\",axis=1)\n",
        "df0=df0.drop(\"Pendiente\",axis=1) #Eliminamos las variables categoricas no binarias\n",
        "f,ax=plt.subplots(figsize = (14,14))\n",
        "sns.heatmap(df0.corr(),annot= True,linewidths=0.5,fmt = \".2f\",ax=ax)\n",
        "plt.xticks(rotation=90)\n",
        "plt.yticks(rotation=0)\n",
        "plt.title('Mapa de correlación')\n",
        "plt.show()"
      ],
      "execution_count": 48,
      "outputs": [
        {
          "output_type": "display_data",
          "data": {
            "image/png": "[encoded data removed]",
            "text/plain": [
              "<Figure size 1008x1008 with 2 Axes>"
            ]
          },
          "metadata": {
            "needs_background": "light"
          }
        }
      ]
    },
    {
      "cell_type": "markdown",
      "metadata": {
        "id": "vqHugviJOBCu"
      },
      "source": [
        "Del correlograma podemos obtener conclusiones similares a las que nos brindaban las gráficas anteriores. La edad y el sexo se correlacionan de manera negativa al diagnostico. Es decir los hombres son menos propensos a ser diagnosticados con enfermedades del corazón en comparación a las mujeres y los pacientes mayores son diagnosticados con enfermades del corazón con menor frecuencia.\n",
        "\n",
        "La correlación entre el diagnósitco y el colesterol es muy cercana a cero, es decir, no están correlacionados de manera significativa. La columna Angina indica si el paciente presenta dolor de pecho al hacer ejercicio. Esperaríamos que este fuera un indicador para el diagnóstico pero se correlaciona de forma negativa, lo que indica lo contrario.\n",
        "\n",
        "En conclusión, después de analizar las variables y cómo se relacionan a la columna de interés Objetivo, la evidencia apunta a que la variabla con mayor influencia al momento de realizar el diagnóstico es el número de vasos sanguíneos observados en una fluorscopia (objetivo secundario). Otras variables que muestran alta correlación son máximo ritmo cardiaco, angina y Depresión del ST inducida por el ejercicio (MinElectro). Como el objetivo es encontrar un modelo que pueda clasificar un diagnóstico a partir de los datos del paciente, el equipo se interesa por temas como Regresión Logística.\n",
        "\n"
      ]
    }
  ]
}