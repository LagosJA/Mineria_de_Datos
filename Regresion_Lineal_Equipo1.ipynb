{
  "nbformat": 4,
  "nbformat_minor": 0,
  "metadata": {
    "colab": {
      "name": "Regresion_Lineal_Equipo1.ipynb",
      "provenance": [],
      "collapsed_sections": [],
      "include_colab_link": true
    },
    "kernelspec": {
      "name": "python3",
      "display_name": "Python 3"
    },
    "language_info": {
      "name": "python"
    }
  },
  "cells": [
    {
      "cell_type": "markdown",
      "metadata": {
        "id": "view-in-github",
        "colab_type": "text"
      },
      "source": [
        "<a href=\"https://colab.research.google.com/github/LagosJA/Mineria_de_Datos/blob/main/Regresion_Lineal_Equipo1.ipynb\" target=\"_parent\"><img src=\"https://colab.research.google.com/assets/colab-badge.svg\" alt=\"Open In Colab\"/></a>"
      ]
    },
    {
      "cell_type": "markdown",
      "metadata": {
        "id": "E8e8hz9J_yjU"
      },
      "source": [
        "## Regresión Lineal"
      ]
    },
    {
      "cell_type": "code",
      "metadata": {
        "id": "KtiZEAV30Url"
      },
      "source": [
        "import pandas as pd\n",
        "import numpy as np\n",
        "import matplotlib.pyplot as plt #Visualización\n",
        "import seaborn as sns #Visualización\n",
        "from statsmodels.formula.api import ols\n",
        "from sklearn.feature_selection import RFE\n",
        "from sklearn.linear_model import LinearRegression\n",
        "import statsmodels.api as sm\n",
        "from sklearn.metrics import mean_squared_error\n",
        "from statsmodels.stats.outliers_influence import variance_inflation_factor\n",
        "df = pd.read_csv(\"Fish.csv\")"
      ],
      "execution_count": null,
      "outputs": []
    },
    {
      "cell_type": "markdown",
      "metadata": {
        "id": "1KehWQA05OlU"
      },
      "source": [
        "Importar librerias y los datos"
      ]
    },
    {
      "cell_type": "code",
      "metadata": {
        "id": "glX0hAFX5PBb",
        "colab": {
          "base_uri": "https://localhost:8080/"
        },
        "outputId": "7913a267-60ef-4898-f5c2-ab12c18d4be9"
      },
      "source": [
        "print(df.head())\n",
        "print(df.shape)"
      ],
      "execution_count": null,
      "outputs": [
        {
          "output_type": "stream",
          "name": "stdout",
          "text": [
            "  Species  Weight  Length1  Length2  Length3   Height   Width\n",
            "0   Bream   242.0     23.2     25.4     30.0  11.5200  4.0200\n",
            "1   Bream   290.0     24.0     26.3     31.2  12.4800  4.3056\n",
            "2   Bream   340.0     23.9     26.5     31.1  12.3778  4.6961\n",
            "3   Bream   363.0     26.3     29.0     33.5  12.7300  4.4555\n",
            "4   Bream   430.0     26.5     29.0     34.0  12.4440  5.1340\n",
            "(159, 7)\n"
          ]
        }
      ]
    },
    {
      "cell_type": "markdown",
      "metadata": {
        "id": "P59NHp9S_8qO"
      },
      "source": [
        "Verificamos que no hayan datos nulos."
      ]
    },
    {
      "cell_type": "code",
      "metadata": {
        "colab": {
          "base_uri": "https://localhost:8080/"
        },
        "id": "URI6MTjBK_ek",
        "outputId": "b5c579a6-4533-4595-eaca-ce41db47cbf4"
      },
      "source": [
        "df.isnull().sum()"
      ],
      "execution_count": null,
      "outputs": [
        {
          "output_type": "execute_result",
          "data": {
            "text/plain": [
              "Species    0\n",
              "Weight     0\n",
              "Length1    0\n",
              "Length2    0\n",
              "Length3    0\n",
              "Height     0\n",
              "Width      0\n",
              "dtype: int64"
            ]
          },
          "metadata": {},
          "execution_count": 121
        }
      ]
    },
    {
      "cell_type": "markdown",
      "metadata": {
        "id": "EblslTlu859x"
      },
      "source": [
        "No hay datos nulos, proseguimos."
      ]
    },
    {
      "cell_type": "code",
      "metadata": {
        "id": "CsBAe0Al_vW6",
        "colab": {
          "base_uri": "https://localhost:8080/"
        },
        "outputId": "da341ca7-52e9-451f-8071-b79925ef70bf"
      },
      "source": [
        "perch=df[df['Species']=='Perch']\n",
        "perch.shape"
      ],
      "execution_count": null,
      "outputs": [
        {
          "output_type": "execute_result",
          "data": {
            "text/plain": [
              "(56, 7)"
            ]
          },
          "metadata": {},
          "execution_count": 122
        }
      ]
    },
    {
      "cell_type": "markdown",
      "metadata": {
        "id": "YZ-jVX--AAsc"
      },
      "source": [
        "Como perch se extrajo de otra base de datos, los elementos conservan los indices de la base original, queremos que empiecen desde cero asi que usamos reset_index().\n",
        "\n",
        "El problema es que los indices anteriores se quedan guardados en una nueva columna llamada index, asi que la eliminamos."
      ]
    },
    {
      "cell_type": "code",
      "metadata": {
        "id": "xWmbpBlC_yJZ"
      },
      "source": [
        "perch=perch.drop(\"Species\",axis=1)\n",
        "perch=perch.reset_index()"
      ],
      "execution_count": null,
      "outputs": []
    },
    {
      "cell_type": "code",
      "metadata": {
        "colab": {
          "base_uri": "https://localhost:8080/",
          "height": 203
        },
        "id": "xLHXICEsXqQz",
        "outputId": "f5c6808f-a0af-46c9-d1c3-f8d9d47cacd0"
      },
      "source": [
        "perch=perch.drop(\"index\",axis=1)\n",
        "perch.head()"
      ],
      "execution_count": null,
      "outputs": [
        {
          "output_type": "execute_result",
          "data": {
            "text/html": [
              "<div>\n",
              "<style scoped>\n",
              "    .dataframe tbody tr th:only-of-type {\n",
              "        vertical-align: middle;\n",
              "    }\n",
              "\n",
              "    .dataframe tbody tr th {\n",
              "        vertical-align: top;\n",
              "    }\n",
              "\n",
              "    .dataframe thead th {\n",
              "        text-align: right;\n",
              "    }\n",
              "</style>\n",
              "<table border=\"1\" class=\"dataframe\">\n",
              "  <thead>\n",
              "    <tr style=\"text-align: right;\">\n",
              "      <th></th>\n",
              "      <th>Weight</th>\n",
              "      <th>Length1</th>\n",
              "      <th>Length2</th>\n",
              "      <th>Length3</th>\n",
              "      <th>Height</th>\n",
              "      <th>Width</th>\n",
              "    </tr>\n",
              "  </thead>\n",
              "  <tbody>\n",
              "    <tr>\n",
              "      <th>0</th>\n",
              "      <td>5.9</td>\n",
              "      <td>7.5</td>\n",
              "      <td>8.4</td>\n",
              "      <td>8.8</td>\n",
              "      <td>2.1120</td>\n",
              "      <td>1.4080</td>\n",
              "    </tr>\n",
              "    <tr>\n",
              "      <th>1</th>\n",
              "      <td>32.0</td>\n",
              "      <td>12.5</td>\n",
              "      <td>13.7</td>\n",
              "      <td>14.7</td>\n",
              "      <td>3.5280</td>\n",
              "      <td>1.9992</td>\n",
              "    </tr>\n",
              "    <tr>\n",
              "      <th>2</th>\n",
              "      <td>40.0</td>\n",
              "      <td>13.8</td>\n",
              "      <td>15.0</td>\n",
              "      <td>16.0</td>\n",
              "      <td>3.8240</td>\n",
              "      <td>2.4320</td>\n",
              "    </tr>\n",
              "    <tr>\n",
              "      <th>3</th>\n",
              "      <td>51.5</td>\n",
              "      <td>15.0</td>\n",
              "      <td>16.2</td>\n",
              "      <td>17.2</td>\n",
              "      <td>4.5924</td>\n",
              "      <td>2.6316</td>\n",
              "    </tr>\n",
              "    <tr>\n",
              "      <th>4</th>\n",
              "      <td>70.0</td>\n",
              "      <td>15.7</td>\n",
              "      <td>17.4</td>\n",
              "      <td>18.5</td>\n",
              "      <td>4.5880</td>\n",
              "      <td>2.9415</td>\n",
              "    </tr>\n",
              "  </tbody>\n",
              "</table>\n",
              "</div>"
            ],
            "text/plain": [
              "   Weight  Length1  Length2  Length3  Height   Width\n",
              "0     5.9      7.5      8.4      8.8  2.1120  1.4080\n",
              "1    32.0     12.5     13.7     14.7  3.5280  1.9992\n",
              "2    40.0     13.8     15.0     16.0  3.8240  2.4320\n",
              "3    51.5     15.0     16.2     17.2  4.5924  2.6316\n",
              "4    70.0     15.7     17.4     18.5  4.5880  2.9415"
            ]
          },
          "metadata": {},
          "execution_count": 124
        }
      ]
    },
    {
      "cell_type": "markdown",
      "metadata": {
        "id": "BSRzC89l_u6_"
      },
      "source": [
        "## Análisis Visual"
      ]
    },
    {
      "cell_type": "code",
      "metadata": {
        "colab": {
          "base_uri": "https://localhost:8080/",
          "height": 286
        },
        "id": "JRQ4X8odL6rb",
        "outputId": "5d9524dd-9c0a-4389-9c44-1e319abe6a30"
      },
      "source": [
        "corr = perch.corr(method='pearson')\n",
        "sns.heatmap(corr, xticklabels = corr.columns.values, yticklabels=corr.columns.values)"
      ],
      "execution_count": null,
      "outputs": [
        {
          "output_type": "execute_result",
          "data": {
            "text/plain": [
              "<matplotlib.axes._subplots.AxesSubplot at 0x7fcd65d30dd0>"
            ]
          },
          "metadata": {},
          "execution_count": 125
        },
        {
          "output_type": "display_data",
          "data": {
            "image/png": "[encoded data removed]",
            "text/plain": [
              "<Figure size 432x288 with 2 Axes>"
            ]
          },
          "metadata": {
            "needs_background": "light"
          }
        }
      ]
    },
    {
      "cell_type": "code",
      "metadata": {
        "colab": {
          "base_uri": "https://localhost:8080/",
          "height": 214
        },
        "id": "Ybli0JJD9B9B",
        "outputId": "b8e95ce7-c961-4282-a769-569cbe3f9b71"
      },
      "source": [
        "sns.pairplot(perch, x_vars=['Height','Length1', 'Length2', 'Length3', 'Width'], y_vars='Weight')"
      ],
      "execution_count": null,
      "outputs": [
        {
          "output_type": "execute_result",
          "data": {
            "text/plain": [
              "<seaborn.axisgrid.PairGrid at 0x7fcd65d25c90>"
            ]
          },
          "metadata": {},
          "execution_count": 126
        },
        {
          "output_type": "display_data",
          "data": {
            "image/png": "[encoded data removed]",
            "text/plain": [
              "<Figure size 900x180 with 5 Axes>"
            ]
          },
          "metadata": {
            "needs_background": "light"
          }
        }
      ]
    },
    {
      "cell_type": "markdown",
      "metadata": {
        "id": "KIMQe1CgBD5_"
      },
      "source": [
        "## Programación de la Regresión Lineal"
      ]
    },
    {
      "cell_type": "code",
      "metadata": {
        "id": "ouOJnmcjePR0"
      },
      "source": [
        "def build_model(X,y):\n",
        "    X = sm.add_constant(X) #Adding the constant\n",
        "    lm = sm.OLS(y,X).fit() # fitting the model\n",
        "    print(lm.summary()) # model summary\n",
        "    \n",
        "    return X\n",
        "\n",
        "def checkVIF(X):\n",
        "    vif = pd.DataFrame()\n",
        "    vif['Variables'] = X.columns\n",
        "    vif['VIF'] = [variance_inflation_factor(X.values, i) for i in range(X.shape[1])]\n",
        "    vif['VIF'] = round(vif['VIF'], 2)\n",
        "    return(vif)"
      ],
      "execution_count": null,
      "outputs": []
    },
    {
      "cell_type": "code",
      "metadata": {
        "id": "n7hy_RaC6x8V"
      },
      "source": [
        "# Fit the model\n",
        "y = perch[\"Weight\"]\n",
        "x1 = perch[\"Length1\"]\n",
        "x2 = perch[\"Length2\"]\n",
        "x3 = perch[\"Length3\"]\n",
        "x4 = perch[\"Height\"]\n",
        "x5 = perch[\"Width\"]\n",
        "x42=perch[\"Height\"]**2\n",
        "d = {\"x1\": x1, \"x2\": x2, \"x3\": x3,\"x4\":x4,\"x5\":x5}\n",
        "X=pd.DataFrame(d)"
      ],
      "execution_count": null,
      "outputs": []
    },
    {
      "cell_type": "code",
      "metadata": {
        "colab": {
          "base_uri": "https://localhost:8080/"
        },
        "id": "npiwqJLSeqYR",
        "outputId": "fea9b137-6902-45a2-ab73-9af6ba0109f4"
      },
      "source": [
        "model1=build_model(X,y)"
      ],
      "execution_count": null,
      "outputs": [
        {
          "output_type": "stream",
          "name": "stdout",
          "text": [
            "                            OLS Regression Results                            \n",
            "==============================================================================\n",
            "Dep. Variable:                 Weight   R-squared:                       0.943\n",
            "Model:                            OLS   Adj. R-squared:                  0.937\n",
            "Method:                 Least Squares   F-statistic:                     165.2\n",
            "Date:                Wed, 08 Sep 2021   Prob (F-statistic):           7.60e-30\n",
            "Time:                        19:48:50   Log-Likelihood:                -326.45\n",
            "No. Observations:                  56   AIC:                             664.9\n",
            "Df Residuals:                      50   BIC:                             677.0\n",
            "Df Model:                           5                                         \n",
            "Covariance Type:            nonrobust                                         \n",
            "==============================================================================\n",
            "                 coef    std err          t      P>|t|      [0.025      0.975]\n",
            "------------------------------------------------------------------------------\n",
            "const       -556.5865     60.663     -9.175      0.000    -678.431    -434.741\n",
            "x1            -3.1302     57.880     -0.054      0.957    -119.386     113.126\n",
            "x2           -38.5019     88.552     -0.435      0.666    -216.364     139.361\n",
            "x3            42.9174     60.088      0.714      0.478     -77.773     163.608\n",
            "x4            65.6555     29.998      2.189      0.033       5.402     125.909\n",
            "x5            64.9023     36.765      1.765      0.084      -8.943     138.748\n",
            "==============================================================================\n",
            "Omnibus:                       21.244   Durbin-Watson:                   0.500\n",
            "Prob(Omnibus):                  0.000   Jarque-Bera (JB):               29.351\n",
            "Skew:                           1.415   Prob(JB):                     4.23e-07\n",
            "Kurtosis:                       5.137   Cond. No.                         495.\n",
            "==============================================================================\n",
            "\n",
            "Warnings:\n",
            "[1] Standard Errors assume that the covariance matrix of the errors is correctly specified.\n"
          ]
        }
      ]
    },
    {
      "cell_type": "markdown",
      "metadata": {
        "id": "JKYNTApDBYr5"
      },
      "source": [
        "Del resumen del modelo podemos obtener el ajuste, los coeficientes y un p-valor para una prueba de significancia."
      ]
    },
    {
      "cell_type": "code",
      "metadata": {
        "colab": {
          "base_uri": "https://localhost:8080/",
          "height": 234
        },
        "id": "Kq_hDo5XbV4S",
        "outputId": "d4224769-0613-4d11-f9cf-e9bb07272fdb"
      },
      "source": [
        "checkVIF(model1)"
      ],
      "execution_count": null,
      "outputs": [
        {
          "output_type": "execute_result",
          "data": {
            "text/html": [
              "<div>\n",
              "<style scoped>\n",
              "    .dataframe tbody tr th:only-of-type {\n",
              "        vertical-align: middle;\n",
              "    }\n",
              "\n",
              "    .dataframe tbody tr th {\n",
              "        vertical-align: top;\n",
              "    }\n",
              "\n",
              "    .dataframe thead th {\n",
              "        text-align: right;\n",
              "    }\n",
              "</style>\n",
              "<table border=\"1\" class=\"dataframe\">\n",
              "  <thead>\n",
              "    <tr style=\"text-align: right;\">\n",
              "      <th></th>\n",
              "      <th>Variables</th>\n",
              "      <th>VIF</th>\n",
              "    </tr>\n",
              "  </thead>\n",
              "  <tbody>\n",
              "    <tr>\n",
              "      <th>0</th>\n",
              "      <td>const</td>\n",
              "      <td>27.16</td>\n",
              "    </tr>\n",
              "    <tr>\n",
              "      <th>1</th>\n",
              "      <td>x1</td>\n",
              "      <td>1780.08</td>\n",
              "    </tr>\n",
              "    <tr>\n",
              "      <th>2</th>\n",
              "      <td>x2</td>\n",
              "      <td>4626.41</td>\n",
              "    </tr>\n",
              "    <tr>\n",
              "      <th>3</th>\n",
              "      <td>x3</td>\n",
              "      <td>2376.77</td>\n",
              "    </tr>\n",
              "    <tr>\n",
              "      <th>4</th>\n",
              "      <td>x4</td>\n",
              "      <td>54.04</td>\n",
              "    </tr>\n",
              "    <tr>\n",
              "      <th>5</th>\n",
              "      <td>x5</td>\n",
              "      <td>30.86</td>\n",
              "    </tr>\n",
              "  </tbody>\n",
              "</table>\n",
              "</div>"
            ],
            "text/plain": [
              "  Variables      VIF\n",
              "0     const    27.16\n",
              "1        x1  1780.08\n",
              "2        x2  4626.41\n",
              "3        x3  2376.77\n",
              "4        x4    54.04\n",
              "5        x5    30.86"
            ]
          },
          "metadata": {},
          "execution_count": 147
        }
      ]
    },
    {
      "cell_type": "markdown",
      "metadata": {
        "id": "UTT3gtdyfhe8"
      },
      "source": [
        "Hay graves problemas de multicolinealidad, por lo que decidimos usar el modelo de regresión simple, es decir, con una sola variable."
      ]
    },
    {
      "cell_type": "code",
      "metadata": {
        "colab": {
          "base_uri": "https://localhost:8080/"
        },
        "id": "DijZfx6Ofotk",
        "outputId": "3bda0eab-f5f7-4c17-a0f7-fb207eaf4660"
      },
      "source": [
        "d1 = {\"x4\":x4}\n",
        "X_1=pd.DataFrame(d1)\n",
        "mod2=build_model(X_1,y)"
      ],
      "execution_count": null,
      "outputs": [
        {
          "output_type": "stream",
          "name": "stdout",
          "text": [
            "                            OLS Regression Results                            \n",
            "==============================================================================\n",
            "Dep. Variable:                 Weight   R-squared:                       0.938\n",
            "Model:                            OLS   Adj. R-squared:                  0.937\n",
            "Method:                 Least Squares   F-statistic:                     815.2\n",
            "Date:                Wed, 08 Sep 2021   Prob (F-statistic):           2.92e-34\n",
            "Time:                        20:18:55   Log-Likelihood:                -328.82\n",
            "No. Observations:                  56   AIC:                             661.6\n",
            "Df Residuals:                      54   BIC:                             665.7\n",
            "Df Model:                           1                                         \n",
            "Covariance Type:            nonrobust                                         \n",
            "==============================================================================\n",
            "                 coef    std err          t      P>|t|      [0.025      0.975]\n",
            "------------------------------------------------------------------------------\n",
            "const       -537.3275     34.260    -15.684      0.000    -606.015    -468.640\n",
            "x4           116.9654      4.096     28.553      0.000     108.752     125.178\n",
            "==============================================================================\n",
            "Omnibus:                       11.275   Durbin-Watson:                   0.678\n",
            "Prob(Omnibus):                  0.004   Jarque-Bera (JB):               11.319\n",
            "Skew:                           0.954   Prob(JB):                      0.00349\n",
            "Kurtosis:                       4.099   Cond. No.                         24.8\n",
            "==============================================================================\n",
            "\n",
            "Warnings:\n",
            "[1] Standard Errors assume that the covariance matrix of the errors is correctly specified.\n"
          ]
        }
      ]
    },
    {
      "cell_type": "markdown",
      "metadata": {
        "id": "wEQbrzlJ-9GJ"
      },
      "source": [
        "Graficamos nuestro modelo lineal."
      ]
    },
    {
      "cell_type": "code",
      "metadata": {
        "colab": {
          "base_uri": "https://localhost:8080/",
          "height": 282
        },
        "id": "b2BxKX3YK_J2",
        "outputId": "30d589a2-f2a5-42c1-9a3a-0a8e135f10a4"
      },
      "source": [
        "plt.plot(x4, y, 'o')\n",
        "m, b = np.polyfit(x4, y, 1)\n",
        "plt.plot(x4, m*x4 + b)"
      ],
      "execution_count": null,
      "outputs": [
        {
          "output_type": "execute_result",
          "data": {
            "text/plain": [
              "[<matplotlib.lines.Line2D at 0x7fcd656fc410>]"
            ]
          },
          "metadata": {},
          "execution_count": 146
        },
        {
          "output_type": "display_data",
          "data": {
            "image/png": "[encoded data removed]",
            "text/plain": [
              "<Figure size 432x288 with 1 Axes>"
            ]
          },
          "metadata": {
            "needs_background": "light"
          }
        }
      ]
    },
    {
      "cell_type": "markdown",
      "metadata": {
        "id": "DhcGbEhg_Aaj"
      },
      "source": [
        "Si creamos una nueva columna que contenga los cuadrados de otra, podemos hacer un modelo polinomial, en este caso cuadrático."
      ]
    },
    {
      "cell_type": "code",
      "metadata": {
        "colab": {
          "base_uri": "https://localhost:8080/"
        },
        "id": "3zOFQ4cMQubE",
        "outputId": "d3ff2d89-962e-4051-973f-a11b89504991"
      },
      "source": [
        "x4_2=perch[\"Height\"]**2\n",
        "d2 = {\"x4\":x4, \"x4_2\":x4_2}\n",
        "X_2=pd.DataFrame(d2)\n",
        "mod3=build_model(X_2,y)"
      ],
      "execution_count": null,
      "outputs": [
        {
          "output_type": "stream",
          "name": "stdout",
          "text": [
            "                            OLS Regression Results                            \n",
            "==============================================================================\n",
            "Dep. Variable:                 Weight   R-squared:                       0.981\n",
            "Model:                            OLS   Adj. R-squared:                  0.981\n",
            "Method:                 Least Squares   F-statistic:                     1395.\n",
            "Date:                Wed, 08 Sep 2021   Prob (F-statistic):           1.47e-46\n",
            "Time:                        23:37:04   Log-Likelihood:                -295.11\n",
            "No. Observations:                  56   AIC:                             596.2\n",
            "Df Residuals:                      53   BIC:                             602.3\n",
            "Df Model:                           2                                         \n",
            "Covariance Type:            nonrobust                                         \n",
            "==============================================================================\n",
            "                 coef    std err          t      P>|t|      [0.025      0.975]\n",
            "------------------------------------------------------------------------------\n",
            "const         92.4902     59.731      1.548      0.127     -27.314     212.295\n",
            "x4           -54.1540     15.557     -3.481      0.001     -85.357     -22.952\n",
            "x4_2          10.2295      0.920     11.118      0.000       8.384      12.075\n",
            "==============================================================================\n",
            "Omnibus:                       13.550   Durbin-Watson:                   1.563\n",
            "Prob(Omnibus):                  0.001   Jarque-Bera (JB):               34.089\n",
            "Skew:                          -0.510   Prob(JB):                     3.96e-08\n",
            "Kurtosis:                       6.684   Cond. No.                         815.\n",
            "==============================================================================\n",
            "\n",
            "Warnings:\n",
            "[1] Standard Errors assume that the covariance matrix of the errors is correctly specified.\n"
          ]
        }
      ]
    },
    {
      "cell_type": "code",
      "metadata": {
        "colab": {
          "base_uri": "https://localhost:8080/",
          "height": 282
        },
        "id": "rQyaX-GqNU7U",
        "outputId": "6e8c809e-0735-472c-9738-0963f694e317"
      },
      "source": [
        "plt.plot(x4, y, 'o')\n",
        "a,b,c = np.polyfit(x4, y, 2)\n",
        "plt.plot(x4, a*x4*x4 +b*x4 + c)"
      ],
      "execution_count": null,
      "outputs": [
        {
          "output_type": "execute_result",
          "data": {
            "text/plain": [
              "[<matplotlib.lines.Line2D at 0x7fcd657d4a90>]"
            ]
          },
          "metadata": {},
          "execution_count": 149
        },
        {
          "output_type": "display_data",
          "data": {
            "image/png": "[encoded data removed]",
            "text/plain": [
              "<Figure size 432x288 with 1 Axes>"
            ]
          },
          "metadata": {
            "needs_background": "light"
          }
        }
      ]
    },
    {
      "cell_type": "markdown",
      "metadata": {
        "id": "cmU2emPI_SKR"
      },
      "source": [
        "Proseguimos a hacer predicciones/estimaciones en este caso cuanto es el peso de una percha con altura de 9.5 cm."
      ]
    },
    {
      "cell_type": "code",
      "metadata": {
        "colab": {
          "base_uri": "https://localhost:8080/"
        },
        "id": "OoQV-cv4vidh",
        "outputId": "492eec87-0327-4075-eb28-514ae9855f3e"
      },
      "source": [
        "X_2=sm.add_constant(X_2)\n",
        "y_pred = sm.OLS(y,X_2).fit().predict([1,9.5,9.5**2]) #lo que está dentro del arreglo es lo que multiplica a las betas, incluyendo B0\n",
        "y_pred"
      ],
      "execution_count": null,
      "outputs": [
        {
          "output_type": "execute_result",
          "data": {
            "text/plain": [
              "array([501.23791418])"
            ]
          },
          "metadata": {},
          "execution_count": 173
        }
      ]
    }
  ]
}