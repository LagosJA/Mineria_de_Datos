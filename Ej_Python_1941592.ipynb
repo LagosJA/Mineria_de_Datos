{
  "nbformat": 4,
  "nbformat_minor": 0,
  "metadata": {
    "colab": {
      "name": "Ej_Python_1941592.ipynb",
      "provenance": [],
      "authorship_tag": "ABX9TyP+ANCFxVzfj7MzdIXNCax4",
      "include_colab_link": true
    },
    "kernelspec": {
      "name": "python3",
      "display_name": "Python 3"
    },
    "language_info": {
      "name": "python"
    }
  },
  "cells": [
    {
      "cell_type": "markdown",
      "metadata": {
        "id": "view-in-github",
        "colab_type": "text"
      },
      "source": [
        "<a href=\"https://colab.research.google.com/github/LagosJA/Mineria_de_Datos/blob/main/Ej_Python_1941592.ipynb\" target=\"_parent\"><img src=\"https://colab.research.google.com/assets/colab-badge.svg\" alt=\"Open In Colab\"/></a>"
      ]
    },
    {
      "cell_type": "markdown",
      "metadata": {
        "id": "WVJAdWgW26bX"
      },
      "source": [
        "**Ejercicio 1**\n",
        "\n",
        "Realiza una variable con tu matricula y realiza una secuencia de imprimir con tu nombre y tu matricula concatenados."
      ]
    },
    {
      "cell_type": "code",
      "metadata": {
        "colab": {
          "base_uri": "https://localhost:8080/"
        },
        "id": "F1UQZz2_0W2p",
        "outputId": "a3fdca47-f5af-487b-e4d8-9ad0ae4f966e"
      },
      "source": [
        "mat = \"1941592\"\n",
        "nom= \"Jose Alejandro Lagos Martinez \"\n",
        "nm = nom + mat\n",
        "print(\"Hola, mi nombre y matrícula son:\",nm)"
      ],
      "execution_count": 87,
      "outputs": [
        {
          "output_type": "stream",
          "text": [
            "Hola, mi nombre y matrícula son: Jose Alejandro Lagos Martinez 1941592\n"
          ],
          "name": "stdout"
        }
      ]
    },
    {
      "cell_type": "markdown",
      "metadata": {
        "id": "BlpPKloX25Un"
      },
      "source": [
        "**Ejercicio 2**\n",
        "\n",
        "Pidiendo el input del usuario pide dos números y crea una pequeña calculadora con los operadores básicos de suma, resta, multiplicación, división, y exponente."
      ]
    },
    {
      "cell_type": "code",
      "metadata": {
        "colab": {
          "base_uri": "https://localhost:8080/"
        },
        "id": "uoPDaNSt6ccI",
        "outputId": "f65dd70b-3f65-4a39-b804-e370470896fb"
      },
      "source": [
        "a = int(input(\"Introduce un número: \"))\n",
        "b = int(input(\"Introduce otro número: \"))\n",
        "print(\"\\n\")\n",
        "print(a,\"+\",b,\"=\",a+b)\n",
        "print(a,\"-\",b,\"=\",a-b)\n",
        "print(a,\"x\",b,\"=\",a*b)\n",
        "print(a,\"÷\",b,\"=\",a/b)\n",
        "print(a,\"^\",b,\"=\",a**b)"
      ],
      "execution_count": 86,
      "outputs": [
        {
          "output_type": "stream",
          "text": [
            "Introduce un número: 3\n",
            "Introduce otro número: 2\n",
            "\n",
            "\n",
            "3 + 2 = 5\n",
            "3 - 2 = 1\n",
            "3 x 2 = 6\n",
            "3 ÷ 2 = 1.5\n",
            "3 ^ 2 = 9\n"
          ],
          "name": "stdout"
        }
      ]
    },
    {
      "cell_type": "markdown",
      "metadata": {
        "id": "R6E23XQGciMN"
      },
      "source": [
        "**Ejercicio 3**\n",
        "\n",
        "Con loop while o for, realiza una lista de 10 numeros multiplos de 3, y después realiza una función de loop que sume todos los números dentro del arreglo."
      ]
    },
    {
      "cell_type": "code",
      "metadata": {
        "colab": {
          "base_uri": "https://localhost:8080/"
        },
        "id": "a61IuKp5c8_-",
        "outputId": "01d72d4f-abcc-4fa4-bb0e-3092d540c315"
      },
      "source": [
        "lista=[0,0,0,0,0,0,0,0,0,0]\n",
        "s=0\n",
        "for i in range(0,10):\n",
        "  lista[i]= 3*(i+1)\n",
        "\n",
        "print(lista)\n",
        "for i in range(0,10):\n",
        "  s=s+lista[i]\n",
        "\n",
        "print(\"La suma es:\",s)"
      ],
      "execution_count": 84,
      "outputs": [
        {
          "output_type": "stream",
          "text": [
            "[3, 6, 9, 12, 15, 18, 21, 24, 27, 30]\n",
            "La suma es: 165\n"
          ],
          "name": "stdout"
        }
      ]
    },
    {
      "cell_type": "markdown",
      "metadata": {
        "id": "7g6GrzAREZ24"
      },
      "source": [
        "**Ejercicio 4**\n",
        "\n",
        "*  Con una función de if else, revisar si un número es par o es impar.\n",
        "*   Con una función de if else, revisar si un número es primo o no.\n",
        "\n"
      ]
    },
    {
      "cell_type": "code",
      "metadata": {
        "colab": {
          "base_uri": "https://localhost:8080/"
        },
        "id": "haeQgSQYEdA4",
        "outputId": "8bcfef56-2bf0-4e6d-ea8a-eff2b33c3419"
      },
      "source": [
        "a = int(input(\"Introduce un número: \"))\n",
        "if a%2 != 0:\n",
        "    print(a, \"no es par.\")\n",
        "else:\n",
        "    print(a, \"es par.\")\n",
        "    \n",
        "c = 0\n",
        "for i in range(2,a):\n",
        "  if a % i == 0:\n",
        "    c=c+1 \n",
        " \n",
        "if c > 0 :\n",
        "  print(a,\"no es primo.\" )\n",
        "else:\n",
        "  print(a,\"es primo.\")"
      ],
      "execution_count": 83,
      "outputs": [
        {
          "output_type": "stream",
          "text": [
            "Introduce un número: 13\n",
            "13 no es par.\n",
            "13 es primo.\n"
          ],
          "name": "stdout"
        }
      ]
    },
    {
      "cell_type": "markdown",
      "metadata": {
        "id": "QqXF-v1wFy-x"
      },
      "source": [
        "**Ejercicio 5**\n",
        "\n",
        "Utilizando diferentes clases en python, crea una calculadora con los operadores básicos de suma, resta, multiplicación, división, y exponente."
      ]
    },
    {
      "cell_type": "code",
      "metadata": {
        "id": "dNDoYp1HF1Mw",
        "colab": {
          "base_uri": "https://localhost:8080/"
        },
        "outputId": "e8f372c9-64c0-472c-f676-747a501777b8"
      },
      "source": [
        "class Calc:\n",
        "  def __init__(self,a,b):\n",
        "    self.a=a\n",
        "    self.b=b\n",
        "  def suma(self):\n",
        "    return self.a + self.b\n",
        "  def resta(self):\n",
        "    return self.a - self.b\n",
        "  def mult(self):\n",
        "    return self.a * self.b\n",
        "  def div(self):\n",
        "    return self.a / self.b\n",
        "  def exp(self):\n",
        "    return self.a ** self.b\n",
        "\n",
        "a = int(input(\"Ingresa un número:\" ))\n",
        "b = int(input(\"Ingresa otro número: \"))\n",
        "nums=Calc(a,b)\n",
        "print(\"\\n\")\n",
        "print(a,\"+\",b,\"=\",nums.suma())\n",
        "print(a,\"-\",b,\"=\",nums.resta())\n",
        "print(a,\"x\",b,\"=\",nums.mult())\n",
        "print(a,\"÷\",b,\"=\",nums.div())\n",
        "print(a,\"^\",b,\"=\",nums.exp())"
      ],
      "execution_count": 89,
      "outputs": [
        {
          "output_type": "stream",
          "text": [
            "Ingresa un número:4\n",
            "Ingresa otro número: 5\n",
            "\n",
            "\n",
            "4 + 5 = 9\n",
            "4 - 5 = -1\n",
            "4 x 5 = 20\n",
            "4 ÷ 5 = 0.8\n",
            "4 ^ 5 = 1024\n"
          ],
          "name": "stdout"
        }
      ]
    },
    {
      "cell_type": "markdown",
      "metadata": {
        "id": "hWznmtkPHC4r"
      },
      "source": [
        "**Tuplas**\n",
        "\n",
        "Crear una variable flotante, integer, boleana y compleja e imprimir el tipo de variable que es."
      ]
    },
    {
      "cell_type": "code",
      "metadata": {
        "colab": {
          "base_uri": "https://localhost:8080/"
        },
        "id": "NQcwfoQVI2ci",
        "outputId": "582e3501-9c92-4dba-a6bc-78e657b1b1ea"
      },
      "source": [
        "a=3\n",
        "b=2.5\n",
        "c=True\n",
        "d=1+3j\n",
        "print(\"a:\",type(a))\n",
        "print(\"b:\",type(b))\n",
        "print(\"c:\",type(c))\n",
        "print(\"d:\",type(d))"
      ],
      "execution_count": 90,
      "outputs": [
        {
          "output_type": "stream",
          "text": [
            "a: <class 'int'>\n",
            "b: <class 'float'>\n",
            "c: <class 'bool'>\n",
            "d: <class 'complex'>\n"
          ],
          "name": "stdout"
        }
      ]
    },
    {
      "cell_type": "markdown",
      "metadata": {
        "id": "aOw_icWPRS-E"
      },
      "source": [
        "Crear una tupla con valores enteros imprimir el primer y ultimo valor.\n",
        "\n"
      ]
    },
    {
      "cell_type": "code",
      "metadata": {
        "colab": {
          "base_uri": "https://localhost:8080/"
        },
        "id": "soBKtd2DRVZz",
        "outputId": "8cab2f61-9237-4ce6-ef05-88cd89fa4f03"
      },
      "source": [
        "t=(1,3,8,6,2,5)\n",
        "print(\"Primer valor:\",t[0])\n",
        "print(\"Último valor:\",t[len(t)-1])"
      ],
      "execution_count": 91,
      "outputs": [
        {
          "output_type": "stream",
          "text": [
            "Primer valor: 1\n",
            "Último valor: 5\n"
          ],
          "name": "stdout"
        }
      ]
    },
    {
      "cell_type": "markdown",
      "metadata": {
        "id": "l2_91rk4SZY0"
      },
      "source": [
        "Añadir 3 valores de string a la tupla. "
      ]
    },
    {
      "cell_type": "code",
      "metadata": {
        "colab": {
          "base_uri": "https://localhost:8080/"
        },
        "id": "uxMI1mZ1SdAO",
        "outputId": "7c2bd3d9-93ce-4f89-f16f-a5f39597863f"
      },
      "source": [
        "t=(1,3,8,6,2,5)\n",
        "t.__add__((\"hola\",\"como\",\"estás\"))\n",
        "#https://www.w3schools.com/python/python_tuples.asp"
      ],
      "execution_count": 97,
      "outputs": [
        {
          "output_type": "execute_result",
          "data": {
            "text/plain": [
              "(1, 3, 8, 6, 2, 5, 'hola', 'como', 'estás')"
            ]
          },
          "metadata": {},
          "execution_count": 97
        }
      ]
    },
    {
      "cell_type": "markdown",
      "metadata": {
        "id": "8ibUVpwIVsd7"
      },
      "source": [
        "Verificar si una variable existe dentro de la tupla.\n",
        "\n"
      ]
    },
    {
      "cell_type": "code",
      "metadata": {
        "colab": {
          "base_uri": "https://localhost:8080/"
        },
        "id": "UZsW_31fVwae",
        "outputId": "31d5d852-b4df-4d1b-e491-06a8ac17b0e0"
      },
      "source": [
        "t=(1,3,8,6,2,5)\n",
        "a = int(input(\"Introduce un número: \"))\n",
        "if a in t:\n",
        "  print(a,\"está en la tupla.\")\n",
        "else:\n",
        "  print(a,\"no está en la tupla.\")"
      ],
      "execution_count": 93,
      "outputs": [
        {
          "output_type": "stream",
          "text": [
            "Introduce un número: 3\n",
            "3 está en la tupla.\n"
          ],
          "name": "stdout"
        }
      ]
    },
    {
      "cell_type": "markdown",
      "metadata": {
        "id": "3Itl8f4oWMyj"
      },
      "source": [
        "**Listas**\n",
        "\n",
        "\n",
        "\n",
        "*   Crear una lista con 40 elementos aleatorios enteros.\n",
        "*   Con una funcion (def) crear dos listas nuevas a partir de la lista creada por numeros aleatorios, en la cual en una esten los elementos pares, y en la otra los elementos impares.\n",
        "*   Crear dos variables con la longitud de ambas listas nuevas e imprimir las variables.\n",
        "*   Ordenar los elementos de la lista par de mayor a menor, y los de la lista impar de menor a mayor.\n",
        "*   Utilizar al menos cuatro de las funciones de listas en python en la lista original de 40 elementos."
      ]
    },
    {
      "cell_type": "code",
      "metadata": {
        "colab": {
          "base_uri": "https://localhost:8080/"
        },
        "id": "KXTrnejuXFPE",
        "outputId": "298bec8c-e962-49f4-ddf8-fc1c7eb07729"
      },
      "source": [
        "import random as r\n",
        "Lis = []\n",
        "for i in range (0,40):\n",
        "    Lis.append(r.randint(1,99))\n",
        "\n",
        "def n_pares(numeros):\n",
        "    pares = []\n",
        "    \n",
        "    for n in numeros:\n",
        "        if n % 2 == 0:\n",
        "            pares.append(n)\n",
        "            \n",
        "    return pares\n",
        "\n",
        "def n_impares(numeros):\n",
        "    impares = []\n",
        "    \n",
        "    for n in numeros:\n",
        "        if n % 2 != 0:\n",
        "            impares.append(n)\n",
        "            \n",
        "    return impares\n",
        "l_pares = n_pares(Lis)\n",
        "l_impares = n_impares(Lis)\n",
        "print(\"Pares:\",l_pares,\"\\nImpares:\",l_impares)\n",
        "x=len(l_pares)\n",
        "y=len(l_impares)\n",
        "print(\"Número de elementos en lista par:\",x,\"\\nNúmero de elementos en lista impar:\",y)\n",
        "l_pares.sort(reverse=True)\n",
        "l_impares.sort()\n",
        "print(\"Elementos ordenados lista par:\",l_pares,\"\\nElementos ordenados en lista impar:\",l_impares)\n",
        "Lis.sort()\n",
        "print(\"\\nLista original ordenada:\",Lis)\n",
        "Lis.append(100)\n",
        "print(\"Agregar un 100 al final de la lista:\",Lis)\n",
        "Lis.reverse()\n",
        "print(\"Invertir el orden de los elementos:\",Lis)\n",
        "Lis.remove(100)\n",
        "print(\"Eliminar el 100:\",Lis)\n",
        "#si hubiera más de un 100 esta función solo elimina la primer ocurrencia\n",
        "#https://www.w3schools.com/python/python_ref_list.asp"
      ],
      "execution_count": 98,
      "outputs": [
        {
          "output_type": "stream",
          "text": [
            "Pares: [84, 96, 70, 82, 30, 50, 68, 74, 66, 46, 36, 78, 38, 44, 16, 54, 34] \n",
            "Impares: [39, 11, 59, 81, 1, 67, 7, 57, 15, 93, 87, 13, 35, 67, 49, 19, 89, 67, 93, 49, 95, 35, 67]\n",
            "Número de elementos en lista par: 17 \n",
            "Número de elementos en lista impar: 23\n",
            "Elementos ordenados lista par: [96, 84, 82, 78, 74, 70, 68, 66, 54, 50, 46, 44, 38, 36, 34, 30, 16] \n",
            "Elementos ordenados en lista impar: [1, 7, 11, 13, 15, 19, 35, 35, 39, 49, 49, 57, 59, 67, 67, 67, 67, 81, 87, 89, 93, 93, 95]\n",
            "\n",
            "Lista original ordenada: [1, 7, 11, 13, 15, 16, 19, 30, 34, 35, 35, 36, 38, 39, 44, 46, 49, 49, 50, 54, 57, 59, 66, 67, 67, 67, 67, 68, 70, 74, 78, 81, 82, 84, 87, 89, 93, 93, 95, 96]\n",
            "Agregar un 100 al final de la lista: [1, 7, 11, 13, 15, 16, 19, 30, 34, 35, 35, 36, 38, 39, 44, 46, 49, 49, 50, 54, 57, 59, 66, 67, 67, 67, 67, 68, 70, 74, 78, 81, 82, 84, 87, 89, 93, 93, 95, 96, 100]\n",
            "Invertir el orden de los elementos: [100, 96, 95, 93, 93, 89, 87, 84, 82, 81, 78, 74, 70, 68, 67, 67, 67, 67, 66, 59, 57, 54, 50, 49, 49, 46, 44, 39, 38, 36, 35, 35, 34, 30, 19, 16, 15, 13, 11, 7, 1]\n",
            "Eliminar el 100: [96, 95, 93, 93, 89, 87, 84, 82, 81, 78, 74, 70, 68, 67, 67, 67, 67, 66, 59, 57, 54, 50, 49, 49, 46, 44, 39, 38, 36, 35, 35, 34, 30, 19, 16, 15, 13, 11, 7, 1]\n"
          ],
          "name": "stdout"
        }
      ]
    },
    {
      "cell_type": "markdown",
      "metadata": {
        "id": "She_rK-7d8Ek"
      },
      "source": [
        "**Diccionarios**\n",
        "\n",
        "\n",
        "\n",
        "*   Crear un diccionario de 6 personas que conozcas con su primer nombre y su edad.\n",
        "*   Crear una lista con los valores de la edad y reacomodar la lista de menor a mayor valor.\n",
        "*   Usando el diccionario y un loop, imprimir solo los nombres.\n",
        "*   Añadir dos personas nuevas a tu diccionario, incluyendo edad."
      ]
    },
    {
      "cell_type": "code",
      "metadata": {
        "colab": {
          "base_uri": "https://localhost:8080/"
        },
        "id": "VFHjbePSDvEI",
        "outputId": "6d01d639-e196-40b8-90e3-476ee5792e03"
      },
      "source": [
        "dic = {\"Ximena\":20,\"Diego\":20,\"Ana\":23,\"José\":19,\"Enrique\":21,\"Vanessa\":21}\n",
        "\n",
        "e = []\n",
        "for key, value in dic.items():\n",
        "    e.append(value)\n",
        "e.sort()\n",
        "print(e)\n",
        "\n",
        "for key, value in dic.items():\n",
        "  print(key,end=\", \")\n",
        "\n",
        "dic[\"Gabriel\"]=18\n",
        "dic[\"Abigail\"]=22\n",
        "print(\"\\n\",dic)\n",
        "#https://careerkarma.com/blog/python-add-to-dictionary/"
      ],
      "execution_count": 94,
      "outputs": [
        {
          "output_type": "stream",
          "text": [
            "[19, 20, 20, 21, 21, 23]\n",
            "Ximena, Diego, Ana, José, Enrique, Vanessa, \n",
            " {'Ximena': 20, 'Diego': 20, 'Ana': 23, 'José': 19, 'Enrique': 21, 'Vanessa': 21, 'Gabriel': 18, 'Abigail': 22}\n"
          ],
          "name": "stdout"
        }
      ]
    },
    {
      "cell_type": "markdown",
      "metadata": {
        "id": "8a_axiFQLir3"
      },
      "source": [
        "**Sets**\n",
        "\n",
        "*   Crea un set con 100 numeros aleatorios enteros del 1 al 25.\n",
        "*   Comprueba la longitud de tu set.\n",
        "*   Crea una lista de 5 numeros aleatorios del 1 al 10 y comprueba si cada valor aparece en el set inicial.\n",
        "\n",
        "\n",
        "\n",
        "\n",
        "\n",
        "\n"
      ]
    },
    {
      "cell_type": "code",
      "metadata": {
        "colab": {
          "base_uri": "https://localhost:8080/"
        },
        "id": "QpwkU_b7NZEl",
        "outputId": "302f41a8-4d6e-4fec-b8fe-4111c03a5c27"
      },
      "source": [
        "import random as r\n",
        "L = []\n",
        "for i in range (0,100):\n",
        "    L.append(r.randint(1, 25))\n",
        "\n",
        "s = set(L)\n",
        "print(s)\n",
        "#El set no permite duplicados por eso la longitud no es de 100.\n",
        "print(len(s))\n",
        "\n",
        "x = []\n",
        "for i in range (0,5):\n",
        "    x.append(r.randint(1, 10))\n",
        "print(x)\n",
        "\n",
        "for i in range (0,5):\n",
        "  if x[i] in s:\n",
        "    print(x[i],\"está en el set.\")\n",
        "  else:\n",
        "    print(x[i],\"no está en el set.\")\n",
        "\n",
        "#https://www.w3schools.com/python/python_sets.asp"
      ],
      "execution_count": 95,
      "outputs": [
        {
          "output_type": "stream",
          "text": [
            "{1, 2, 3, 4, 5, 6, 7, 8, 9, 10, 11, 12, 13, 14, 15, 16, 17, 18, 19, 20, 21, 22, 23, 24, 25}\n",
            "25\n",
            "[8, 4, 10, 3, 5]\n",
            "8 está en el set.\n",
            "4 está en el set.\n",
            "10 está en el set.\n",
            "3 está en el set.\n",
            "5 está en el set.\n"
          ],
          "name": "stdout"
        }
      ]
    }
  ]
}